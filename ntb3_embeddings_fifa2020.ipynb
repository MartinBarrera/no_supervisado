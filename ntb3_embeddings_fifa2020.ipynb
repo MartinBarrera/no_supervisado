{
 "cells": [
  {
   "cell_type": "markdown",
   "metadata": {
    "slideshow": {
     "slide_type": "slide"
    }
   },
   "source": [
    "<center>\n",
    "<img src=\"FIFA-19-Background-1-768x401.jpg\" />\n",
    "    \n",
    "## Aprendizaje No Supervisado 2020 DiploDatos\n",
    "    Laura Alonso Alemany, Ana Georgina Flesia y Valeria Rulloni\n",
    "## Agrupamiento con el FIFA 2019 dataset\n",
    "    \n",
    "Material basado en notas de Ana Georgina Flesia bajo los términos y condiciones de la licencia [Creative Commons CC BY-NC-SA 4.0](https://creativecommons.org/licenses/by-nc-sa/4.0/), a su vez basado de material de [SilveMel](https://www.kaggle.com/karangadiya/fifa19/downloads/data.csv/comments) y otros."
   ]
  },
  {
   "cell_type": "markdown",
   "metadata": {
    "slideshow": {
     "slide_type": "skip"
    }
   },
   "source": [
    "### Indice de temas\n",
    "1. [Inicialización del entorno](#1.-Inicialización-del-entorno)\n",
    "2. [Preparación de los datos](#2.-Preparación-de-los-datos)\n",
    "3. [Visualizacion con embeddings:tSNE](#3.-Visualizacion-con-embeddings:tSNE)\n",
    "4. [Componentes Principales](#4.-Componentes-Principales)\n",
    "5. [Clustering](#5.-Clustering)\n"
   ]
  },
  {
   "cell_type": "markdown",
   "metadata": {
    "slideshow": {
     "slide_type": "slide"
    }
   },
   "source": [
    "## 1.-Inicialización-del-entorno"
   ]
  },
  {
   "cell_type": "markdown",
   "metadata": {
    "slideshow": {
     "slide_type": "fragment"
    }
   },
   "source": [
    "Empezamos cargando algunas herramientas para cargar los datos y manipularlos."
   ]
  },
  {
   "cell_type": "code",
   "execution_count": 1,
   "metadata": {
    "_cell_guid": "79c7e3d0-c299-4dcb-8224-4455121ee9b0",
    "_uuid": "d629ff2d2480ee46fbb7e2d37f6b5fab8052498a",
    "slideshow": {
     "slide_type": "fragment"
    }
   },
   "outputs": [],
   "source": [
    "import numpy as np\n",
    "import pandas as pd\n",
    "pd.set_option('display.max_columns',100)\n",
    "pd.set_option('display.max_rows',1000)\n",
    "import itertools\n",
    "import warnings\n",
    "warnings.filterwarnings(\"ignore\")\n",
    "import io"
   ]
  },
  {
   "cell_type": "code",
   "execution_count": 2,
   "metadata": {
    "scrolled": true,
    "slideshow": {
     "slide_type": "fragment"
    }
   },
   "outputs": [
    {
     "data": {
      "text/html": [
       "        <script type=\"text/javascript\">\n",
       "        window.PlotlyConfig = {MathJaxConfig: 'local'};\n",
       "        if (window.MathJax) {MathJax.Hub.Config({SVG: {font: \"STIX-Web\"}});}\n",
       "        if (typeof require !== 'undefined') {\n",
       "        require.undef(\"plotly\");\n",
       "        requirejs.config({\n",
       "            paths: {\n",
       "                'plotly': ['https://cdn.plot.ly/plotly-latest.min']\n",
       "            }\n",
       "        });\n",
       "        require(['plotly'], function(Plotly) {\n",
       "            window._Plotly = Plotly;\n",
       "        });\n",
       "        }\n",
       "        </script>\n",
       "        "
      ]
     },
     "metadata": {},
     "output_type": "display_data"
    }
   ],
   "source": [
    "from plotly.offline import init_notebook_mode, plot,iplot\n",
    "import plotly.graph_objs as go\n",
    "init_notebook_mode(connected=True)\n",
    "import matplotlib.pyplot as plt\n",
    "import plotly.tools as tls#visualization\n",
    "import plotly.figure_factory as ff#visualization\n",
    "import seaborn as sns"
   ]
  },
  {
   "cell_type": "markdown",
   "metadata": {
    "slideshow": {
     "slide_type": "slide"
    }
   },
   "source": [
    "## 2.-Preparación-de-los-datos"
   ]
  },
  {
   "cell_type": "markdown",
   "metadata": {
    "slideshow": {
     "slide_type": "fragment"
    }
   },
   "source": [
    "Cargamos los datos bajados de la database de [Kaggle](https://www.kaggle.com/karangadiya/fifa19) como 'data.csv'. "
   ]
  },
  {
   "cell_type": "code",
   "execution_count": 129,
   "metadata": {
    "slideshow": {
     "slide_type": "fragment"
    }
   },
   "outputs": [],
   "source": [
    "df=pd.read_csv(\"players_20.csv\")\n",
    "df['prefered_position'] = df.player_positions.str.split(',').apply(lambda l: l[0])"
   ]
  },
  {
   "cell_type": "markdown",
   "metadata": {
    "slideshow": {
     "slide_type": "fragment"
    }
   },
   "source": [
    "# 3.-Visualizacion-con-embeddings:tSNE"
   ]
  },
  {
   "cell_type": "markdown",
   "metadata": {
    "slideshow": {
     "slide_type": "fragment"
    }
   },
   "source": [
    "**t-SNE : t-distributed Stochastic Neighbor Embedding.**\n",
    "\n",
    "t-SNE es una herramienta para visualizar datos altamente dimensionales. \n",
    "\n",
    "Los \"proyecta\" en menos dimensiones (2D o 3D) manteniendo la distancia entre ellos.\n",
    "\n",
    "Consideramos: filas/observaciones $x_i$ y $x_j$ (jugador i y jugador j) en $R^n$.\n",
    "\n",
    "Comienza convirtiendo distancias entre puntos (observaciones) en probabilidades condicionales. \n",
    "\n",
    "$d(x_i,x_j) \\rightarrow p(x_j|x_i)$, \n",
    "\n",
    "Y luego va acomodando puntos asociados (en el plano 2D o el espacio 2D) que \"ajusten\" las probabilidades condicionales.\n",
    "\n",
    "$x'_i$ y $x'_j$ en $R^2$  (para el jugador i y jugador j ) $p(x'_j|x'_i) \\leftrightarrow d(x'_i,x'_j)$, \n",
    "\n",
    "$p(x_j|x_i) \\approx p(x'_j|x'_i)$\n",
    "\n",
    "El ajuste consiste en minimizar la divergencia the Kullback-Leibler entre las probabilidades condicionales establecidas en el espacio de mayor dimension y las determinadas en el espacio de menor dimension. \n",
    "\n",
    "\n",
    "El modelo de distribución de probabilidad es el de t-Student \n",
    "\n",
    "t-SNE tiene una función de costo que no es convexa, por lo cual diferentes inicializaciones pueden dar diferentes resultados.\n"
   ]
  },
  {
   "cell_type": "code",
   "execution_count": 97,
   "metadata": {
    "slideshow": {
     "slide_type": "fragment"
    }
   },
   "outputs": [
    {
     "name": "stdout",
     "output_type": "stream",
     "text": [
      "dimensión del espacio de los datos:  46\n"
     ]
    }
   ],
   "source": [
    "n_sne=4000 #elegir numero pequeño para agilidad en el cálculo luego\n",
    "df_sne=df.loc[:n_sne]\n",
    "\n",
    "skills_ratings = [#'age', 'height_cm', 'weight_kg',\n",
    "       #'potential', #'value_eur', 'wage_eur',\n",
    "       #'weak_foot', 'skill_moves',\n",
    "       #'release_clause_eur',\n",
    "       'pace', 'shooting', 'passing', 'dribbling', 'defending', 'physic',\n",
    "       'gk_diving', 'gk_handling', 'gk_kicking', 'gk_reflexes', 'gk_speed',\n",
    "       'gk_positioning', 'attacking_crossing', 'attacking_finishing',\n",
    "       'attacking_heading_accuracy', 'attacking_short_passing',\n",
    "       'attacking_volleys', 'skill_dribbling', 'skill_curve',\n",
    "       'skill_fk_accuracy', 'skill_long_passing', 'skill_ball_control',\n",
    "       'movement_acceleration', 'movement_sprint_speed', 'movement_agility',\n",
    "       'movement_reactions', 'movement_balance', 'power_shot_power',\n",
    "       'power_jumping', 'power_stamina', 'power_strength', 'power_long_shots',\n",
    "       'mentality_aggression', 'mentality_interceptions',\n",
    "       'mentality_positioning', 'mentality_vision', 'mentality_penalties',\n",
    "       'mentality_composure', 'defending_marking', 'defending_standing_tackle',\n",
    "       'defending_sliding_tackle', 'goalkeeping_diving',\n",
    "       'goalkeeping_handling', 'goalkeeping_kicking',\n",
    "       'goalkeeping_positioning', 'goalkeeping_reflexes',]\n",
    "X=df_sne[skills_ratings]\n",
    "X.fillna(0, inplace=True)\n",
    "print('dimensión del espacio de los datos: ', len(skills_ratings))"
   ]
  },
  {
   "cell_type": "code",
   "execution_count": 98,
   "metadata": {},
   "outputs": [
    {
     "data": {
      "text/html": [
       "<div>\n",
       "<style scoped>\n",
       "    .dataframe tbody tr th:only-of-type {\n",
       "        vertical-align: middle;\n",
       "    }\n",
       "\n",
       "    .dataframe tbody tr th {\n",
       "        vertical-align: top;\n",
       "    }\n",
       "\n",
       "    .dataframe thead th {\n",
       "        text-align: right;\n",
       "    }\n",
       "</style>\n",
       "<table border=\"1\" class=\"dataframe\">\n",
       "  <thead>\n",
       "    <tr style=\"text-align: right;\">\n",
       "      <th></th>\n",
       "      <th>pace</th>\n",
       "      <th>shooting</th>\n",
       "      <th>passing</th>\n",
       "      <th>dribbling</th>\n",
       "      <th>defending</th>\n",
       "      <th>physic</th>\n",
       "      <th>gk_diving</th>\n",
       "      <th>gk_handling</th>\n",
       "      <th>gk_kicking</th>\n",
       "      <th>gk_reflexes</th>\n",
       "      <th>gk_speed</th>\n",
       "      <th>gk_positioning</th>\n",
       "      <th>attacking_crossing</th>\n",
       "      <th>attacking_finishing</th>\n",
       "      <th>attacking_heading_accuracy</th>\n",
       "      <th>attacking_short_passing</th>\n",
       "      <th>attacking_volleys</th>\n",
       "      <th>skill_dribbling</th>\n",
       "      <th>skill_curve</th>\n",
       "      <th>skill_fk_accuracy</th>\n",
       "      <th>skill_long_passing</th>\n",
       "      <th>skill_ball_control</th>\n",
       "      <th>movement_acceleration</th>\n",
       "      <th>movement_sprint_speed</th>\n",
       "      <th>movement_agility</th>\n",
       "      <th>movement_reactions</th>\n",
       "      <th>movement_balance</th>\n",
       "      <th>power_shot_power</th>\n",
       "      <th>power_jumping</th>\n",
       "      <th>power_stamina</th>\n",
       "      <th>power_strength</th>\n",
       "      <th>power_long_shots</th>\n",
       "      <th>mentality_aggression</th>\n",
       "      <th>mentality_interceptions</th>\n",
       "      <th>mentality_positioning</th>\n",
       "      <th>mentality_vision</th>\n",
       "      <th>mentality_penalties</th>\n",
       "      <th>mentality_composure</th>\n",
       "      <th>defending_marking</th>\n",
       "      <th>defending_standing_tackle</th>\n",
       "      <th>defending_sliding_tackle</th>\n",
       "      <th>goalkeeping_diving</th>\n",
       "      <th>goalkeeping_handling</th>\n",
       "      <th>goalkeeping_kicking</th>\n",
       "      <th>goalkeeping_positioning</th>\n",
       "      <th>goalkeeping_reflexes</th>\n",
       "    </tr>\n",
       "  </thead>\n",
       "  <tbody>\n",
       "    <tr>\n",
       "      <th>0</th>\n",
       "      <td>87.0</td>\n",
       "      <td>92.0</td>\n",
       "      <td>92.0</td>\n",
       "      <td>96.0</td>\n",
       "      <td>39.0</td>\n",
       "      <td>66.0</td>\n",
       "      <td>0.0</td>\n",
       "      <td>0.0</td>\n",
       "      <td>0.0</td>\n",
       "      <td>0.0</td>\n",
       "      <td>0.0</td>\n",
       "      <td>0.0</td>\n",
       "      <td>88</td>\n",
       "      <td>95</td>\n",
       "      <td>70</td>\n",
       "      <td>92</td>\n",
       "      <td>88</td>\n",
       "      <td>97</td>\n",
       "      <td>93</td>\n",
       "      <td>94</td>\n",
       "      <td>92</td>\n",
       "      <td>96</td>\n",
       "      <td>91</td>\n",
       "      <td>84</td>\n",
       "      <td>93</td>\n",
       "      <td>95</td>\n",
       "      <td>95</td>\n",
       "      <td>86</td>\n",
       "      <td>68</td>\n",
       "      <td>75</td>\n",
       "      <td>68</td>\n",
       "      <td>94</td>\n",
       "      <td>48</td>\n",
       "      <td>40</td>\n",
       "      <td>94</td>\n",
       "      <td>94</td>\n",
       "      <td>75</td>\n",
       "      <td>96</td>\n",
       "      <td>33</td>\n",
       "      <td>37</td>\n",
       "      <td>26</td>\n",
       "      <td>6</td>\n",
       "      <td>11</td>\n",
       "      <td>15</td>\n",
       "      <td>14</td>\n",
       "      <td>8</td>\n",
       "    </tr>\n",
       "    <tr>\n",
       "      <th>1</th>\n",
       "      <td>90.0</td>\n",
       "      <td>93.0</td>\n",
       "      <td>82.0</td>\n",
       "      <td>89.0</td>\n",
       "      <td>35.0</td>\n",
       "      <td>78.0</td>\n",
       "      <td>0.0</td>\n",
       "      <td>0.0</td>\n",
       "      <td>0.0</td>\n",
       "      <td>0.0</td>\n",
       "      <td>0.0</td>\n",
       "      <td>0.0</td>\n",
       "      <td>84</td>\n",
       "      <td>94</td>\n",
       "      <td>89</td>\n",
       "      <td>83</td>\n",
       "      <td>87</td>\n",
       "      <td>89</td>\n",
       "      <td>81</td>\n",
       "      <td>76</td>\n",
       "      <td>77</td>\n",
       "      <td>92</td>\n",
       "      <td>89</td>\n",
       "      <td>91</td>\n",
       "      <td>87</td>\n",
       "      <td>96</td>\n",
       "      <td>71</td>\n",
       "      <td>95</td>\n",
       "      <td>95</td>\n",
       "      <td>85</td>\n",
       "      <td>78</td>\n",
       "      <td>93</td>\n",
       "      <td>63</td>\n",
       "      <td>29</td>\n",
       "      <td>95</td>\n",
       "      <td>82</td>\n",
       "      <td>85</td>\n",
       "      <td>95</td>\n",
       "      <td>28</td>\n",
       "      <td>32</td>\n",
       "      <td>24</td>\n",
       "      <td>7</td>\n",
       "      <td>11</td>\n",
       "      <td>15</td>\n",
       "      <td>14</td>\n",
       "      <td>11</td>\n",
       "    </tr>\n",
       "    <tr>\n",
       "      <th>2</th>\n",
       "      <td>91.0</td>\n",
       "      <td>85.0</td>\n",
       "      <td>87.0</td>\n",
       "      <td>95.0</td>\n",
       "      <td>32.0</td>\n",
       "      <td>58.0</td>\n",
       "      <td>0.0</td>\n",
       "      <td>0.0</td>\n",
       "      <td>0.0</td>\n",
       "      <td>0.0</td>\n",
       "      <td>0.0</td>\n",
       "      <td>0.0</td>\n",
       "      <td>87</td>\n",
       "      <td>87</td>\n",
       "      <td>62</td>\n",
       "      <td>87</td>\n",
       "      <td>87</td>\n",
       "      <td>96</td>\n",
       "      <td>88</td>\n",
       "      <td>87</td>\n",
       "      <td>81</td>\n",
       "      <td>95</td>\n",
       "      <td>94</td>\n",
       "      <td>89</td>\n",
       "      <td>96</td>\n",
       "      <td>92</td>\n",
       "      <td>84</td>\n",
       "      <td>80</td>\n",
       "      <td>61</td>\n",
       "      <td>81</td>\n",
       "      <td>49</td>\n",
       "      <td>84</td>\n",
       "      <td>51</td>\n",
       "      <td>36</td>\n",
       "      <td>87</td>\n",
       "      <td>90</td>\n",
       "      <td>90</td>\n",
       "      <td>94</td>\n",
       "      <td>27</td>\n",
       "      <td>26</td>\n",
       "      <td>29</td>\n",
       "      <td>9</td>\n",
       "      <td>9</td>\n",
       "      <td>15</td>\n",
       "      <td>15</td>\n",
       "      <td>11</td>\n",
       "    </tr>\n",
       "    <tr>\n",
       "      <th>3</th>\n",
       "      <td>0.0</td>\n",
       "      <td>0.0</td>\n",
       "      <td>0.0</td>\n",
       "      <td>0.0</td>\n",
       "      <td>0.0</td>\n",
       "      <td>0.0</td>\n",
       "      <td>87.0</td>\n",
       "      <td>92.0</td>\n",
       "      <td>78.0</td>\n",
       "      <td>89.0</td>\n",
       "      <td>52.0</td>\n",
       "      <td>90.0</td>\n",
       "      <td>13</td>\n",
       "      <td>11</td>\n",
       "      <td>15</td>\n",
       "      <td>43</td>\n",
       "      <td>13</td>\n",
       "      <td>12</td>\n",
       "      <td>13</td>\n",
       "      <td>14</td>\n",
       "      <td>40</td>\n",
       "      <td>30</td>\n",
       "      <td>43</td>\n",
       "      <td>60</td>\n",
       "      <td>67</td>\n",
       "      <td>88</td>\n",
       "      <td>49</td>\n",
       "      <td>59</td>\n",
       "      <td>78</td>\n",
       "      <td>41</td>\n",
       "      <td>78</td>\n",
       "      <td>12</td>\n",
       "      <td>34</td>\n",
       "      <td>19</td>\n",
       "      <td>11</td>\n",
       "      <td>65</td>\n",
       "      <td>11</td>\n",
       "      <td>68</td>\n",
       "      <td>27</td>\n",
       "      <td>12</td>\n",
       "      <td>18</td>\n",
       "      <td>87</td>\n",
       "      <td>92</td>\n",
       "      <td>78</td>\n",
       "      <td>90</td>\n",
       "      <td>89</td>\n",
       "    </tr>\n",
       "    <tr>\n",
       "      <th>4</th>\n",
       "      <td>91.0</td>\n",
       "      <td>83.0</td>\n",
       "      <td>86.0</td>\n",
       "      <td>94.0</td>\n",
       "      <td>35.0</td>\n",
       "      <td>66.0</td>\n",
       "      <td>0.0</td>\n",
       "      <td>0.0</td>\n",
       "      <td>0.0</td>\n",
       "      <td>0.0</td>\n",
       "      <td>0.0</td>\n",
       "      <td>0.0</td>\n",
       "      <td>81</td>\n",
       "      <td>84</td>\n",
       "      <td>61</td>\n",
       "      <td>89</td>\n",
       "      <td>83</td>\n",
       "      <td>95</td>\n",
       "      <td>83</td>\n",
       "      <td>79</td>\n",
       "      <td>83</td>\n",
       "      <td>94</td>\n",
       "      <td>94</td>\n",
       "      <td>88</td>\n",
       "      <td>95</td>\n",
       "      <td>90</td>\n",
       "      <td>94</td>\n",
       "      <td>82</td>\n",
       "      <td>56</td>\n",
       "      <td>84</td>\n",
       "      <td>63</td>\n",
       "      <td>80</td>\n",
       "      <td>54</td>\n",
       "      <td>41</td>\n",
       "      <td>87</td>\n",
       "      <td>89</td>\n",
       "      <td>88</td>\n",
       "      <td>91</td>\n",
       "      <td>34</td>\n",
       "      <td>27</td>\n",
       "      <td>22</td>\n",
       "      <td>11</td>\n",
       "      <td>12</td>\n",
       "      <td>6</td>\n",
       "      <td>8</td>\n",
       "      <td>8</td>\n",
       "    </tr>\n",
       "  </tbody>\n",
       "</table>\n",
       "</div>"
      ],
      "text/plain": [
       "   pace  shooting  passing  dribbling  defending  physic  gk_diving  \\\n",
       "0  87.0      92.0     92.0       96.0       39.0    66.0        0.0   \n",
       "1  90.0      93.0     82.0       89.0       35.0    78.0        0.0   \n",
       "2  91.0      85.0     87.0       95.0       32.0    58.0        0.0   \n",
       "3   0.0       0.0      0.0        0.0        0.0     0.0       87.0   \n",
       "4  91.0      83.0     86.0       94.0       35.0    66.0        0.0   \n",
       "\n",
       "   gk_handling  gk_kicking  gk_reflexes  gk_speed  gk_positioning  \\\n",
       "0          0.0         0.0          0.0       0.0             0.0   \n",
       "1          0.0         0.0          0.0       0.0             0.0   \n",
       "2          0.0         0.0          0.0       0.0             0.0   \n",
       "3         92.0        78.0         89.0      52.0            90.0   \n",
       "4          0.0         0.0          0.0       0.0             0.0   \n",
       "\n",
       "   attacking_crossing  attacking_finishing  attacking_heading_accuracy  \\\n",
       "0                  88                   95                          70   \n",
       "1                  84                   94                          89   \n",
       "2                  87                   87                          62   \n",
       "3                  13                   11                          15   \n",
       "4                  81                   84                          61   \n",
       "\n",
       "   attacking_short_passing  attacking_volleys  skill_dribbling  skill_curve  \\\n",
       "0                       92                 88               97           93   \n",
       "1                       83                 87               89           81   \n",
       "2                       87                 87               96           88   \n",
       "3                       43                 13               12           13   \n",
       "4                       89                 83               95           83   \n",
       "\n",
       "   skill_fk_accuracy  skill_long_passing  skill_ball_control  \\\n",
       "0                 94                  92                  96   \n",
       "1                 76                  77                  92   \n",
       "2                 87                  81                  95   \n",
       "3                 14                  40                  30   \n",
       "4                 79                  83                  94   \n",
       "\n",
       "   movement_acceleration  movement_sprint_speed  movement_agility  \\\n",
       "0                     91                     84                93   \n",
       "1                     89                     91                87   \n",
       "2                     94                     89                96   \n",
       "3                     43                     60                67   \n",
       "4                     94                     88                95   \n",
       "\n",
       "   movement_reactions  movement_balance  power_shot_power  power_jumping  \\\n",
       "0                  95                95                86             68   \n",
       "1                  96                71                95             95   \n",
       "2                  92                84                80             61   \n",
       "3                  88                49                59             78   \n",
       "4                  90                94                82             56   \n",
       "\n",
       "   power_stamina  power_strength  power_long_shots  mentality_aggression  \\\n",
       "0             75              68                94                    48   \n",
       "1             85              78                93                    63   \n",
       "2             81              49                84                    51   \n",
       "3             41              78                12                    34   \n",
       "4             84              63                80                    54   \n",
       "\n",
       "   mentality_interceptions  mentality_positioning  mentality_vision  \\\n",
       "0                       40                     94                94   \n",
       "1                       29                     95                82   \n",
       "2                       36                     87                90   \n",
       "3                       19                     11                65   \n",
       "4                       41                     87                89   \n",
       "\n",
       "   mentality_penalties  mentality_composure  defending_marking  \\\n",
       "0                   75                   96                 33   \n",
       "1                   85                   95                 28   \n",
       "2                   90                   94                 27   \n",
       "3                   11                   68                 27   \n",
       "4                   88                   91                 34   \n",
       "\n",
       "   defending_standing_tackle  defending_sliding_tackle  goalkeeping_diving  \\\n",
       "0                         37                        26                   6   \n",
       "1                         32                        24                   7   \n",
       "2                         26                        29                   9   \n",
       "3                         12                        18                  87   \n",
       "4                         27                        22                  11   \n",
       "\n",
       "   goalkeeping_handling  goalkeeping_kicking  goalkeeping_positioning  \\\n",
       "0                    11                   15                       14   \n",
       "1                    11                   15                       14   \n",
       "2                     9                   15                       15   \n",
       "3                    92                   78                       90   \n",
       "4                    12                    6                        8   \n",
       "\n",
       "   goalkeeping_reflexes  \n",
       "0                     8  \n",
       "1                    11  \n",
       "2                    11  \n",
       "3                    89  \n",
       "4                     8  "
      ]
     },
     "execution_count": 98,
     "metadata": {},
     "output_type": "execute_result"
    }
   ],
   "source": [
    "X.head(5)"
   ]
  },
  {
   "cell_type": "markdown",
   "metadata": {},
   "source": [
    "Trasnformamos el espacio de dim 34 en un espacio de dimensión 2 (n_components=2)"
   ]
  },
  {
   "cell_type": "code",
   "execution_count": 99,
   "metadata": {
    "slideshow": {
     "slide_type": "slide"
    }
   },
   "outputs": [
    {
     "name": "stdout",
     "output_type": "stream",
     "text": [
      "[t-SNE] Computing 91 nearest neighbors...\n",
      "[t-SNE] Indexed 4001 samples in 0.089s...\n",
      "[t-SNE] Computed neighbors for 4001 samples in 1.291s...\n",
      "[t-SNE] Computed conditional probabilities for sample 1000 / 4001\n",
      "[t-SNE] Computed conditional probabilities for sample 2000 / 4001\n",
      "[t-SNE] Computed conditional probabilities for sample 3000 / 4001\n",
      "[t-SNE] Computed conditional probabilities for sample 4000 / 4001\n",
      "[t-SNE] Computed conditional probabilities for sample 4001 / 4001\n",
      "[t-SNE] Mean sigma: 13.422005\n",
      "[t-SNE] KL divergence after 250 iterations with early exaggeration: 73.773071\n",
      "[t-SNE] KL divergence after 1000 iterations: 1.689834\n",
      "t-SNE done! Time elapsed: 26.08390522003174 seconds\n"
     ]
    }
   ],
   "source": [
    "from sklearn import (manifold, decomposition)\n",
    "\n",
    "import time\n",
    "time_start = time.time()\n",
    "\n",
    "tsne = manifold.TSNE(n_components=2, verbose=1,perplexity=30, n_iter=1000)\n",
    "X_tsne = tsne.fit_transform(X)\n",
    "\n",
    "print ('t-SNE done! Time elapsed: {} seconds'.format(time.time()-time_start))"
   ]
  },
  {
   "cell_type": "markdown",
   "metadata": {},
   "source": [
    "**El resultado (X_tsne) se guarda en una arreglo numpy**\n",
    "\n",
    "de tamaño:\n",
    "\n",
    "cantidad de filas = cantidad de jugadores considerados = n_tsne y\n",
    "\n",
    "cantidad de columnas= n_components = 2 "
   ]
  },
  {
   "cell_type": "code",
   "execution_count": 100,
   "metadata": {},
   "outputs": [
    {
     "data": {
      "text/plain": [
       "array([[-33.40232  , -16.385258 ],\n",
       "       [ 26.537992 ,   1.989571 ],\n",
       "       [-75.99624  ,   6.8400297],\n",
       "       [-67.519875 ,   8.468876 ],\n",
       "       [-48.233307 ,   1.3151138],\n",
       "       [-76.2432   ,  14.1769705],\n",
       "       [-41.006413 ,  -2.833104 ],\n",
       "       [ 24.394388 ,  10.239416 ],\n",
       "       [ 52.569233 ,  29.977766 ],\n",
       "       [  7.0435076,  -8.465607 ]], dtype=float32)"
      ]
     },
     "execution_count": 100,
     "metadata": {},
     "output_type": "execute_result"
    }
   ],
   "source": [
    "X_tsne[1990:2000] #diez jugadores"
   ]
  },
  {
   "cell_type": "markdown",
   "metadata": {},
   "source": [
    "**GRAFICAMOS: Scatter plot** \n",
    "\n",
    "Las variables que usamos para el scatterplot son las 2 componentes dadas por tSNE\n",
    "\n",
    "agregamos los nombres de los ckack (\"Overall\" más de 85) y vemos una tercera variable recorriendo los puntos sobre el gráfico"
   ]
  },
  {
   "cell_type": "code",
   "execution_count": 101,
   "metadata": {},
   "outputs": [
    {
     "data": {
      "text/plain": [
       "'temp-plot.html'"
      ]
     },
     "execution_count": 101,
     "metadata": {},
     "output_type": "execute_result"
    }
   ],
   "source": [
    "data=[]\n",
    "bool_crack=df_sne[\"overall\"] > 85 #diferenciamos a los mejores jugadores\n",
    "\n",
    "#graficamos los datos en el espacio transformado: las dos componentes tsne\n",
    "\n",
    "graf1 = go.Scatter(x=X_tsne[:,0], y=X_tsne[:,1],\n",
    "                           mode='markers',\n",
    "                        text=df_sne.loc[:,'prefered_position'], #'Height', 'Weight', 'Club', 'Age', 'Name','Position'\n",
    "                           marker=dict(\n",
    "                                size=5)\n",
    "                           )\n",
    "\n",
    "crack =go.Scatter(x=X_tsne[bool_crack,0], y=X_tsne[bool_crack,1],name='Los más mejores',\n",
    "                      text=df_sne.loc[bool_crack,'short_name'],\n",
    "                      textfont=dict(family='sans serif',size=10,color='black'),\n",
    "                      opacity=0.9,mode='text')\n",
    "\n",
    "data=[graf1,crack]\n",
    "\n",
    "layout = go.Layout(title=\"Visualización de la base en el espacio tsne\",titlefont=dict(size=20),\n",
    "                xaxis=dict(title='componente 1'),\n",
    "                yaxis=dict(title='componente 2'),\n",
    "                autosize=False, width=1000,height=1000)\n",
    "\n",
    "fig = go.Figure(data=data, layout=layout)\n",
    "\n",
    "#iplot(fig)\n",
    "plot(fig)"
   ]
  },
  {
   "cell_type": "markdown",
   "metadata": {
    "slideshow": {
     "slide_type": "slide"
    }
   },
   "source": [
    "**INTERPRETACIÓN**\n",
    "\n",
    "Un poco de análisis visual supervisado usando tsne\n",
    "\n",
    "Ponemos a prueba la intuición o preconcepto de que los jugadores se agrupan en el espacio de las habilidades (transformado/reducido por tsne) según la posición... \n",
    "\n",
    "Creamos una nueva columna con 4 categorias de posiciones:"
   ]
  },
  {
   "cell_type": "code",
   "execution_count": 102,
   "metadata": {},
   "outputs": [],
   "source": [
    "forwards=['ST','CF','RW','LW']\n",
    "midfielders=['CAM','RM','CM','RM','LM','CDM']\n",
    "defenders=['RWB','RB','CB','LB','LWB']\n",
    "goalkeepers=['GK']\n",
    "\n",
    "def pos2(position):\n",
    "    if position in forwards:\n",
    "        return 'Forward'\n",
    "    \n",
    "    elif position in midfielders:\n",
    "        return 'Midfielder'\n",
    "    \n",
    "    elif position in defenders:\n",
    "        return 'Defender'\n",
    "    \n",
    "    elif position in goalkeepers:\n",
    "        return 'GK'\n",
    "    \n",
    "    else:\n",
    "        return 'nan'"
   ]
  },
  {
   "cell_type": "code",
   "execution_count": 103,
   "metadata": {
    "slideshow": {
     "slide_type": "fragment"
    }
   },
   "outputs": [
    {
     "data": {
      "text/plain": [
       "Midfielder    1572\n",
       "Defender      1218\n",
       "Forward        834\n",
       "GK             377\n",
       "Name: Position2, dtype: int64"
      ]
     },
     "execution_count": 103,
     "metadata": {},
     "output_type": "execute_result"
    }
   ],
   "source": [
    "df_sne[\"Position2\"]=df_sne[\"prefered_position\"].apply(lambda x: pos2(x))\n",
    "\n",
    "df_sne[\"Position2\"].value_counts()"
   ]
  },
  {
   "cell_type": "markdown",
   "metadata": {},
   "source": [
    "**GRAFICAMOS** \n",
    "\n",
    "Las variables que usamos para el scatterplot son las 2 componentes dadas por tSNE\n",
    "\n",
    "diferenciamos usando vectores booleanos: para cada posición y si es un ckack "
   ]
  },
  {
   "cell_type": "code",
   "execution_count": 104,
   "metadata": {
    "slideshow": {
     "slide_type": "slide"
    }
   },
   "outputs": [
    {
     "data": {
      "text/plain": [
       "'temp-plot.html'"
      ]
     },
     "execution_count": 104,
     "metadata": {},
     "output_type": "execute_result"
    }
   ],
   "source": [
    "bool_striker= df_sne[\"Position2\"] == 'Forward'\n",
    "bool_midfielder= df_sne[\"Position2\"] == 'Midfielder'\n",
    "bool_defender= df_sne[\"Position2\"] == 'Defender'\n",
    "bool_gk= df_sne[\"Position2\"] == 'GK'\n",
    "\n",
    "bool_crack=df_sne[\"overall\"] > 85\n",
    "\n",
    "palette=['navy','red','#A2D5F2','orange','green','pink']  \n",
    "data=[]\n",
    "\n",
    "striker =go.Scatter(x=X_tsne[bool_striker,0], y=X_tsne[bool_striker,1],name='Striker',\n",
    "                      text=df_sne.loc[bool_striker,'short_name'],\n",
    "                      opacity=0.9,marker=dict(color=palette[2],size=5),mode='markers')\n",
    "\n",
    "midfielder =go.Scatter(x=X_tsne[bool_midfielder,0], y=X_tsne[bool_midfielder,1],name='Midfielder',\n",
    "                      text=df_sne.loc[bool_midfielder,'short_name'],\n",
    "                      opacity=0.6,marker=dict(color=palette[1],size=5),mode='markers')\n",
    "\n",
    "defender =go.Scatter(x=X_tsne[bool_defender,0], y=X_tsne[bool_defender,1],name='Defender',\n",
    "                      text=df_sne.loc[bool_defender,'short_name'],\n",
    "                      opacity=0.7,marker=dict(color=palette[3],size=5),mode='markers')\n",
    "\n",
    "gk =go.Scatter(x=X_tsne[bool_gk,0], y=X_tsne[bool_gk,1],name='GK',\n",
    "                      text=df_sne.loc[bool_gk,'short_name'],\n",
    "                      opacity=0.4,marker=dict(color=palette[4],size=5),mode='markers')\n",
    "\n",
    "crack =go.Scatter(x=X_tsne[bool_crack,0], y=X_tsne[bool_crack,1],name='Top player',\n",
    "                      text=df_sne.loc[bool_crack,'short_name'],textfont=dict(family='sans serif',color='black',size=16),\n",
    "                      opacity=0.9,mode='text')\n",
    "\n",
    "data=[striker,midfielder,defender,gk,crack]\n",
    "\n",
    "layout = go.Layout(title=\"t-SNE - Fifa Players\",titlefont=dict(size=20),\n",
    "                autosize=False, width=1150,height=1150)\n",
    "\n",
    "fig = go.Figure(data=data, layout=layout)\n",
    "\n",
    "#iplot(fig)\n",
    "plot(fig)"
   ]
  },
  {
   "cell_type": "markdown",
   "metadata": {
    "slideshow": {
     "slide_type": "slide"
    }
   },
   "source": [
    "Como conclusión, podemos ver que en este espacio 2D es realmente muy evidente la separación de los arqueros del resto de los jugadores (lo cual es lógico pues sus habilidades son muy diferentes, lo vimos también en la primera semana de clases en dimensión 34, graficando de a dos variable por vez). \n",
    "\n",
    "El agrupamiento visual, en este espacio, de los jugadores no es tan evidente pues los clusters no son disconexos.\n",
    "\n",
    "Las posiciones no explican tan claramente los clusters encontrados \n",
    "\n",
    "Una explicación posible puede ser porque hay jugadores ambivalentes que unen los espacios entre defensa, mediocampo y ataque. \n",
    "\n",
    "Habrá otra explicación?? \n",
    "\n",
    "Que otras variables (que no estamos graficando) pueden explicar los grupos? \n",
    "\n",
    "En este espacio tsne ... es decir usando \"X_tsne[:,0]\" y \"X_tsne[:,0]\"\n",
    "Cuantos grupos encontrará Mean Shift? o cuales k-medias? hacerlo para el práctico con los datos FIFA2020"
   ]
  },
  {
   "cell_type": "markdown",
   "metadata": {},
   "source": [
    "**Utilizando otro agrupamiento como se planteo en *ntb_clustering_2***"
   ]
  },
  {
   "cell_type": "code",
   "execution_count": 105,
   "metadata": {},
   "outputs": [],
   "source": [
    "forwards=['ST','CF','RW','LW']\n",
    "ataque = ['ST','CF','RW','LW','CAM','LM','RM']\n",
    "defensa = ['RWB','RB','CB','LB','LWB','CDM','CM']\n",
    "\n",
    "def pos3(position):\n",
    "    if position in ataque:\n",
    "        return 'ATAQUE'\n",
    "    \n",
    "    elif position in defensa:\n",
    "        return 'DEFENSA'\n",
    "    \n",
    "    elif position in goalkeepers:\n",
    "        return 'GK'\n",
    "    \n",
    "    else:\n",
    "        return 'nan'"
   ]
  },
  {
   "cell_type": "code",
   "execution_count": 106,
   "metadata": {
    "slideshow": {
     "slide_type": "fragment"
    }
   },
   "outputs": [
    {
     "data": {
      "text/plain": [
       "DEFENSA    2044\n",
       "ATAQUE     1580\n",
       "GK          377\n",
       "Name: Position3, dtype: int64"
      ]
     },
     "execution_count": 106,
     "metadata": {},
     "output_type": "execute_result"
    }
   ],
   "source": [
    "df_sne[\"Position3\"]=df_sne[\"prefered_position\"].apply(lambda x: pos3(x))\n",
    "\n",
    "df_sne[\"Position3\"].value_counts()"
   ]
  },
  {
   "cell_type": "markdown",
   "metadata": {},
   "source": [
    "**GRAFICAMOS** \n",
    "\n",
    "Las variables que usamos para el scatterplot son las 2 componentes dadas por tSNE\n",
    "\n",
    "diferenciamos usando vectores booleanos: para cada posición y si es un ckack "
   ]
  },
  {
   "cell_type": "code",
   "execution_count": 107,
   "metadata": {
    "slideshow": {
     "slide_type": "slide"
    }
   },
   "outputs": [
    {
     "data": {
      "text/plain": [
       "'temp-plot.html'"
      ]
     },
     "execution_count": 107,
     "metadata": {},
     "output_type": "execute_result"
    }
   ],
   "source": [
    "bool_ataque= df_sne[\"Position3\"] == 'ATAQUE'\n",
    "bool_defensa= df_sne[\"Position3\"] == 'DEFENSA'\n",
    "bool_gk= df_sne[\"Position3\"] == 'GK'\n",
    "\n",
    "bool_crack=df_sne[\"overall\"] > 85\n",
    "\n",
    "palette=['navy','red','#A2D5F2','orange','green','pink']  \n",
    "data=[]\n",
    "\n",
    "ataque =go.Scatter(x=X_tsne[bool_ataque,0], y=X_tsne[bool_ataque,1],name='Ataque',\n",
    "                      text=df_sne.loc[bool_ataque,'short_name'],\n",
    "                      opacity=0.9,marker=dict(color=palette[2],size=5),mode='markers')\n",
    "\n",
    "defensa =go.Scatter(x=X_tsne[bool_defensa,0], y=X_tsne[bool_defensa,1],name='Defensa',\n",
    "                      text=df_sne.loc[bool_defensa,'short_name'],\n",
    "                      opacity=0.6,marker=dict(color=palette[1],size=5),mode='markers')\n",
    "\n",
    "gk =go.Scatter(x=X_tsne[bool_gk,0], y=X_tsne[bool_gk,1],name='GK',\n",
    "                      text=df_sne.loc[bool_gk,'short_name'],\n",
    "                      opacity=0.4,marker=dict(color=palette[4],size=5),mode='markers')\n",
    "\n",
    "crack =go.Scatter(x=X_tsne[bool_crack,0], y=X_tsne[bool_crack,1],name='Top player',\n",
    "                      text=df_sne.loc[bool_crack,'short_name'],textfont=dict(family='sans serif',color='black',size=16),\n",
    "                      opacity=0.9,mode='text')\n",
    "\n",
    "data=[ataque,defensa,gk,crack]\n",
    "\n",
    "layout = go.Layout(title=\"t-SNE - Fifa Players\",titlefont=dict(size=20),\n",
    "                autosize=False, width=1150,height=1150)\n",
    "\n",
    "fig = go.Figure(data=data, layout=layout)\n",
    "\n",
    "#iplot(fig)\n",
    "plot(fig)"
   ]
  },
  {
   "cell_type": "markdown",
   "metadata": {},
   "source": [
    "Al igual que en la notebook anterior dividiendo el tres clusters el solapamiento es mucho menor y mas interpretable"
   ]
  },
  {
   "cell_type": "markdown",
   "metadata": {},
   "source": [
    "## Clustering con K-Means de los resultados de T-SNE"
   ]
  },
  {
   "cell_type": "code",
   "execution_count": 108,
   "metadata": {},
   "outputs": [
    {
     "name": "stdout",
     "output_type": "stream",
     "text": [
      "Suma de los cuadrados de las distancias al cluster / Inertia:  2311522.5\n"
     ]
    }
   ],
   "source": [
    "from sklearn.cluster import KMeans,MeanShift\n",
    "from sklearn import decomposition\n",
    "\n",
    "# Número de clusters buscado\n",
    "n_clust = 3\n",
    "\n",
    "km = KMeans(n_clusters=n_clust)\n",
    "km.fit(X_tsne)\n",
    "\n",
    "# Recuperacion de etiquetas\n",
    "clusters = km.labels_\n",
    "print('Suma de los cuadrados de las distancias al cluster / Inertia: ', km.inertia_)"
   ]
  },
  {
   "cell_type": "code",
   "execution_count": 109,
   "metadata": {},
   "outputs": [
    {
     "data": {
      "text/plain": [
       "Text(0.5, 1.0, 'Inertia of k-Means versus number of clusters')"
      ]
     },
     "execution_count": 109,
     "metadata": {},
     "output_type": "execute_result"
    },
    {
     "data": {
      "image/png": "[encoded data removed]",
      "text/plain": [
       "<Figure size 432x288 with 1 Axes>"
      ]
     },
     "metadata": {
      "needs_background": "light"
     },
     "output_type": "display_data"
    }
   ],
   "source": [
    "#Prueba: para elegir el hiperparámetro n_clusters, variando de 2 a 11 clusters\n",
    "min_ = 2\n",
    "max_ = 9\n",
    "scores = [KMeans(n_clusters=i).fit(X_tsne).inertia_ for i in range(min_,max_)]\n",
    "\n",
    "from matplotlib import pyplot as plt\n",
    "plt.plot(np.arange(min_, max_), scores)\n",
    "plt.xlabel('Number of clusters')\n",
    "plt.ylabel(\"Inertia\")\n",
    "plt.title(\"Inertia of k-Means versus number of clusters\")"
   ]
  },
  {
   "cell_type": "code",
   "execution_count": 110,
   "metadata": {},
   "outputs": [],
   "source": [
    "df_sne['kmeans_3'] = km.labels_\n"
   ]
  },
  {
   "cell_type": "code",
   "execution_count": 111,
   "metadata": {},
   "outputs": [
    {
     "data": {
      "text/plain": [
       "'temp-plot.html'"
      ]
     },
     "execution_count": 111,
     "metadata": {},
     "output_type": "execute_result"
    }
   ],
   "source": [
    "data=[]\n",
    "bool_crack=df_sne[\"overall\"] > 85\n",
    "bool_no_crack=df_sne[\"overall\"]<86\n",
    "\n",
    "\n",
    "df_skills=pd.DataFrame(X_tsne).rename(columns={0:'c1',1:'c2'})\n",
    "#Eligo dos números entre 0 y  de n_skills-1\n",
    "skill_1='c1'\n",
    "skill_2='c2' #skills_ratings[25]\n",
    "\n",
    "\n",
    "kmean_clusters = go.Scatter(x=df_skills[skill_1], y=df_skills[skill_2],\n",
    "                           mode='markers',\n",
    "                        text=df_sne.loc[:,'short_name'],\n",
    "                           marker=dict(\n",
    "                                size=5,\n",
    "                                color = clusters.astype(np.float), #set color equal to a variable\n",
    "                                colorscale='Portland',\n",
    "                                showscale=False)\n",
    "                           )\n",
    "\n",
    "crack =go.Scatter(x=df_skills.loc[bool_crack,skill_1], y=df_skills.loc[bool_crack,skill_2],name='Ckacks!!',\n",
    "                      text=df_sne.loc[bool_crack,'short_name'],\n",
    "                      textfont=dict(family='sans serif',size=10,color='black'),\n",
    "                      opacity=0.9,mode='text')\n",
    "\n",
    "data=[kmean_clusters,crack]\n",
    "\n",
    "layout = go.Layout(title=\"Clustering K means \",titlefont=dict(size=20),\n",
    "                xaxis=dict(title=skill_1),\n",
    "                yaxis=dict(title=skill_2),\n",
    "                autosize=False, width=1000,height=1000)\n",
    "\n",
    "fig = go.Figure(data=data, layout=layout)\n",
    "\n",
    "plot(fig)"
   ]
  },
  {
   "cell_type": "code",
   "execution_count": 112,
   "metadata": {},
   "outputs": [
    {
     "data": {
      "text/html": [
       "<div>\n",
       "<style scoped>\n",
       "    .dataframe tbody tr th:only-of-type {\n",
       "        vertical-align: middle;\n",
       "    }\n",
       "\n",
       "    .dataframe tbody tr th {\n",
       "        vertical-align: top;\n",
       "    }\n",
       "\n",
       "    .dataframe thead th {\n",
       "        text-align: right;\n",
       "    }\n",
       "</style>\n",
       "<table border=\"1\" class=\"dataframe\">\n",
       "  <thead>\n",
       "    <tr style=\"text-align: right;\">\n",
       "      <th></th>\n",
       "      <th>Cantidad de muestras por cluster</th>\n",
       "      <th>Tamaño relativo del cluster (representatividad) [%]</th>\n",
       "    </tr>\n",
       "    <tr>\n",
       "      <th>kmeans_3</th>\n",
       "      <th></th>\n",
       "      <th></th>\n",
       "    </tr>\n",
       "  </thead>\n",
       "  <tbody>\n",
       "    <tr>\n",
       "      <th>0</th>\n",
       "      <td>2027</td>\n",
       "      <td>50.662334</td>\n",
       "    </tr>\n",
       "    <tr>\n",
       "      <th>1</th>\n",
       "      <td>1595</td>\n",
       "      <td>39.865034</td>\n",
       "    </tr>\n",
       "    <tr>\n",
       "      <th>2</th>\n",
       "      <td>379</td>\n",
       "      <td>9.472632</td>\n",
       "    </tr>\n",
       "  </tbody>\n",
       "</table>\n",
       "</div>"
      ],
      "text/plain": [
       "          Cantidad de muestras por cluster  \\\n",
       "kmeans_3                                     \n",
       "0                                     2027   \n",
       "1                                     1595   \n",
       "2                                      379   \n",
       "\n",
       "          Tamaño relativo del cluster (representatividad) [%]   \n",
       "kmeans_3                                                        \n",
       "0                                                 50.662334     \n",
       "1                                                 39.865034     \n",
       "2                                                  9.472632     "
      ]
     },
     "execution_count": 112,
     "metadata": {},
     "output_type": "execute_result"
    }
   ],
   "source": [
    "cl_count = df_sne.groupby(['kmeans_3']).sofifa_id.count()\n",
    "cl_rel = 100*cl_count/len(df_sne)\n",
    "pd.DataFrame({'Cantidad de muestras por cluster': cl_count, 'Tamaño relativo del cluster (representatividad) [%] ':cl_rel})"
   ]
  },
  {
   "cell_type": "code",
   "execution_count": 113,
   "metadata": {},
   "outputs": [
    {
     "data": {
      "text/html": [
       "<div>\n",
       "<style scoped>\n",
       "    .dataframe tbody tr th:only-of-type {\n",
       "        vertical-align: middle;\n",
       "    }\n",
       "\n",
       "    .dataframe tbody tr th {\n",
       "        vertical-align: top;\n",
       "    }\n",
       "\n",
       "    .dataframe thead th {\n",
       "        text-align: right;\n",
       "    }\n",
       "</style>\n",
       "<table border=\"1\" class=\"dataframe\">\n",
       "  <thead>\n",
       "    <tr style=\"text-align: right;\">\n",
       "      <th>kmeans_3</th>\n",
       "      <th>0</th>\n",
       "      <th>1</th>\n",
       "      <th>2</th>\n",
       "    </tr>\n",
       "    <tr>\n",
       "      <th>pref_pos_2</th>\n",
       "      <th></th>\n",
       "      <th></th>\n",
       "      <th></th>\n",
       "    </tr>\n",
       "  </thead>\n",
       "  <tbody>\n",
       "    <tr>\n",
       "      <th>ARQUERO</th>\n",
       "      <td>0</td>\n",
       "      <td>0</td>\n",
       "      <td>377</td>\n",
       "    </tr>\n",
       "    <tr>\n",
       "      <th>ATAQUE</th>\n",
       "      <td>88</td>\n",
       "      <td>1492</td>\n",
       "      <td>0</td>\n",
       "    </tr>\n",
       "    <tr>\n",
       "      <th>DEFENSA</th>\n",
       "      <td>1939</td>\n",
       "      <td>103</td>\n",
       "      <td>2</td>\n",
       "    </tr>\n",
       "  </tbody>\n",
       "</table>\n",
       "</div>"
      ],
      "text/plain": [
       "kmeans_3       0     1    2\n",
       "pref_pos_2                 \n",
       "ARQUERO        0     0  377\n",
       "ATAQUE        88  1492    0\n",
       "DEFENSA     1939   103    2"
      ]
     },
     "execution_count": 113,
     "metadata": {},
     "output_type": "execute_result"
    }
   ],
   "source": [
    "# Las posiciones son muchas, asique las resumo en 4 -> arquero, defensor, mediocampo, delantero\n",
    "df_sne['pref_pos_1'] =  df_sne.prefered_position\n",
    "df_sne['pref_pos_1'] =  df_sne['pref_pos_1'].apply(lambda x: 'ARQUERO' if x in ['GK'] else x)\n",
    "df_sne['pref_pos_1'] =  df_sne['pref_pos_1'].apply(lambda x: 'DELANTERO' if x in ['ST','CF','RW','LW'] else x)\n",
    "df_sne['pref_pos_1'] =  df_sne['pref_pos_1'].apply(lambda x: 'MEDIOCAMPO' if x in ['CAM','RM','CM','RM','LM','CDM'] else x)\n",
    "df_sne['pref_pos_1'] =  df_sne['pref_pos_1'].apply(lambda x: 'DEFENSOR' if x in ['RWB','RB','CB','LB','LWB'] else x)\n",
    "\n",
    "df_sne['pref_pos_2'] = df_sne.prefered_position\n",
    "# Las posiciones son muchas, asique las resumo en 4 -> arquero, defensor, mediocampo, delantero\n",
    "df_sne.pref_pos_2 =  df_sne.pref_pos_2.apply(lambda x: 'ARQUERO' if x in ['GK'] else x)\n",
    "df_sne.pref_pos_2 =  df_sne.pref_pos_2.apply(lambda x: 'ATAQUE' if x in ['ST','CF','RW','LW','CAM','LM','RM'] else x)\n",
    "df_sne.pref_pos_2 =  df_sne.pref_pos_2.apply(lambda x: 'DEFENSA' if x in ['RWB','RB','CB','LB','LWB','CDM','CM'] else x)\n",
    "pd.crosstab(df_sne.pref_pos_2,df_sne.kmeans_3)"
   ]
  },
  {
   "cell_type": "markdown",
   "metadata": {},
   "source": [
    "Utilizando TSNE como entrada para kmeans no da buenos resultados, no solo que no puede diferenciar cuatro cluster bien definidos, sino que nisiuiera se pueden obtener los clusters de la notebook anterior, es decir que tampoco puede diferenciar correctamente entre los clusters **arquero, ataque y defensa** como se muestra en la tabla de contingencia anterior existe mas solapamiento entre clusters que utilizando todos los skills"
   ]
  },
  {
   "cell_type": "markdown",
   "metadata": {},
   "source": [
    "## Clustering con MeanShift de los resultados de T-SNE"
   ]
  },
  {
   "cell_type": "code",
   "execution_count": 119,
   "metadata": {},
   "outputs": [
    {
     "name": "stdout",
     "output_type": "stream",
     "text": [
      "Estimated BW: 38.47781632359632\n",
      "Numero estimado de clusters para Mean Shift : 3\n"
     ]
    }
   ],
   "source": [
    "from sklearn.cluster import KMeans,MeanShift,estimate_bandwidth\n",
    "from sklearn import decomposition\n",
    "from sklearn.preprocessing import MinMaxScaler\n",
    "\n",
    "bw = estimate_bandwidth(X_tsne)\n",
    "print ('Estimated BW: {}'.format(bw))\n",
    "ms = MeanShift(bandwidth=bw, bin_seeding=False)\n",
    "\n",
    "ms.fit(X_tsne)\n",
    "\n",
    "clusters2 = ms.labels_\n",
    "cluster_centers = ms.cluster_centers_\n",
    "\n",
    "labels_unique = np.unique(clusters2)\n",
    "n_clusters_ = len(labels_unique)\n",
    "\n",
    "print(\"Numero estimado de clusters para Mean Shift : %d\" % n_clusters_)\n",
    "df_sne['MeanShift'] = ms.labels_"
   ]
  },
  {
   "cell_type": "code",
   "execution_count": 120,
   "metadata": {},
   "outputs": [
    {
     "data": {
      "text/plain": [
       "'temp-plot.html'"
      ]
     },
     "execution_count": 120,
     "metadata": {},
     "output_type": "execute_result"
    }
   ],
   "source": [
    "data=[]\n",
    "bool_crack=df_sne[\"overall\"] > 85\n",
    "bool_no_crack=df_sne[\"overall\"]<86\n",
    "\n",
    "\n",
    "df_skills=pd.DataFrame(X_tsne).rename(columns={0:'c1',1:'c2'})\n",
    "df_n=df_sne\n",
    "#Eligo dos números entre 0 y  de n_skills-1\n",
    "skill_1='c1'\n",
    "skill_2='c2' #skills_ratings[25]\n",
    "\n",
    "\n",
    "\n",
    "\n",
    "MeanShift_clusters = go.Scatter(x=df_skills[skill_1], y=df_skills[skill_2],\n",
    "                           mode='markers',\n",
    "                        text=df_n.loc[:,'short_name'],\n",
    "                           marker=dict(\n",
    "                                size=5,\n",
    "                                color = clusters2.astype(np.float), #set color equal to a variable\n",
    "                                colorscale='Portland',\n",
    "                                showscale=False)\n",
    "                           )\n",
    "\n",
    "crack =go.Scatter(x=df_skills.loc[bool_crack,skill_1], y=df_skills.loc[bool_crack,skill_2],name='Top players',\n",
    "                      text=df_n.loc[bool_crack,'short_name'],\n",
    "                      textfont=dict(family='sans serif',size=10,color='black'),\n",
    "                      opacity=0.9,mode='text')\n",
    "\n",
    "data=[MeanShift_clusters,crack]\n",
    "\n",
    "layout = go.Layout(title=\"Mean Shift\",titlefont=dict(size=20),\n",
    "                xaxis=dict(title=skill_1),\n",
    "                yaxis=dict(title=skill_2),\n",
    "                autosize=False, width=1000,height=1000)\n",
    "\n",
    "fig = go.Figure(data=data, layout=layout)\n",
    "\n",
    "plot(fig)"
   ]
  },
  {
   "cell_type": "code",
   "execution_count": 243,
   "metadata": {},
   "outputs": [
    {
     "data": {
      "text/html": [
       "<div>\n",
       "<style scoped>\n",
       "    .dataframe tbody tr th:only-of-type {\n",
       "        vertical-align: middle;\n",
       "    }\n",
       "\n",
       "    .dataframe tbody tr th {\n",
       "        vertical-align: top;\n",
       "    }\n",
       "\n",
       "    .dataframe thead th {\n",
       "        text-align: right;\n",
       "    }\n",
       "</style>\n",
       "<table border=\"1\" class=\"dataframe\">\n",
       "  <thead>\n",
       "    <tr style=\"text-align: right;\">\n",
       "      <th></th>\n",
       "      <th>Cantidad de muestras por cluster</th>\n",
       "      <th>Tamaño relativo del cluster (representatividad) [%]</th>\n",
       "    </tr>\n",
       "    <tr>\n",
       "      <th>MeanShift</th>\n",
       "      <th></th>\n",
       "      <th></th>\n",
       "    </tr>\n",
       "  </thead>\n",
       "  <tbody>\n",
       "    <tr>\n",
       "      <th>0</th>\n",
       "      <td>2099</td>\n",
       "      <td>52.461885</td>\n",
       "    </tr>\n",
       "    <tr>\n",
       "      <th>1</th>\n",
       "      <td>1523</td>\n",
       "      <td>38.065484</td>\n",
       "    </tr>\n",
       "    <tr>\n",
       "      <th>2</th>\n",
       "      <td>379</td>\n",
       "      <td>9.472632</td>\n",
       "    </tr>\n",
       "  </tbody>\n",
       "</table>\n",
       "</div>"
      ],
      "text/plain": [
       "           Cantidad de muestras por cluster  \\\n",
       "MeanShift                                     \n",
       "0                                      2099   \n",
       "1                                      1523   \n",
       "2                                       379   \n",
       "\n",
       "           Tamaño relativo del cluster (representatividad) [%]   \n",
       "MeanShift                                                        \n",
       "0                                                  52.461885     \n",
       "1                                                  38.065484     \n",
       "2                                                   9.472632     "
      ]
     },
     "execution_count": 243,
     "metadata": {},
     "output_type": "execute_result"
    }
   ],
   "source": [
    "cl_count = df_sne.groupby(['MeanShift']).sofifa_id.count()\n",
    "cl_rel = 100*cl_count/len(df_sne)\n",
    "pd.DataFrame({'Cantidad de muestras por cluster': cl_count, 'Tamaño relativo del cluster (representatividad) [%] ':cl_rel})"
   ]
  },
  {
   "cell_type": "code",
   "execution_count": 122,
   "metadata": {},
   "outputs": [
    {
     "data": {
      "text/html": [
       "<div>\n",
       "<style scoped>\n",
       "    .dataframe tbody tr th:only-of-type {\n",
       "        vertical-align: middle;\n",
       "    }\n",
       "\n",
       "    .dataframe tbody tr th {\n",
       "        vertical-align: top;\n",
       "    }\n",
       "\n",
       "    .dataframe thead th {\n",
       "        text-align: right;\n",
       "    }\n",
       "</style>\n",
       "<table border=\"1\" class=\"dataframe\">\n",
       "  <thead>\n",
       "    <tr style=\"text-align: right;\">\n",
       "      <th>MeanShift</th>\n",
       "      <th>0</th>\n",
       "      <th>1</th>\n",
       "      <th>2</th>\n",
       "    </tr>\n",
       "    <tr>\n",
       "      <th>pref_pos_2</th>\n",
       "      <th></th>\n",
       "      <th></th>\n",
       "      <th></th>\n",
       "    </tr>\n",
       "  </thead>\n",
       "  <tbody>\n",
       "    <tr>\n",
       "      <th>ARQUERO</th>\n",
       "      <td>0</td>\n",
       "      <td>0</td>\n",
       "      <td>377</td>\n",
       "    </tr>\n",
       "    <tr>\n",
       "      <th>ATAQUE</th>\n",
       "      <td>106</td>\n",
       "      <td>1474</td>\n",
       "      <td>0</td>\n",
       "    </tr>\n",
       "    <tr>\n",
       "      <th>DEFENSA</th>\n",
       "      <td>1993</td>\n",
       "      <td>49</td>\n",
       "      <td>2</td>\n",
       "    </tr>\n",
       "  </tbody>\n",
       "</table>\n",
       "</div>"
      ],
      "text/plain": [
       "MeanShift      0     1    2\n",
       "pref_pos_2                 \n",
       "ARQUERO        0     0  377\n",
       "ATAQUE       106  1474    0\n",
       "DEFENSA     1993    49    2"
      ]
     },
     "execution_count": 122,
     "metadata": {},
     "output_type": "execute_result"
    }
   ],
   "source": [
    "pd.crosstab(df_sne.pref_pos_2,df_sne.MeanShift)"
   ]
  },
  {
   "cell_type": "markdown",
   "metadata": {},
   "source": [
    "Mean Shift tiene un comportamiento claramente superior que analizando todas las skills, ahora es capaz de encontrar tres cluesters muy similares a los de kmeans incluso mejora un poco los resultados de kmeans con tsne."
   ]
  },
  {
   "cell_type": "markdown",
   "metadata": {},
   "source": [
    "# 4.-Componentes-Principales "
   ]
  },
  {
   "cell_type": "markdown",
   "metadata": {},
   "source": [
    "PCA\n",
    "Para reducción de dimensión\n",
    "de n dimensiones a m dimensiones con 'm<<n'\n",
    "\n",
    "Pseudo-ejemplo intuitivo:\n",
    "Via láctea en 3D  https://youtu.be/WNASVRwdf9Q  o https://www.youtube.com/watch?v=S7GiZMVNB20                                        \n",
    "a Via láctea en 2D (la proyección en 2D que mejor describe la dispersión de los datos/estrellas)\n",
    "\n",
    "<center>\n",
    "<img src=\"hubble-13-ngc-1300-barred-spiral-galaxy-1920.jpg\" />"
   ]
  },
  {
   "cell_type": "markdown",
   "metadata": {},
   "source": [
    "**Variables de desempeño (skills_ratings)**\n",
    "\n",
    "**Retiramos arqueros y jugadores con bajo ranking**\n"
   ]
  },
  {
   "cell_type": "code",
   "execution_count": 165,
   "metadata": {},
   "outputs": [],
   "source": [
    "n_acp=18000\n",
    "\n",
    "df_acp=df.loc[:n_acp]\n",
    "df_acp=df_acp[(df_acp[\"prefered_position\"]!='GK')&(df['overall']>70)]\n",
    "df_acp.fillna(0,inplace=True)\n",
    "\n",
    "skills_ratings = [#'age', 'height_cm', 'weight_kg',\n",
    "       #'potential', #'value_eur', 'wage_eur',\n",
    "       #'weak_foot', 'skill_moves',\n",
    "       #'release_clause_eur',\n",
    "       'pace', 'shooting', 'passing', 'dribbling', 'defending', 'physic',\n",
    "       'gk_diving', 'gk_handling', 'gk_kicking', 'gk_reflexes', 'gk_speed',\n",
    "       'gk_positioning', 'attacking_crossing', 'attacking_finishing',\n",
    "       'attacking_heading_accuracy', 'attacking_short_passing',\n",
    "       'attacking_volleys', 'skill_dribbling', 'skill_curve',\n",
    "       'skill_fk_accuracy', 'skill_long_passing', 'skill_ball_control',\n",
    "       'movement_acceleration', 'movement_sprint_speed', 'movement_agility',\n",
    "       'movement_reactions', 'movement_balance', 'power_shot_power',\n",
    "       'power_jumping', 'power_stamina', 'power_strength', 'power_long_shots',\n",
    "       'mentality_aggression', 'mentality_interceptions',\n",
    "       'mentality_positioning', 'mentality_vision', 'mentality_penalties',\n",
    "       'mentality_composure', 'defending_marking', 'defending_standing_tackle',\n",
    "       'defending_sliding_tackle', 'goalkeeping_diving',\n",
    "       'goalkeeping_handling', 'goalkeeping_kicking',\n",
    "       'goalkeeping_positioning', 'goalkeeping_reflexes',]\n",
    "\n",
    "#otros skills_ratings ! sacamos las habilidades de los arqueros"
   ]
  },
  {
   "cell_type": "markdown",
   "metadata": {},
   "source": [
    "Restringimos los datos a las variables numéricas que consideramos"
   ]
  },
  {
   "cell_type": "code",
   "execution_count": 166,
   "metadata": {},
   "outputs": [
    {
     "name": "stdout",
     "output_type": "stream",
     "text": [
      "los datos tienen dimesión n=  46\n"
     ]
    }
   ],
   "source": [
    "X=df_acp[skills_ratings] # Datos para proyectar\n",
    "print('los datos tienen dimesión n= ',len(skills_ratings))"
   ]
  },
  {
   "cell_type": "markdown",
   "metadata": {},
   "source": [
    "**Se computan las componentes principales**\n",
    "\n",
    "-cuando se usa *decomposition.PCA* : \n",
    "\n",
    "La descomposición PCA del sklearn centra los datos pero no los normaliza (input data is centered but not scaled for each feature before applying the SVD)\n",
    "\n",
    "por eso **estandarizamos primero**"
   ]
  },
  {
   "cell_type": "code",
   "execution_count": 167,
   "metadata": {},
   "outputs": [],
   "source": [
    "from sklearn import preprocessing\n",
    "std_scale=preprocessing.StandardScaler().fit(X)\n",
    "X_scaled=std_scale.transform(X) # numpyarray normalizado por columna"
   ]
  },
  {
   "cell_type": "code",
   "execution_count": 168,
   "metadata": {
    "scrolled": true
   },
   "outputs": [
    {
     "name": "stdout",
     "output_type": "stream",
     "text": [
      "[[ 1.3915718   2.28100237  2.96886868  2.84551206 -1.07466303 -0.52075526\n",
      "   0.          0.          0.          0.          0.          0.\n",
      "   1.85191727  2.22591719  0.50579762  3.10516247  2.04822158  2.51241012\n",
      "   2.10810769  2.43109902  2.66408211  3.18353021  1.64821701  1.12843689\n",
      "   1.84130682  4.14284295  2.07189558  1.52906387 -0.08406758  0.22655488\n",
      "  -0.19387423  2.1898988  -1.4663244  -0.88327707  2.03265645  2.40441334\n",
      "   1.23931568  3.66320434 -1.29845475 -1.00858184 -1.34122585 -1.3448052\n",
      "   0.09414922  1.26933893  0.96458131 -0.78491947]\n",
      " [ 1.63580846  2.35521709  1.8233006   2.06984609 -1.30007499  0.93257788\n",
      "   0.          0.          0.          0.          0.          0.\n",
      "   1.55947807  2.16540639  2.10231142  1.74199744  1.98481151  1.7868031\n",
      "   1.30894567  1.31434768  1.17375414  2.6471945   1.4928247   1.69221681\n",
      "   1.36330133  4.32209798  0.25161067  2.3556585   2.17528741  1.22615709\n",
      "   0.66487084  2.12277809 -0.34105661 -1.43450959  2.09945366  1.42414494\n",
      "   2.0028642   3.51747437 -1.56314263 -1.24990788 -1.43455936 -1.05324047\n",
      "   0.09414922  1.26933893  0.96458131  0.12469633]]\n"
     ]
    },
    {
     "data": {
      "text/html": [
       "<div>\n",
       "<style scoped>\n",
       "    .dataframe tbody tr th:only-of-type {\n",
       "        vertical-align: middle;\n",
       "    }\n",
       "\n",
       "    .dataframe tbody tr th {\n",
       "        vertical-align: top;\n",
       "    }\n",
       "\n",
       "    .dataframe thead th {\n",
       "        text-align: right;\n",
       "    }\n",
       "</style>\n",
       "<table border=\"1\" class=\"dataframe\">\n",
       "  <thead>\n",
       "    <tr style=\"text-align: right;\">\n",
       "      <th></th>\n",
       "      <th>pace</th>\n",
       "      <th>shooting</th>\n",
       "      <th>passing</th>\n",
       "      <th>dribbling</th>\n",
       "      <th>defending</th>\n",
       "      <th>physic</th>\n",
       "      <th>gk_diving</th>\n",
       "      <th>gk_handling</th>\n",
       "      <th>gk_kicking</th>\n",
       "      <th>gk_reflexes</th>\n",
       "      <th>gk_speed</th>\n",
       "      <th>gk_positioning</th>\n",
       "      <th>attacking_crossing</th>\n",
       "      <th>attacking_finishing</th>\n",
       "      <th>attacking_heading_accuracy</th>\n",
       "      <th>attacking_short_passing</th>\n",
       "      <th>attacking_volleys</th>\n",
       "      <th>skill_dribbling</th>\n",
       "      <th>skill_curve</th>\n",
       "      <th>skill_fk_accuracy</th>\n",
       "      <th>skill_long_passing</th>\n",
       "      <th>skill_ball_control</th>\n",
       "      <th>movement_acceleration</th>\n",
       "      <th>movement_sprint_speed</th>\n",
       "      <th>movement_agility</th>\n",
       "      <th>movement_reactions</th>\n",
       "      <th>movement_balance</th>\n",
       "      <th>power_shot_power</th>\n",
       "      <th>power_jumping</th>\n",
       "      <th>power_stamina</th>\n",
       "      <th>power_strength</th>\n",
       "      <th>power_long_shots</th>\n",
       "      <th>mentality_aggression</th>\n",
       "      <th>mentality_interceptions</th>\n",
       "      <th>mentality_positioning</th>\n",
       "      <th>mentality_vision</th>\n",
       "      <th>mentality_penalties</th>\n",
       "      <th>mentality_composure</th>\n",
       "      <th>defending_marking</th>\n",
       "      <th>defending_standing_tackle</th>\n",
       "      <th>defending_sliding_tackle</th>\n",
       "      <th>goalkeeping_diving</th>\n",
       "      <th>goalkeeping_handling</th>\n",
       "      <th>goalkeeping_kicking</th>\n",
       "      <th>goalkeeping_positioning</th>\n",
       "      <th>goalkeeping_reflexes</th>\n",
       "    </tr>\n",
       "  </thead>\n",
       "  <tbody>\n",
       "    <tr>\n",
       "      <th>0</th>\n",
       "      <td>87.0</td>\n",
       "      <td>92.0</td>\n",
       "      <td>92.0</td>\n",
       "      <td>96.0</td>\n",
       "      <td>39.0</td>\n",
       "      <td>66.0</td>\n",
       "      <td>0.0</td>\n",
       "      <td>0.0</td>\n",
       "      <td>0.0</td>\n",
       "      <td>0.0</td>\n",
       "      <td>0.0</td>\n",
       "      <td>0.0</td>\n",
       "      <td>88</td>\n",
       "      <td>95</td>\n",
       "      <td>70</td>\n",
       "      <td>92</td>\n",
       "      <td>88</td>\n",
       "      <td>97</td>\n",
       "      <td>93</td>\n",
       "      <td>94</td>\n",
       "      <td>92</td>\n",
       "      <td>96</td>\n",
       "      <td>91</td>\n",
       "      <td>84</td>\n",
       "      <td>93</td>\n",
       "      <td>95</td>\n",
       "      <td>95</td>\n",
       "      <td>86</td>\n",
       "      <td>68</td>\n",
       "      <td>75</td>\n",
       "      <td>68</td>\n",
       "      <td>94</td>\n",
       "      <td>48</td>\n",
       "      <td>40</td>\n",
       "      <td>94</td>\n",
       "      <td>94</td>\n",
       "      <td>75</td>\n",
       "      <td>96</td>\n",
       "      <td>33</td>\n",
       "      <td>37</td>\n",
       "      <td>26</td>\n",
       "      <td>6</td>\n",
       "      <td>11</td>\n",
       "      <td>15</td>\n",
       "      <td>14</td>\n",
       "      <td>8</td>\n",
       "    </tr>\n",
       "    <tr>\n",
       "      <th>1</th>\n",
       "      <td>90.0</td>\n",
       "      <td>93.0</td>\n",
       "      <td>82.0</td>\n",
       "      <td>89.0</td>\n",
       "      <td>35.0</td>\n",
       "      <td>78.0</td>\n",
       "      <td>0.0</td>\n",
       "      <td>0.0</td>\n",
       "      <td>0.0</td>\n",
       "      <td>0.0</td>\n",
       "      <td>0.0</td>\n",
       "      <td>0.0</td>\n",
       "      <td>84</td>\n",
       "      <td>94</td>\n",
       "      <td>89</td>\n",
       "      <td>83</td>\n",
       "      <td>87</td>\n",
       "      <td>89</td>\n",
       "      <td>81</td>\n",
       "      <td>76</td>\n",
       "      <td>77</td>\n",
       "      <td>92</td>\n",
       "      <td>89</td>\n",
       "      <td>91</td>\n",
       "      <td>87</td>\n",
       "      <td>96</td>\n",
       "      <td>71</td>\n",
       "      <td>95</td>\n",
       "      <td>95</td>\n",
       "      <td>85</td>\n",
       "      <td>78</td>\n",
       "      <td>93</td>\n",
       "      <td>63</td>\n",
       "      <td>29</td>\n",
       "      <td>95</td>\n",
       "      <td>82</td>\n",
       "      <td>85</td>\n",
       "      <td>95</td>\n",
       "      <td>28</td>\n",
       "      <td>32</td>\n",
       "      <td>24</td>\n",
       "      <td>7</td>\n",
       "      <td>11</td>\n",
       "      <td>15</td>\n",
       "      <td>14</td>\n",
       "      <td>11</td>\n",
       "    </tr>\n",
       "  </tbody>\n",
       "</table>\n",
       "</div>"
      ],
      "text/plain": [
       "   pace  shooting  passing  dribbling  defending  physic  gk_diving  \\\n",
       "0  87.0      92.0     92.0       96.0       39.0    66.0        0.0   \n",
       "1  90.0      93.0     82.0       89.0       35.0    78.0        0.0   \n",
       "\n",
       "   gk_handling  gk_kicking  gk_reflexes  gk_speed  gk_positioning  \\\n",
       "0          0.0         0.0          0.0       0.0             0.0   \n",
       "1          0.0         0.0          0.0       0.0             0.0   \n",
       "\n",
       "   attacking_crossing  attacking_finishing  attacking_heading_accuracy  \\\n",
       "0                  88                   95                          70   \n",
       "1                  84                   94                          89   \n",
       "\n",
       "   attacking_short_passing  attacking_volleys  skill_dribbling  skill_curve  \\\n",
       "0                       92                 88               97           93   \n",
       "1                       83                 87               89           81   \n",
       "\n",
       "   skill_fk_accuracy  skill_long_passing  skill_ball_control  \\\n",
       "0                 94                  92                  96   \n",
       "1                 76                  77                  92   \n",
       "\n",
       "   movement_acceleration  movement_sprint_speed  movement_agility  \\\n",
       "0                     91                     84                93   \n",
       "1                     89                     91                87   \n",
       "\n",
       "   movement_reactions  movement_balance  power_shot_power  power_jumping  \\\n",
       "0                  95                95                86             68   \n",
       "1                  96                71                95             95   \n",
       "\n",
       "   power_stamina  power_strength  power_long_shots  mentality_aggression  \\\n",
       "0             75              68                94                    48   \n",
       "1             85              78                93                    63   \n",
       "\n",
       "   mentality_interceptions  mentality_positioning  mentality_vision  \\\n",
       "0                       40                     94                94   \n",
       "1                       29                     95                82   \n",
       "\n",
       "   mentality_penalties  mentality_composure  defending_marking  \\\n",
       "0                   75                   96                 33   \n",
       "1                   85                   95                 28   \n",
       "\n",
       "   defending_standing_tackle  defending_sliding_tackle  goalkeeping_diving  \\\n",
       "0                         37                        26                   6   \n",
       "1                         32                        24                   7   \n",
       "\n",
       "   goalkeeping_handling  goalkeeping_kicking  goalkeeping_positioning  \\\n",
       "0                    11                   15                       14   \n",
       "1                    11                   15                       14   \n",
       "\n",
       "   goalkeeping_reflexes  \n",
       "0                     8  \n",
       "1                    11  "
      ]
     },
     "execution_count": 168,
     "metadata": {},
     "output_type": "execute_result"
    }
   ],
   "source": [
    "print(X_scaled[0:2])\n",
    "X.head(2)"
   ]
  },
  {
   "cell_type": "markdown",
   "metadata": {},
   "source": [
    "**DESCOMPOSICIÓN PCA**\n",
    "\n",
    "En la descomposición podemos elegir n_components para quedarnos con una cantidad chica de componentes \n",
    "\n",
    "la idea es que sean \"bastante\" menos que la dimensión de lo datos pero \n",
    "\n",
    "que describan un buen porcentaje de la dispersión de los datos"
   ]
  },
  {
   "cell_type": "code",
   "execution_count": 169,
   "metadata": {},
   "outputs": [
    {
     "name": "stdout",
     "output_type": "stream",
     "text": [
      "proporción de varianza por componente:  [0.38181707 0.14432532 0.09226197 0.06089413]\n",
      "proporción de varianza por componente acumulada:  [0.38181707 0.5261424  0.61840436 0.67929849]\n",
      "tamaño de los datos:  (4316, 4)\n"
     ]
    }
   ],
   "source": [
    "from sklearn import decomposition\n",
    "pca=decomposition.PCA(n_components=4) #elegimos 2, 3 o 4 pero pueden ser más, \n",
    "\n",
    "pca.fit(X_scaled) #input data is centered but not scaled for each feature before applying the SVD\n",
    "\n",
    "# proporción de varianza\n",
    "print('proporción de varianza por componente: ', pca.explained_variance_ratio_)\n",
    "# proporción de varianza acumulada\n",
    "print ('proporción de varianza por componente acumulada: ', pca.explained_variance_ratio_.cumsum())\n",
    "\n",
    "X_projected=pca.transform(X_scaled) #numpy array\n",
    "print ('tamaño de los datos: ', X_projected.shape)\n"
   ]
  },
  {
   "cell_type": "code",
   "execution_count": 170,
   "metadata": {},
   "outputs": [
    {
     "name": "stdout",
     "output_type": "stream",
     "text": [
      "[[-10.66815197  -3.78340155   1.77552225  -0.9543984 ]\n",
      " [ -8.48046952  -2.14650992   3.69225588  -4.56862614]\n",
      " [-10.38050054  -2.17899793   0.46406977  -0.57868876]\n",
      " [ -9.60266995  -2.34493046   0.47956767  -1.00355683]\n",
      " [ -7.20138507  -6.06376964   2.35702326  -1.01583945]]\n"
     ]
    }
   ],
   "source": [
    "print (X_projected[0:5])#5 primeros jugadores, n_components"
   ]
  },
  {
   "cell_type": "code",
   "execution_count": 171,
   "metadata": {},
   "outputs": [
    {
     "name": "stdout",
     "output_type": "stream",
     "text": [
      "[[-1.53010739e-01 -2.25492406e-01 -1.92249038e-01 -2.35508751e-01\n",
      "   1.63614310e-01  1.36726640e-01  2.11450627e-26  1.87445064e-27\n",
      "   3.97700394e-28 -1.49351442e-28  3.23786764e-29 -9.19195657e-29\n",
      "  -1.77709054e-01 -2.16405472e-01  1.25927327e-01 -1.32462854e-01\n",
      "  -2.05115602e-01 -2.29759251e-01 -2.06452039e-01 -1.77538428e-01\n",
      "  -5.84978632e-02 -2.13222224e-01 -1.63767380e-01 -1.36645072e-01\n",
      "  -1.96733735e-01 -7.67556857e-02 -1.70807555e-01 -1.66674539e-01\n",
      "   6.27309611e-02 -4.27808672e-02  1.47198156e-01 -2.09239156e-01\n",
      "   1.28402978e-01  1.48189378e-01 -2.21776908e-01 -2.03618980e-01\n",
      "  -1.73025259e-01 -9.37944084e-02  1.52357966e-01  1.54768153e-01\n",
      "   1.57005697e-01  5.42354107e-03  3.84528183e-03  1.24810577e-03\n",
      "   1.23806190e-02  6.82300195e-03]\n",
      " [ 6.77073568e-02  2.30247607e-02 -2.48562393e-01 -8.38809651e-02\n",
      "  -3.03044933e-01 -1.31367613e-01 -6.13406320e-23  1.98472630e-24\n",
      "   7.99013218e-25 -2.64493649e-25  5.72012570e-26 -1.79459551e-25\n",
      "  -1.65597217e-01  7.44944530e-02 -1.66998486e-03 -2.90317991e-01\n",
      "   2.19152707e-02 -6.68057571e-02 -1.08923783e-01 -1.08467262e-01\n",
      "  -3.26392357e-01 -1.37919216e-01  5.69965106e-02  7.36758970e-02\n",
      "   3.17472301e-03 -1.99697523e-01 -4.36078767e-02 -4.88168444e-02\n",
      "  -1.02000386e-02 -1.67957139e-01 -1.88383720e-02 -5.86224442e-02\n",
      "  -2.05919935e-01 -3.08401180e-01  4.96551504e-03 -1.57819434e-01\n",
      "   2.26982805e-02 -1.91938074e-01 -2.88984329e-01 -3.02962346e-01\n",
      "  -2.91975102e-01 -4.54079370e-03 -1.93342419e-03 -9.12292400e-03\n",
      "  -1.10489836e-02 -7.24774663e-03]\n",
      " [-2.92671022e-01  2.01608147e-01 -8.00966110e-03 -6.77558223e-02\n",
      "  -7.22345619e-02  2.09090504e-01 -4.21610410e-23 -1.17938204e-22\n",
      "  -4.66791149e-23  7.92561964e-24 -2.47172908e-25  6.14424519e-24\n",
      "  -1.17306805e-01  1.79605704e-01  2.80856612e-01  2.81535204e-02\n",
      "   1.99910013e-01 -4.39983271e-02  2.72546020e-02  8.90374645e-02\n",
      "  -2.77508387e-02  3.31291506e-02 -2.98272059e-01 -2.74283554e-01\n",
      "  -2.44638577e-01  1.34362408e-01 -2.60465532e-01  2.37206736e-01\n",
      "   2.96421545e-02 -1.17843746e-01  2.91079216e-01  1.58526904e-01\n",
      "   1.14487532e-01 -8.18365153e-02  1.09272553e-01  5.49637050e-02\n",
      "   2.34882563e-01  1.78754815e-01 -7.98782644e-02 -9.37114472e-02\n",
      "  -1.17304216e-01 -4.75721662e-04 -1.50941172e-03 -1.39419597e-03\n",
      "   1.46815670e-02  1.05893794e-02]\n",
      " [-3.05667419e-01 -5.83673167e-02  1.08552765e-01 -5.35113320e-02\n",
      "  -1.80963420e-02 -3.72311756e-01  1.27960202e-20  2.18871379e-21\n",
      "   4.82744994e-22 -2.25169781e-22  2.26218938e-23 -8.38738313e-23\n",
      "   3.03540562e-02 -6.83587771e-02 -2.48138233e-01  9.24997262e-02\n",
      "  -4.40834142e-02 -5.39083739e-02  7.46779954e-02  1.60917610e-01\n",
      "   1.81524286e-01 -1.09429381e-02 -2.55506877e-01 -3.32213812e-01\n",
      "  -8.78553786e-02 -1.60219405e-01 -1.61262779e-02 -8.51639013e-02\n",
      "  -3.74246979e-01 -3.42539207e-01 -2.42042814e-01  2.98451364e-03\n",
      "  -2.19048794e-01  3.56876802e-03 -1.05491869e-01  7.89154085e-02\n",
      "   1.66556327e-02 -4.40890914e-02 -6.05298432e-03  1.44218767e-03\n",
      "  -6.57104133e-03 -2.43638258e-02 -1.52973337e-02 -3.61203582e-02\n",
      "  -2.38593237e-02 -3.95004242e-02]]\n"
     ]
    }
   ],
   "source": [
    "pcs=pca.components_  #\"composición\" de las primeras componentes, \n",
    "print(pcs)  # el aporte/pesos de las variables: skills_ratings"
   ]
  },
  {
   "cell_type": "markdown",
   "metadata": {},
   "source": [
    "El siguiente gráfico muestra la composición de los pesos de las dos primeras componentes principales. "
   ]
  },
  {
   "cell_type": "code",
   "execution_count": 160,
   "metadata": {},
   "outputs": [
    {
     "data": {
      "text/plain": [
       "'temp-plot.html'"
      ]
     },
     "execution_count": 160,
     "metadata": {},
     "output_type": "execute_result"
    }
   ],
   "source": [
    "#Graph 1\n",
    "data=[]\n",
    "\n",
    "for i, (x,y) in enumerate(zip(pcs[0,:],pcs[1,:])):\n",
    "    graph=go.Scatter(x=[0,x],y=[0,y],text=X.columns[i],\n",
    "                     mode='lines+markers+text',textposition='top left',textfont=dict(family='sans serif',size=15))\n",
    "    data.append(graph)\n",
    "\n",
    "layout = go.Layout(title=\"ACP - Fifa Skills\",titlefont=dict(size=20),\n",
    "            xaxis=dict(title='Componente 1'),\n",
    "            yaxis=dict(title='Componente 2'),\n",
    "            autosize=False, width=1050,height=750,\n",
    "            showlegend=False)\n",
    "\n",
    "fig = go.Figure(data=data, layout=layout)\n",
    "\n",
    "plot(fig)\n"
   ]
  },
  {
   "cell_type": "markdown",
   "metadata": {},
   "source": [
    "Se crea el jugador perfecto para ver a donde se ubica en nuestra visualización, se lo agrega a los datos normalizados y a las componentes ya calculadas (sin usarlo)."
   ]
  },
  {
   "cell_type": "code",
   "execution_count": 172,
   "metadata": {},
   "outputs": [],
   "source": [
    "MachineGunDict={'short_name':'MachineGun','overall':99}\n",
    "for skills in skills_ratings:\n",
    "    MachineGunDict[skills]=99\n",
    "    \n",
    "#Lo agregamos a la base:\n",
    "df_acp=df_acp.append(MachineGunDict,ignore_index=True)\n",
    "X=df_acp[skills_ratings] # Datos sin estandarizar\n",
    "X_scaled=std_scale.transform(X) # volvemos a normalizar con el dato agregado \n",
    "#pero con la normalización de la base sin el dato nuevo\n",
    "X_projected=pca.transform(X_scaled) # volvemos a proyectar pero con el dato nuevo"
   ]
  },
  {
   "cell_type": "markdown",
   "metadata": {},
   "source": [
    "**Graficamos a los jugadores usando las dos primeras componentes de PCA, proyectamos los datos (de dim 29) en ese espacio de dimensión 2**\n",
    "\n",
    "Identificamos a MachineGun y a un jugador en particular, por ejemplo, Lio Messi: "
   ]
  },
  {
   "cell_type": "code",
   "execution_count": 176,
   "metadata": {},
   "outputs": [
    {
     "data": {
      "text/plain": [
       "'temp-plot.html'"
      ]
     },
     "execution_count": 176,
     "metadata": {},
     "output_type": "execute_result"
    }
   ],
   "source": [
    "#Graph 2\n",
    "#Choose your player\n",
    "recherche_joueur=df_acp[\"short_name\"]=='L. Messi'\n",
    "\n",
    "bool_crack=df_acp[\"overall\"] > 85\n",
    "bool_no_crack=df_acp[\"overall\"]<86\n",
    "bool_machinegun=df_acp[\"short_name\"]=='MachineGun'\n",
    "\n",
    "palette=['navy','red','#A2D5F2','orange','green','pink']  \n",
    "data=[]\n",
    "\n",
    "acp_crack =go.Scatter(x=X_projected[bool_crack,0], y=X_projected[bool_crack,1],name='Crack',\n",
    "                      text=df_acp.loc[bool_crack,'short_name'],\n",
    "                      textfont=dict(family='sans serif',size=15,color='black'),\n",
    "                      opacity=0.9,marker=dict(color=palette[2],size=7),mode='markers+text')\n",
    "\n",
    "acp_no_crack =go.Scatter(x=X_projected[bool_no_crack,0], y=X_projected[bool_no_crack,1],name='Average player',\n",
    "                         text=df_acp.loc[bool_no_crack,'short_name'],\n",
    "                         opacity=0.6,marker=dict(color=palette[1],size=3),mode='markers')\n",
    "\n",
    "acp_machinegun =go.Scatter(x=X_projected[bool_machinegun,0], y=X_projected[bool_machinegun,1],name='Perfect player',\n",
    "                           textfont=dict(family='sans serif',size=20,color='black'),\n",
    "                           opacity=0.6,marker=dict(color=palette[3],size=30),mode='markers+text')\n",
    "\n",
    "\n",
    "joueur_recherche =go.Scatter(x=X_projected[recherche_joueur,0], y=X_projected[recherche_joueur,1],name='Searched player',\n",
    "                           text=df_acp.loc[recherche_joueur,'short_name'],\n",
    "                            textfont=dict(family='sans serif',size=20,color='black'),\n",
    "                           opacity=1,marker=dict(color=palette[4],size=40),mode='markers+text')\n",
    "\n",
    "data=[acp_no_crack,acp_crack,acp_machinegun,joueur_recherche]\n",
    "\n",
    "layout = go.Layout(title=\"ACP - Fifa Players\",titlefont=dict(size=20),\n",
    "                xaxis=dict(title='Componente 1'),\n",
    "                yaxis=dict(title='componente 2'),\n",
    "                autosize=False, width=1000,height=1000)\n",
    "\n",
    "fig = go.Figure(data=data, layout=layout)\n",
    "\n",
    "plot(fig)"
   ]
  },
  {
   "cell_type": "markdown",
   "metadata": {},
   "source": [
    "Se puede comparar dos equipos y ver los perfiles de los jugadores en las dos primeras componentes."
   ]
  },
  {
   "cell_type": "code",
   "execution_count": 178,
   "metadata": {},
   "outputs": [
    {
     "data": {
      "text/plain": [
       "'temp-plot.html'"
      ]
     },
     "execution_count": 178,
     "metadata": {},
     "output_type": "execute_result"
    }
   ],
   "source": [
    "teamA='Liverpool'\n",
    "teamB='Manchester United'\n",
    "\n",
    "bool_teamA=df_acp[\"club\"]==teamA\n",
    "bool_teamB=df_acp[\"club\"]==teamB\n",
    "\n",
    "palette=['navy','red','#A2D5F2','orange','green','pink','grey']  \n",
    "data=[]\n",
    "\n",
    "acp_teamA =go.Scatter(x=X_projected[bool_teamA,0], y=X_projected[bool_teamA,1],name=teamA,\n",
    "                      text=df_acp.loc[bool_teamA,'short_name'],\n",
    "                      textfont=dict(family='sans serif',size=20,color='black'),\n",
    "                      opacity=0.7,marker=dict(color=palette[1],size=10),mode='markers+text')\n",
    "\n",
    "acp_teamB =go.Scatter(x=X_projected[bool_teamB,0], y=X_projected[bool_teamB,1],name=teamB,\n",
    "                      text=df_acp.loc[bool_teamB,'short_name'],\n",
    "                      textfont=dict(family='sans serif',size=20,color='black'),\n",
    "                      opacity=0.7,marker=dict(color=palette[4],size=10),mode='markers+text')\n",
    "\n",
    "acp_all =go.Scatter(x=X_projected[:,0], y=X_projected[:,1],name='All',\n",
    "                         text=df_acp.loc[:,'short_name'],\n",
    "                         opacity=0.3,marker=dict(color=palette[6],size=3),mode='markers')\n",
    "\n",
    "\n",
    "data=[acp_teamA,acp_teamB,acp_all]\n",
    "\n",
    "layout = go.Layout(title=\"ACP - {} vs {}\".format(teamA,teamB),titlefont=dict(size=20),\n",
    "                xaxis=dict(title='F1'),\n",
    "                yaxis=dict(title='F2'),\n",
    "                autosize=False, width=1000,height=1000)\n",
    "\n",
    "fig = go.Figure(data=data, layout=layout)\n",
    "\n",
    "plot(fig)"
   ]
  },
  {
   "cell_type": "markdown",
   "metadata": {},
   "source": [
    "# 5 .-Clustering"
   ]
  },
  {
   "cell_type": "markdown",
   "metadata": {},
   "source": [
    "**Trabajo en grupo**: Veamos ahora que agrupamientos podemos hacer de los jugadores usando las dos/tres o cuatro primeras componentes. \n",
    "\n",
    "Presentar este ejercicio (con comentarios) pero con los datos FIFA2020 para el práctico"
   ]
  },
  {
   "cell_type": "code",
   "execution_count": 230,
   "metadata": {},
   "outputs": [
    {
     "name": "stdout",
     "output_type": "stream",
     "text": [
      "dimensiones de la base proyectada: (4316, 4)\n"
     ]
    }
   ],
   "source": [
    "##Hay que quitar MachineGun para Clustering\n",
    "df_acp=df.loc[:n_acp]\n",
    "df_acp=df_acp[(df_acp[\"prefered_position\"]!='GK')&(df['overall']>70)]\n",
    "df_acp.fillna(0,inplace=True)\n",
    "X=df_acp[skills_ratings] # Datos sin estandarizar\n",
    "X_scaled=std_scale.transform(X) # volvemos a normalizar (ya estaba ajustada)\n",
    "X_projected=pca.transform(X_scaled) #volvemos a proyectar \n",
    "print('dimensiones de la base proyectada:', X_projected.shape)"
   ]
  },
  {
   "cell_type": "markdown",
   "metadata": {},
   "source": [
    "k-medias y visualizar los clusters encontrados en las dos primeras componentes"
   ]
  },
  {
   "cell_type": "markdown",
   "metadata": {},
   "source": [
    "## Clustering con K-Means de los resultados de PCA"
   ]
  },
  {
   "cell_type": "code",
   "execution_count": 231,
   "metadata": {},
   "outputs": [
    {
     "name": "stdout",
     "output_type": "stream",
     "text": [
      "Suma de los cuadrados de las distancias al cluster / Inertia:  52511.39877798515\n"
     ]
    }
   ],
   "source": [
    "from sklearn.cluster import KMeans,MeanShift\n",
    "from sklearn import decomposition\n",
    "\n",
    "# Número de clusters buscado\n",
    "n_clust = 3\n",
    "\n",
    "km = KMeans(n_clusters=n_clust)\n",
    "km.fit(X_projected)\n",
    "\n",
    "# Recuperacion de etiquetas\n",
    "clusters = km.labels_\n",
    "print('Suma de los cuadrados de las distancias al cluster / Inertia: ', km.inertia_)"
   ]
  },
  {
   "cell_type": "code",
   "execution_count": 232,
   "metadata": {},
   "outputs": [
    {
     "data": {
      "text/plain": [
       "Text(0.5, 1.0, 'Inertia of k-Means versus number of clusters')"
      ]
     },
     "execution_count": 232,
     "metadata": {},
     "output_type": "execute_result"
    },
    {
     "data": {
      "image/png": "[encoded data removed]",
      "text/plain": [
       "<Figure size 432x288 with 1 Axes>"
      ]
     },
     "metadata": {
      "needs_background": "light"
     },
     "output_type": "display_data"
    }
   ],
   "source": [
    "#Prueba: para elegir el hiperparámetro n_clusters, variando de 2 a 11 clusters\n",
    "min_ = 2\n",
    "max_ = 9\n",
    "scores = [KMeans(n_clusters=i).fit(X_projected).inertia_ for i in range(min_,max_)]\n",
    "\n",
    "from matplotlib import pyplot as plt\n",
    "plt.plot(np.arange(min_, max_), scores)\n",
    "plt.xlabel('Number of clusters')\n",
    "plt.ylabel(\"Inertia\")\n",
    "plt.title(\"Inertia of k-Means versus number of clusters\")"
   ]
  },
  {
   "cell_type": "code",
   "execution_count": 233,
   "metadata": {},
   "outputs": [],
   "source": [
    "df_acp['kmeans_pca'] = km.labels_\n"
   ]
  },
  {
   "cell_type": "code",
   "execution_count": 234,
   "metadata": {},
   "outputs": [
    {
     "data": {
      "text/html": [
       "<div>\n",
       "<style scoped>\n",
       "    .dataframe tbody tr th:only-of-type {\n",
       "        vertical-align: middle;\n",
       "    }\n",
       "\n",
       "    .dataframe tbody tr th {\n",
       "        vertical-align: top;\n",
       "    }\n",
       "\n",
       "    .dataframe thead th {\n",
       "        text-align: right;\n",
       "    }\n",
       "</style>\n",
       "<table border=\"1\" class=\"dataframe\">\n",
       "  <thead>\n",
       "    <tr style=\"text-align: right;\">\n",
       "      <th></th>\n",
       "      <th>c1</th>\n",
       "      <th>c2</th>\n",
       "      <th>c3</th>\n",
       "      <th>c4</th>\n",
       "    </tr>\n",
       "  </thead>\n",
       "  <tbody>\n",
       "    <tr>\n",
       "      <th>0</th>\n",
       "      <td>-10.668152</td>\n",
       "      <td>-3.783402</td>\n",
       "      <td>1.775522</td>\n",
       "      <td>-0.954398</td>\n",
       "    </tr>\n",
       "    <tr>\n",
       "      <th>1</th>\n",
       "      <td>-8.480470</td>\n",
       "      <td>-2.146510</td>\n",
       "      <td>3.692256</td>\n",
       "      <td>-4.568626</td>\n",
       "    </tr>\n",
       "    <tr>\n",
       "      <th>2</th>\n",
       "      <td>-10.380501</td>\n",
       "      <td>-2.178998</td>\n",
       "      <td>0.464070</td>\n",
       "      <td>-0.578689</td>\n",
       "    </tr>\n",
       "    <tr>\n",
       "      <th>3</th>\n",
       "      <td>-9.602670</td>\n",
       "      <td>-2.344930</td>\n",
       "      <td>0.479568</td>\n",
       "      <td>-1.003557</td>\n",
       "    </tr>\n",
       "    <tr>\n",
       "      <th>4</th>\n",
       "      <td>-7.201385</td>\n",
       "      <td>-6.063770</td>\n",
       "      <td>2.357023</td>\n",
       "      <td>-1.015839</td>\n",
       "    </tr>\n",
       "    <tr>\n",
       "      <th>...</th>\n",
       "      <td>...</td>\n",
       "      <td>...</td>\n",
       "      <td>...</td>\n",
       "      <td>...</td>\n",
       "    </tr>\n",
       "    <tr>\n",
       "      <th>4311</th>\n",
       "      <td>-1.176321</td>\n",
       "      <td>1.417328</td>\n",
       "      <td>-0.504983</td>\n",
       "      <td>2.748819</td>\n",
       "    </tr>\n",
       "    <tr>\n",
       "      <th>4312</th>\n",
       "      <td>-1.637706</td>\n",
       "      <td>2.656093</td>\n",
       "      <td>2.596965</td>\n",
       "      <td>0.434145</td>\n",
       "    </tr>\n",
       "    <tr>\n",
       "      <th>4313</th>\n",
       "      <td>0.917951</td>\n",
       "      <td>-1.711664</td>\n",
       "      <td>0.480323</td>\n",
       "      <td>1.087081</td>\n",
       "    </tr>\n",
       "    <tr>\n",
       "      <th>4314</th>\n",
       "      <td>2.023467</td>\n",
       "      <td>-0.577484</td>\n",
       "      <td>0.390639</td>\n",
       "      <td>0.282121</td>\n",
       "    </tr>\n",
       "    <tr>\n",
       "      <th>4315</th>\n",
       "      <td>3.692653</td>\n",
       "      <td>-0.076319</td>\n",
       "      <td>-0.892381</td>\n",
       "      <td>0.092635</td>\n",
       "    </tr>\n",
       "  </tbody>\n",
       "</table>\n",
       "<p>4316 rows × 4 columns</p>\n",
       "</div>"
      ],
      "text/plain": [
       "             c1        c2        c3        c4\n",
       "0    -10.668152 -3.783402  1.775522 -0.954398\n",
       "1     -8.480470 -2.146510  3.692256 -4.568626\n",
       "2    -10.380501 -2.178998  0.464070 -0.578689\n",
       "3     -9.602670 -2.344930  0.479568 -1.003557\n",
       "4     -7.201385 -6.063770  2.357023 -1.015839\n",
       "...         ...       ...       ...       ...\n",
       "4311  -1.176321  1.417328 -0.504983  2.748819\n",
       "4312  -1.637706  2.656093  2.596965  0.434145\n",
       "4313   0.917951 -1.711664  0.480323  1.087081\n",
       "4314   2.023467 -0.577484  0.390639  0.282121\n",
       "4315   3.692653 -0.076319 -0.892381  0.092635\n",
       "\n",
       "[4316 rows x 4 columns]"
      ]
     },
     "execution_count": 234,
     "metadata": {},
     "output_type": "execute_result"
    }
   ],
   "source": [
    "pd.DataFrame(X_projected).rename(columns={0:'c1',1:'c2',2:'c3',3:'c4'})"
   ]
  },
  {
   "cell_type": "code",
   "execution_count": 235,
   "metadata": {},
   "outputs": [
    {
     "data": {
      "text/plain": [
       "'temp-plot.html'"
      ]
     },
     "execution_count": 235,
     "metadata": {},
     "output_type": "execute_result"
    }
   ],
   "source": [
    "data=[]\n",
    "df_gr = df_acp\n",
    "bool_crack=df_gr[\"overall\"] > 85\n",
    "bool_no_crack=df_gr[\"overall\"] < 86\n",
    "\n",
    "\n",
    "df_skills=pd.DataFrame(X_projected).rename(columns={0:'c1',1:'c2',2:'c3',3:'c4'})\n",
    "#Eligo dos números entre 0 y  de n_skills-1\n",
    "skill_1='c1'\n",
    "skill_2='c2' #skills_ratings[25]\n",
    "\n",
    "\n",
    "kmean_clusters = go.Scatter(x=df_skills[skill_1], y=df_skills[skill_2],\n",
    "                           mode='markers',\n",
    "                        text=df_gr.loc[:,'short_name'],\n",
    "                           marker=dict(\n",
    "                                size=5,\n",
    "                                color = clusters.astype(np.float), #set color equal to a variable\n",
    "                                colorscale='Portland',\n",
    "                                showscale=False)\n",
    "                           )\n",
    "\n",
    "\n",
    "data=[kmean_clusters]\n",
    "\n",
    "layout = go.Layout(title=\"Clustering K means \",titlefont=dict(size=20),\n",
    "                xaxis=dict(title=skill_1),\n",
    "                yaxis=dict(title=skill_2),\n",
    "                autosize=False, width=1000,height=1000)\n",
    "\n",
    "fig = go.Figure(data=data, layout=layout)\n",
    "\n",
    "plot(fig)"
   ]
  },
  {
   "cell_type": "code",
   "execution_count": 236,
   "metadata": {},
   "outputs": [
    {
     "data": {
      "text/html": [
       "<div>\n",
       "<style scoped>\n",
       "    .dataframe tbody tr th:only-of-type {\n",
       "        vertical-align: middle;\n",
       "    }\n",
       "\n",
       "    .dataframe tbody tr th {\n",
       "        vertical-align: top;\n",
       "    }\n",
       "\n",
       "    .dataframe thead th {\n",
       "        text-align: right;\n",
       "    }\n",
       "</style>\n",
       "<table border=\"1\" class=\"dataframe\">\n",
       "  <thead>\n",
       "    <tr style=\"text-align: right;\">\n",
       "      <th></th>\n",
       "      <th>Cantidad de muestras por cluster</th>\n",
       "      <th>Tamaño relativo del cluster (representatividad) [%]</th>\n",
       "    </tr>\n",
       "    <tr>\n",
       "      <th>kmeans_pca</th>\n",
       "      <th></th>\n",
       "      <th></th>\n",
       "    </tr>\n",
       "  </thead>\n",
       "  <tbody>\n",
       "    <tr>\n",
       "      <th>0</th>\n",
       "      <td>1714</td>\n",
       "      <td>39.712697</td>\n",
       "    </tr>\n",
       "    <tr>\n",
       "      <th>1</th>\n",
       "      <td>870</td>\n",
       "      <td>20.157553</td>\n",
       "    </tr>\n",
       "    <tr>\n",
       "      <th>2</th>\n",
       "      <td>1732</td>\n",
       "      <td>40.129750</td>\n",
       "    </tr>\n",
       "  </tbody>\n",
       "</table>\n",
       "</div>"
      ],
      "text/plain": [
       "            Cantidad de muestras por cluster  \\\n",
       "kmeans_pca                                     \n",
       "0                                       1714   \n",
       "1                                        870   \n",
       "2                                       1732   \n",
       "\n",
       "            Tamaño relativo del cluster (representatividad) [%]   \n",
       "kmeans_pca                                                        \n",
       "0                                                   39.712697     \n",
       "1                                                   20.157553     \n",
       "2                                                   40.129750     "
      ]
     },
     "execution_count": 236,
     "metadata": {},
     "output_type": "execute_result"
    }
   ],
   "source": [
    "cl_count = df_acp.groupby(['kmeans_pca']).sofifa_id.count()\n",
    "cl_rel = 100*cl_count/len(df_acp)\n",
    "pd.DataFrame({'Cantidad de muestras por cluster': cl_count, 'Tamaño relativo del cluster (representatividad) [%] ':cl_rel})"
   ]
  },
  {
   "cell_type": "code",
   "execution_count": 237,
   "metadata": {},
   "outputs": [
    {
     "data": {
      "text/html": [
       "<div>\n",
       "<style scoped>\n",
       "    .dataframe tbody tr th:only-of-type {\n",
       "        vertical-align: middle;\n",
       "    }\n",
       "\n",
       "    .dataframe tbody tr th {\n",
       "        vertical-align: top;\n",
       "    }\n",
       "\n",
       "    .dataframe thead th {\n",
       "        text-align: right;\n",
       "    }\n",
       "</style>\n",
       "<table border=\"1\" class=\"dataframe\">\n",
       "  <thead>\n",
       "    <tr style=\"text-align: right;\">\n",
       "      <th>kmeans_pca</th>\n",
       "      <th>0</th>\n",
       "      <th>1</th>\n",
       "      <th>2</th>\n",
       "    </tr>\n",
       "    <tr>\n",
       "      <th>pref_pos_2</th>\n",
       "      <th></th>\n",
       "      <th></th>\n",
       "      <th></th>\n",
       "    </tr>\n",
       "  </thead>\n",
       "  <tbody>\n",
       "    <tr>\n",
       "      <th>ATAQUE</th>\n",
       "      <td>1681</td>\n",
       "      <td>2</td>\n",
       "      <td>183</td>\n",
       "    </tr>\n",
       "    <tr>\n",
       "      <th>DEFENSA</th>\n",
       "      <td>33</td>\n",
       "      <td>868</td>\n",
       "      <td>1549</td>\n",
       "    </tr>\n",
       "  </tbody>\n",
       "</table>\n",
       "</div>"
      ],
      "text/plain": [
       "kmeans_pca     0    1     2\n",
       "pref_pos_2                 \n",
       "ATAQUE      1681    2   183\n",
       "DEFENSA       33  868  1549"
      ]
     },
     "execution_count": 237,
     "metadata": {},
     "output_type": "execute_result"
    }
   ],
   "source": [
    "# Las posiciones son muchas, asique las resumo en 4 -> arquero, defensor, mediocampo, delantero\n",
    "df_acp['pref_pos_1'] =  df_acp.prefered_position\n",
    "df_acp['pref_pos_1'] =  df_acp['pref_pos_1'].apply(lambda x: 'ARQUERO' if x in ['GK'] else x)\n",
    "df_acp['pref_pos_1'] =  df_acp['pref_pos_1'].apply(lambda x: 'DELANTERO' if x in ['ST','CF','RW','LW'] else x)\n",
    "#df_acp['pref_pos_1'] =  df_acp['pref_pos_1'].apply(lambda x: 'MEDIOCAMPO' if x in ['CAM','RM','CM','RM','LM','CDM'] else x)\n",
    "df_acp['pref_pos_1'] =  df_acp['pref_pos_1'].apply(lambda x: 'DEFENSOR' if x in ['RWB','RB','CB','LB','LWB'] else x)\n",
    "\n",
    "df_acp['pref_pos_2'] = df_acp.prefered_position\n",
    "# Las posiciones son muchas, asique las resumo en 4 -> arquero, defensor, mediocampo, delantero\n",
    "df_acp.pref_pos_2 =  df_acp.pref_pos_2.apply(lambda x: 'ARQUERO' if x in ['GK'] else x)\n",
    "df_acp.pref_pos_2 =  df_acp.pref_pos_2.apply(lambda x: 'ATAQUE' if x in ['ST','CF','RW','LW','CAM','LM','RM'] else x)\n",
    "df_acp.pref_pos_2 =  df_acp.pref_pos_2.apply(lambda x: 'DEFENSA' if x in ['RWB','RB','CB','LB','LWB','CDM','CM'] else x)\n",
    "\n",
    "pd.crosstab(df_acp.pref_pos_2,df_acp.kmeans_pca)"
   ]
  },
  {
   "cell_type": "markdown",
   "metadata": {},
   "source": [
    "Utilizando el esquema que se muestra antes y considerando que no hay arqueros, kmeans funciona mejor dividiendo en 3 clusters con 4 componentes principales y planteando lo siguiente, grupo 0: ataque, grupo 1:defensa, grupo 3: defensa, es decir que dos clusters corresponden al mismo label. "
   ]
  },
  {
   "cell_type": "markdown",
   "metadata": {},
   "source": [
    "Mean Shift y visualizar en las dos primeras componentes "
   ]
  },
  {
   "cell_type": "markdown",
   "metadata": {},
   "source": [
    "## Clustering con MeanShift de los resultados de PCA"
   ]
  },
  {
   "cell_type": "code",
   "execution_count": 252,
   "metadata": {},
   "outputs": [
    {
     "name": "stdout",
     "output_type": "stream",
     "text": [
      "Estimated BW: 38.47781632359632\n",
      "Numero estimado de clusters para Mean Shift : 2\n"
     ]
    }
   ],
   "source": [
    "from sklearn.cluster import KMeans,MeanShift,estimate_bandwidth\n",
    "from sklearn import decomposition\n",
    "from sklearn.preprocessing import MinMaxScaler\n",
    "\n",
    "# tomo solo las dos primeras componentes\n",
    "X_proj_2 = X_projected[:,:2]\n",
    "\n",
    "bw = estimate_bandwidth(X_tsne)\n",
    "print ('Estimated BW: {}'.format(bw))\n",
    "ms = MeanShift(bandwidth=3, bin_seeding=False)\n",
    "\n",
    "ms.fit(X_proj_2)\n",
    "\n",
    "clusters2 = ms.labels_\n",
    "cluster_centers = ms.cluster_centers_\n",
    "\n",
    "labels_unique = np.unique(clusters2)\n",
    "n_clusters_ = len(labels_unique)\n",
    "\n",
    "print(\"Numero estimado de clusters para Mean Shift : %d\" % n_clusters_)\n",
    "df_acp['MeanShift'] = ms.labels_"
   ]
  },
  {
   "cell_type": "code",
   "execution_count": 253,
   "metadata": {},
   "outputs": [
    {
     "data": {
      "text/plain": [
       "'temp-plot.html'"
      ]
     },
     "execution_count": 253,
     "metadata": {},
     "output_type": "execute_result"
    }
   ],
   "source": [
    "data=[]\n",
    "bool_crack=df_acp[\"overall\"] > 85\n",
    "bool_no_crack=df_acp[\"overall\"] < 86\n",
    "\n",
    "\n",
    "df_skills=pd.DataFrame(X_proj_2).rename(columns={0:'c1',1:'c2'})\n",
    "df_n=df_sne\n",
    "#Eligo dos números entre 0 y  de n_skills-1\n",
    "skill_1='c1'\n",
    "skill_2='c2' #skills_ratings[25]\n",
    "\n",
    "MeanShift_clusters = go.Scatter(x=df_skills[skill_1], y=df_skills[skill_2],\n",
    "                           mode='markers',\n",
    "                        text=df_acp.loc[:,'short_name'],\n",
    "                           marker=dict(\n",
    "                                size=5,\n",
    "                                color = clusters2.astype(np.float), #set color equal to a variable\n",
    "                                colorscale='Portland',\n",
    "                                showscale=False)\n",
    "                           )\n",
    "\n",
    "data=[MeanShift_clusters]\n",
    "\n",
    "layout = go.Layout(title=\"Mean Shift\",titlefont=dict(size=20),\n",
    "                xaxis=dict(title=skill_1),\n",
    "                yaxis=dict(title=skill_2),\n",
    "                autosize=False, width=1000,height=1000)\n",
    "\n",
    "fig = go.Figure(data=data, layout=layout)\n",
    "\n",
    "plot(fig)"
   ]
  },
  {
   "cell_type": "code",
   "execution_count": 254,
   "metadata": {},
   "outputs": [
    {
     "data": {
      "text/html": [
       "<div>\n",
       "<style scoped>\n",
       "    .dataframe tbody tr th:only-of-type {\n",
       "        vertical-align: middle;\n",
       "    }\n",
       "\n",
       "    .dataframe tbody tr th {\n",
       "        vertical-align: top;\n",
       "    }\n",
       "\n",
       "    .dataframe thead th {\n",
       "        text-align: right;\n",
       "    }\n",
       "</style>\n",
       "<table border=\"1\" class=\"dataframe\">\n",
       "  <thead>\n",
       "    <tr style=\"text-align: right;\">\n",
       "      <th>MeanShift</th>\n",
       "      <th>0</th>\n",
       "      <th>1</th>\n",
       "    </tr>\n",
       "    <tr>\n",
       "      <th>pref_pos_2</th>\n",
       "      <th></th>\n",
       "      <th></th>\n",
       "    </tr>\n",
       "  </thead>\n",
       "  <tbody>\n",
       "    <tr>\n",
       "      <th>ATAQUE</th>\n",
       "      <td>174</td>\n",
       "      <td>1406</td>\n",
       "    </tr>\n",
       "    <tr>\n",
       "      <th>DEFENSA</th>\n",
       "      <td>2024</td>\n",
       "      <td>20</td>\n",
       "    </tr>\n",
       "  </tbody>\n",
       "</table>\n",
       "</div>"
      ],
      "text/plain": [
       "MeanShift      0     1\n",
       "pref_pos_2            \n",
       "ATAQUE       174  1406\n",
       "DEFENSA     2024    20"
      ]
     },
     "execution_count": 254,
     "metadata": {},
     "output_type": "execute_result"
    }
   ],
   "source": [
    "pd.crosstab(df_sne.pref_pos_2,df_acp.MeanShift)"
   ]
  },
  {
   "cell_type": "markdown",
   "metadata": {},
   "source": [
    "forzando a MeanShift con un bandwidth de 3 sobre las dos primera componentes principales se obtienen buenos resultados como se muestra en la tabla de contingencia anterior los clusters tienen poco solapamiento, en conclusion MeanShift funciona mucho mejor sobre componentes principales que cualquier otro embeding visto en la cursada."
   ]
  },
  {
   "cell_type": "code",
   "execution_count": null,
   "metadata": {},
   "outputs": [],
   "source": [
    "#clusters2= ms.labels_"
   ]
  },
  {
   "cell_type": "code",
   "execution_count": 255,
   "metadata": {},
   "outputs": [
    {
     "data": {
      "text/plain": [
       "'temp-plot.html'"
      ]
     },
     "execution_count": 255,
     "metadata": {},
     "output_type": "execute_result"
    }
   ],
   "source": [
    "data=[]\n",
    "bool_crack=df_acp[\"overall\"] > 85\n",
    "bool_no_crack=df_acp[\"overall\"]<86\n",
    "\n",
    "kmean_clusters = go.Scatter(x=X_projected[:,0], y=X_projected[:,1],\n",
    "                           mode='markers',\n",
    "                        text=df_acp.loc[:,'short_name'],\n",
    "                           marker=dict(\n",
    "                                size=5,\n",
    "                                color = clusters2.astype(np.float), #set color equal to a variable\n",
    "                                colorscale='Portland',\n",
    "                                showscale=False)\n",
    "                           )\n",
    "\n",
    "acp_crack =go.Scatter(x=X_projected[bool_crack,0], y=X_projected[bool_crack,1],name='Top players',\n",
    "                      text=df_acp.loc[bool_crack,'short_name'],\n",
    "                      textfont=dict(family='sans serif',size=10,color='black'),\n",
    "                      opacity=0.9,mode='text')\n",
    "\n",
    "data=[kmean_clusters,acp_crack]\n",
    "\n",
    "layout = go.Layout(title=\"ACP + Clustering Mean Shift \",titlefont=dict(size=20),\n",
    "                xaxis=dict(title='Componente 1'),\n",
    "                yaxis=dict(title='Componente 2'),\n",
    "                autosize=False, width=1000,height=1000)\n",
    "\n",
    "fig = go.Figure(data=data, layout=layout)\n",
    "\n",
    "plot(fig)"
   ]
  },
  {
   "cell_type": "code",
   "execution_count": 256,
   "metadata": {},
   "outputs": [],
   "source": [
    "#df_clusters=df_acp.copy()\n",
    "#df_clusters['kmeans'] = km.labels_\n",
    "#df_clusters['MeanShift'] = ms.labels_\n",
    "#df_clusters.head()"
   ]
  },
  {
   "cell_type": "code",
   "execution_count": null,
   "metadata": {},
   "outputs": [],
   "source": []
  }
 ],
 "metadata": {
  "kernelspec": {
   "display_name": "Python 3",
   "language": "python",
   "name": "python3"
  },
  "language_info": {
   "codemirror_mode": {
    "name": "ipython",
    "version": 3
   },
   "file_extension": ".py",
   "mimetype": "text/x-python",
   "name": "python",
   "nbconvert_exporter": "python",
   "pygments_lexer": "ipython3",
   "version": "3.8.5"
  }
 },
 "nbformat": 4,
 "nbformat_minor": 4
}
