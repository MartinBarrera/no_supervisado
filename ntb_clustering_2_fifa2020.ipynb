{
 "cells": [
  {
   "cell_type": "markdown",
   "metadata": {
    "slideshow": {
     "slide_type": "slide"
    }
   },
   "source": [
    "<center>\n",
    "<img src=\"FIFA-19-Background-1-768x401.jpg\" />\n",
    "    \n",
    "## Aprendizaje No Supervisado 2020 DiploDatos\n",
    "    Laura Alonso Alemany, Ana Georgina Flesia y Valeria Rulloni\n",
    "## Agrupamiento con el FIFA 2019 dataset\n",
    "    \n",
    "Material basado en notas de Ana Georgina Flesia bajo los términos y condiciones de la licencia [Creative Commons CC BY-NC-SA 4.0](https://creativecommons.org/licenses/by-nc-sa/4.0/), a su vez basado de material de [SilveMel](https://www.kaggle.com/karangadiya/fifa19/downloads/data.csv/comments) y otros."
   ]
  },
  {
   "cell_type": "markdown",
   "metadata": {
    "slideshow": {
     "slide_type": "skip"
    }
   },
   "source": [
    "### Indice de temas\n",
    "1. [Inicialización del entorno](#1.-Inicialización-del-entorno)\n",
    "2. [Preparación de los datos](#2.-Preparación-de-los-datos)\n",
    "3. [Clustering KM](#3.-Clustering-con-Kmeans)\n",
    "4. [Clustering MS](#4.-Clustering-con-Mean-Shift)\n",
    "5. [Clustering KM2](#5.-Clustering-con-Kmeans-sin-arqueros)\n",
    "6. [Clustering MS2](#6.-Clustering-con-Mean-Shift-sin-arqueros)"
   ]
  },
  {
   "cell_type": "markdown",
   "metadata": {
    "slideshow": {
     "slide_type": "slide"
    }
   },
   "source": [
    "## 1.-Inicialización-del-entorno"
   ]
  },
  {
   "cell_type": "markdown",
   "metadata": {
    "slideshow": {
     "slide_type": "fragment"
    }
   },
   "source": [
    "Empezamos cargando algunas herramientas para cargar los datos y manipularlos."
   ]
  },
  {
   "cell_type": "code",
   "execution_count": 1,
   "metadata": {
    "_cell_guid": "79c7e3d0-c299-4dcb-8224-4455121ee9b0",
    "_uuid": "d629ff2d2480ee46fbb7e2d37f6b5fab8052498a",
    "slideshow": {
     "slide_type": "fragment"
    }
   },
   "outputs": [],
   "source": [
    "import numpy as np\n",
    "import pandas as pd\n",
    "pd.set_option('display.max_columns',100)\n",
    "pd.set_option('display.max_rows',1000)\n",
    "import itertools\n",
    "import warnings\n",
    "warnings.filterwarnings(\"ignore\")\n",
    "import io"
   ]
  },
  {
   "cell_type": "markdown",
   "metadata": {
    "slideshow": {
     "slide_type": "fragment"
    }
   },
   "source": [
    "Para visualización usamos plotly, pero podemos usar seaborn tambien, o matplotlib. "
   ]
  },
  {
   "cell_type": "code",
   "execution_count": 2,
   "metadata": {
    "slideshow": {
     "slide_type": "fragment"
    }
   },
   "outputs": [
    {
     "data": {
      "text/html": [
       "        <script type=\"text/javascript\">\n",
       "        window.PlotlyConfig = {MathJaxConfig: 'local'};\n",
       "        if (window.MathJax) {MathJax.Hub.Config({SVG: {font: \"STIX-Web\"}});}\n",
       "        if (typeof require !== 'undefined') {\n",
       "        require.undef(\"plotly\");\n",
       "        requirejs.config({\n",
       "            paths: {\n",
       "                'plotly': ['https://cdn.plot.ly/plotly-latest.min']\n",
       "            }\n",
       "        });\n",
       "        require(['plotly'], function(Plotly) {\n",
       "            window._Plotly = Plotly;\n",
       "        });\n",
       "        }\n",
       "        </script>\n",
       "        "
      ]
     },
     "metadata": {},
     "output_type": "display_data"
    }
   ],
   "source": [
    "from plotly.offline import init_notebook_mode, plot,iplot\n",
    "import plotly.graph_objs as go\n",
    "init_notebook_mode(connected=True)\n",
    "import matplotlib.pyplot as plt\n",
    "import plotly.tools as tls#visualization\n",
    "import plotly.figure_factory as ff#visualization\n",
    "import seaborn as sns"
   ]
  },
  {
   "cell_type": "markdown",
   "metadata": {
    "slideshow": {
     "slide_type": "slide"
    }
   },
   "source": [
    "## 2.-Preparación-de-los-datos"
   ]
  },
  {
   "cell_type": "markdown",
   "metadata": {
    "slideshow": {
     "slide_type": "fragment"
    }
   },
   "source": [
    "Cargamos los datos bajados de la database de [Kaggle](https://www.kaggle.com/karangadiya/fifa19) como 'data.csv'. "
   ]
  },
  {
   "cell_type": "code",
   "execution_count": 3,
   "metadata": {},
   "outputs": [],
   "source": [
    "df=pd.read_csv(\"players_20.csv\")"
   ]
  },
  {
   "cell_type": "markdown",
   "metadata": {},
   "source": [
    "**Preparamos la base para Clustering:**\n",
    "\n",
    "**Retiramos jugadores con bajo Desempeño global (\"Overall\")**\n",
    "\n",
    "**y consideramos Variables de desempeño por habilidad (skills_ratings)**"
   ]
  },
  {
   "cell_type": "code",
   "execution_count": null,
   "metadata": {},
   "outputs": [],
   "source": []
  },
  {
   "cell_type": "code",
   "execution_count": 164,
   "metadata": {},
   "outputs": [
    {
     "name": "stdout",
     "output_type": "stream",
     "text": [
      "46\n"
     ]
    }
   ],
   "source": [
    "n=10000\n",
    "\n",
    "df_n=df.loc[:n] #los primeros n\n",
    "df_n=df_n[(df_n['overall']>70)] # mejores jugadores\n",
    "\n",
    "skills_ratings = [#'age', 'height_cm', 'weight_kg',\n",
    "       #'potential', #'value_eur', 'wage_eur',\n",
    "       #'weak_foot', 'skill_moves',\n",
    "       #'release_clause_eur',\n",
    "       'pace', 'shooting', 'passing', 'dribbling', 'defending', 'physic',\n",
    "       'gk_diving', 'gk_handling', 'gk_kicking', 'gk_reflexes', 'gk_speed',\n",
    "       'gk_positioning', 'attacking_crossing', 'attacking_finishing',\n",
    "       'attacking_heading_accuracy', 'attacking_short_passing',\n",
    "       'attacking_volleys', 'skill_dribbling', 'skill_curve',\n",
    "       'skill_fk_accuracy', 'skill_long_passing', 'skill_ball_control',\n",
    "       'movement_acceleration', 'movement_sprint_speed', 'movement_agility',\n",
    "       'movement_reactions', 'movement_balance', 'power_shot_power',\n",
    "       'power_jumping', 'power_stamina', 'power_strength', 'power_long_shots',\n",
    "       'mentality_aggression', 'mentality_interceptions',\n",
    "       'mentality_positioning', 'mentality_vision', 'mentality_penalties',\n",
    "       'mentality_composure', 'defending_marking', 'defending_standing_tackle',\n",
    "       'defending_sliding_tackle', 'goalkeeping_diving',\n",
    "       'goalkeeping_handling', 'goalkeeping_kicking',\n",
    "       'goalkeeping_positioning', 'goalkeeping_reflexes',]\n",
    "\n",
    "print(len(skills_ratings))\n",
    "\n",
    "df_skills=df_n[skills_ratings]\n"
   ]
  },
  {
   "cell_type": "markdown",
   "metadata": {},
   "source": [
    "En la celda aneterior se eligen las variables con las cuales se realiza el clustering, las variables comentadas corresponden a valores en euros, estas variables tienen un peso importante en el clustering en celdas poseriores y generan un agrupamiento muy diferente al deseado, quedan comentadas en caso de que quiera obserbarse dicho efecto. \n",
    "Las variables *age, weight, heigtht, potential, week foot y skill moves* no aportan nada al clustering, es decir, no cambian las agrupaciones ni el tamaño de las mismas, por esta razon y para simplificar el modelo se decide eliminarlas, de igual modo se decide comentarlas en caso de que el lector quiera probar lo planteado."
   ]
  },
  {
   "cell_type": "code",
   "execution_count": 165,
   "metadata": {},
   "outputs": [],
   "source": [
    "df_skills.fillna(0, inplace=True)"
   ]
  },
  {
   "cell_type": "markdown",
   "metadata": {},
   "source": [
    "# 3.-Clustering-con-Kmeans\n",
    "\n",
    "ES necesario definirle la cantidad de grupos/clusters (n_clusters), es un hiperparámetro del algoritmo. \n"
   ]
  },
  {
   "cell_type": "code",
   "execution_count": 166,
   "metadata": {},
   "outputs": [
    {
     "name": "stdout",
     "output_type": "stream",
     "text": [
      "Suma de los cuadrados de las distancias al cluster / Inertia:  18065316.746327743\n"
     ]
    }
   ],
   "source": [
    "from sklearn.cluster import KMeans,MeanShift\n",
    "from sklearn import decomposition\n",
    "\n",
    "# Número de clusters buscado\n",
    "n_clust = 3\n",
    "\n",
    "km = KMeans(n_clusters=n_clust)\n",
    "km.fit(df_skills)\n",
    "\n",
    "# Recuperacion de etiquetas\n",
    "clusters = km.labels_\n",
    "print('Suma de los cuadrados de las distancias al cluster / Inertia: ', km.inertia_)"
   ]
  },
  {
   "cell_type": "markdown",
   "metadata": {},
   "source": [
    "**Elección de la cantidad de grupos/clusters**\n",
    "\n",
    "Una forma de seleccionar la cantidad más adecuada de clusters es probar varias cantidades y usar el criterio del codo: \"elbow method\", utilizando una medida de ajuste que puede ser Inertia."
   ]
  },
  {
   "cell_type": "code",
   "execution_count": 167,
   "metadata": {},
   "outputs": [
    {
     "data": {
      "text/plain": [
       "Text(0.5, 1.0, 'Inertia of k-Means versus number of clusters')"
      ]
     },
     "execution_count": 167,
     "metadata": {},
     "output_type": "execute_result"
    },
    {
     "data": {
      "image/png": "[encoded data removed]",
      "text/plain": [
       "<Figure size 432x288 with 1 Axes>"
      ]
     },
     "metadata": {
      "needs_background": "light"
     },
     "output_type": "display_data"
    }
   ],
   "source": [
    "#Prueba: para elegir el hiperparámetro n_clusters, variando de 2 a 11 clusters\n",
    "min_ = 2\n",
    "max_ = 9\n",
    "scores = [KMeans(n_clusters=i).fit(df_skills).inertia_ for i in range(min_,max_)]\n",
    "\n",
    "from matplotlib import pyplot as plt\n",
    "plt.plot(np.arange(min_, max_), scores)\n",
    "plt.xlabel('Number of clusters')\n",
    "plt.ylabel(\"Inertia\")\n",
    "plt.title(\"Inertia of k-Means versus number of clusters\")"
   ]
  },
  {
   "cell_type": "markdown",
   "metadata": {},
   "source": [
    "**Graficamos el resultado kmedias con la cantidad de clases elegida: Visualizamos de a dos variables por vez**"
   ]
  },
  {
   "cell_type": "code",
   "execution_count": 168,
   "metadata": {},
   "outputs": [
    {
     "data": {
      "text/plain": [
       "'temp-plot.html'"
      ]
     },
     "execution_count": 168,
     "metadata": {},
     "output_type": "execute_result"
    }
   ],
   "source": [
    "data=[]\n",
    "bool_crack=df_n[\"overall\"] > 85\n",
    "bool_no_crack=df_n[\"overall\"]<86\n",
    "\n",
    "\n",
    "#Eligo dos números entre 0 y  de n_skills-1\n",
    "skill_1='defending_standing_tackle' #skills_ratings[6]\n",
    "skill_2='attacking_volleys' #skills_ratings[25]\n",
    "\n",
    "\n",
    "kmean_clusters = go.Scatter(x=df_skills[skill_1], y=df_skills[skill_2],\n",
    "                           mode='markers',\n",
    "                        text=df_n.loc[:,'short_name'],\n",
    "                           marker=dict(\n",
    "                                size=5,\n",
    "                                color = clusters.astype(np.float), #set color equal to a variable\n",
    "                                colorscale='Portland',\n",
    "                                showscale=False)\n",
    "                           )\n",
    "\n",
    "crack =go.Scatter(x=df_skills.loc[bool_crack,skill_1], y=df_skills.loc[bool_crack,skill_2],name='Ckacks!!',\n",
    "                      text=df_n.loc[bool_crack,'short_name'],\n",
    "                      textfont=dict(family='sans serif',size=10,color='black'),\n",
    "                      opacity=0.9,mode='text')\n",
    "\n",
    "data=[kmean_clusters,crack]\n",
    "\n",
    "layout = go.Layout(title=\"Clustering K means \",titlefont=dict(size=20),\n",
    "                xaxis=dict(title=skill_1),\n",
    "                yaxis=dict(title=skill_2),\n",
    "                autosize=False, width=1000,height=1000)\n",
    "\n",
    "fig = go.Figure(data=data, layout=layout)\n",
    "\n",
    "plot(fig)"
   ]
  },
  {
   "cell_type": "code",
   "execution_count": 169,
   "metadata": {
    "scrolled": true
   },
   "outputs": [
    {
     "name": "stdout",
     "output_type": "stream",
     "text": [
      "Kmeans encontró:  3 clusters, nosotros forzamos la cantidad\n"
     ]
    }
   ],
   "source": [
    "df_clusters=df_n.copy()\n",
    "df_clusters['kmeans'] = km.labels_ #clusters\n",
    "print('Kmeans encontró: ', max(km.labels_)+1, 'clusters, nosotros forzamos la cantidad')"
   ]
  },
  {
   "cell_type": "markdown",
   "metadata": {},
   "source": [
    "**EVALUACIÓN**\n",
    "\n",
    "**EJERCICIO: Análisis exploratorio de los clusters, usando las clases asignadas por kmeans** \n",
    "- Cantidad de observaciones por Cluster\n",
    "- Análisis descriptivo separando por Cluster\n",
    "- Tabla de contingencia alguna categórica vs clusters\n",
    "- Silohuette?\n"
   ]
  },
  {
   "cell_type": "code",
   "execution_count": 170,
   "metadata": {},
   "outputs": [
    {
     "data": {
      "text/html": [
       "<div>\n",
       "<style scoped>\n",
       "    .dataframe tbody tr th:only-of-type {\n",
       "        vertical-align: middle;\n",
       "    }\n",
       "\n",
       "    .dataframe tbody tr th {\n",
       "        vertical-align: top;\n",
       "    }\n",
       "\n",
       "    .dataframe thead th {\n",
       "        text-align: right;\n",
       "    }\n",
       "</style>\n",
       "<table border=\"1\" class=\"dataframe\">\n",
       "  <thead>\n",
       "    <tr style=\"text-align: right;\">\n",
       "      <th></th>\n",
       "      <th>Cantidad de muestras por cluster</th>\n",
       "      <th>Tamaño relativo del cluster (representatividad) [%]</th>\n",
       "    </tr>\n",
       "    <tr>\n",
       "      <th>kmeans</th>\n",
       "      <th></th>\n",
       "      <th></th>\n",
       "    </tr>\n",
       "  </thead>\n",
       "  <tbody>\n",
       "    <tr>\n",
       "      <th>0</th>\n",
       "      <td>1932</td>\n",
       "      <td>40.622372</td>\n",
       "    </tr>\n",
       "    <tr>\n",
       "      <th>1</th>\n",
       "      <td>440</td>\n",
       "      <td>9.251472</td>\n",
       "    </tr>\n",
       "    <tr>\n",
       "      <th>2</th>\n",
       "      <td>2384</td>\n",
       "      <td>50.126156</td>\n",
       "    </tr>\n",
       "  </tbody>\n",
       "</table>\n",
       "</div>"
      ],
      "text/plain": [
       "        Cantidad de muestras por cluster  \\\n",
       "kmeans                                     \n",
       "0                                   1932   \n",
       "1                                    440   \n",
       "2                                   2384   \n",
       "\n",
       "        Tamaño relativo del cluster (representatividad) [%]   \n",
       "kmeans                                                        \n",
       "0                                               40.622372     \n",
       "1                                                9.251472     \n",
       "2                                               50.126156     "
      ]
     },
     "execution_count": 170,
     "metadata": {},
     "output_type": "execute_result"
    }
   ],
   "source": [
    "cl_count = df_clusters.groupby(['kmeans']).sofifa_id.count()\n",
    "cl_rel = 100*cl_count/len(df_clusters)\n",
    "pd.DataFrame({'Cantidad de muestras por cluster': cl_count, 'Tamaño relativo del cluster (representatividad) [%] ':cl_rel})"
   ]
  },
  {
   "cell_type": "code",
   "execution_count": 171,
   "metadata": {},
   "outputs": [],
   "source": [
    "# La primera opcion de las posiciones es la preferida por el jugador\n",
    "df_clusters['prefered_position'] = df_clusters.player_positions.str.split(',').apply(lambda l: l[0])\n",
    "# Las posiciones son muchas, asique las resumo en 4 -> arquero, defensor, mediocampo, delantero\n",
    "df_clusters.prefered_position =  df_clusters.prefered_position.apply(lambda x: 'ARQUERO' if x in ['GK'] else x)\n",
    "df_clusters.prefered_position =  df_clusters.prefered_position.apply(lambda x: 'DELANTERO' if x in ['ST','CF','RW','LW'] else x)\n",
    "df_clusters.prefered_position =  df_clusters.prefered_position.apply(lambda x: 'MEDIOCAMPO' if x in ['CAM','RM','CM','RM','LM','CDM'] else x)\n",
    "df_clusters.prefered_position =  df_clusters.prefered_position.apply(lambda x: 'DEFENSOR' if x in ['RWB','RB','CB','LB','LWB'] else x)"
   ]
  },
  {
   "cell_type": "code",
   "execution_count": 172,
   "metadata": {},
   "outputs": [
    {
     "data": {
      "text/html": [
       "<div>\n",
       "<style scoped>\n",
       "    .dataframe tbody tr th:only-of-type {\n",
       "        vertical-align: middle;\n",
       "    }\n",
       "\n",
       "    .dataframe tbody tr th {\n",
       "        vertical-align: top;\n",
       "    }\n",
       "\n",
       "    .dataframe thead th {\n",
       "        text-align: right;\n",
       "    }\n",
       "</style>\n",
       "<table border=\"1\" class=\"dataframe\">\n",
       "  <thead>\n",
       "    <tr style=\"text-align: right;\">\n",
       "      <th>kmeans</th>\n",
       "      <th>0</th>\n",
       "      <th>1</th>\n",
       "      <th>2</th>\n",
       "    </tr>\n",
       "    <tr>\n",
       "      <th>prefered_position</th>\n",
       "      <th></th>\n",
       "      <th></th>\n",
       "      <th></th>\n",
       "    </tr>\n",
       "  </thead>\n",
       "  <tbody>\n",
       "    <tr>\n",
       "      <th>ARQUERO</th>\n",
       "      <td>0</td>\n",
       "      <td>440</td>\n",
       "      <td>0</td>\n",
       "    </tr>\n",
       "    <tr>\n",
       "      <th>DEFENSOR</th>\n",
       "      <td>5</td>\n",
       "      <td>0</td>\n",
       "      <td>1466</td>\n",
       "    </tr>\n",
       "    <tr>\n",
       "      <th>DELANTERO</th>\n",
       "      <td>979</td>\n",
       "      <td>0</td>\n",
       "      <td>7</td>\n",
       "    </tr>\n",
       "    <tr>\n",
       "      <th>MEDIOCAMPO</th>\n",
       "      <td>948</td>\n",
       "      <td>0</td>\n",
       "      <td>911</td>\n",
       "    </tr>\n",
       "  </tbody>\n",
       "</table>\n",
       "</div>"
      ],
      "text/plain": [
       "kmeans               0    1     2\n",
       "prefered_position                \n",
       "ARQUERO              0  440     0\n",
       "DEFENSOR             5    0  1466\n",
       "DELANTERO          979    0     7\n",
       "MEDIOCAMPO         948    0   911"
      ]
     },
     "execution_count": 172,
     "metadata": {},
     "output_type": "execute_result"
    }
   ],
   "source": [
    "pd.crosstab(df_clusters.prefered_position, df_clusters.kmeans)"
   ]
  },
  {
   "cell_type": "markdown",
   "metadata": {},
   "source": [
    "Aunque el Criterio del codo indique la cantidad de clusters optimos es de 4/5, es complicado llegar a una interpretacion clara de los resultados ya que los mediocampistas tienen skills similares a delanteros y defensores la barrera entre posiciones es confusa porque hay mucho solapamiento entre clusters.\n",
    "Separando en tres clusters se obtiene una interpretacion mucho mas clara, como muestra la tabla de contingencia anterior casi no hay solapamiento si replanteamos la interpretacion como **arqueros**, **jugador de ataque** (juega en la parte superior) y **jugador de defensa** (juega en la parte baja), con la siguiente agregacion de posiciones especificas:\n",
    "- GK -> ARQUERO\n",
    "- ST,CF,RW,LW,CAM,LM,RM -> ATAQUE\n",
    "- RWB,RB,CB,LB,LWB,CDM,CM -> DEFENSA"
   ]
  },
  {
   "cell_type": "code",
   "execution_count": 173,
   "metadata": {},
   "outputs": [
    {
     "data": {
      "text/html": [
       "<div>\n",
       "<style scoped>\n",
       "    .dataframe tbody tr th:only-of-type {\n",
       "        vertical-align: middle;\n",
       "    }\n",
       "\n",
       "    .dataframe tbody tr th {\n",
       "        vertical-align: top;\n",
       "    }\n",
       "\n",
       "    .dataframe thead th {\n",
       "        text-align: right;\n",
       "    }\n",
       "</style>\n",
       "<table border=\"1\" class=\"dataframe\">\n",
       "  <thead>\n",
       "    <tr style=\"text-align: right;\">\n",
       "      <th>kmeans</th>\n",
       "      <th>0</th>\n",
       "      <th>1</th>\n",
       "      <th>2</th>\n",
       "    </tr>\n",
       "    <tr>\n",
       "      <th>prefered_position_agg</th>\n",
       "      <th></th>\n",
       "      <th></th>\n",
       "      <th></th>\n",
       "    </tr>\n",
       "  </thead>\n",
       "  <tbody>\n",
       "    <tr>\n",
       "      <th>ARQUERO</th>\n",
       "      <td>0</td>\n",
       "      <td>440</td>\n",
       "      <td>0</td>\n",
       "    </tr>\n",
       "    <tr>\n",
       "      <th>ATAQUE</th>\n",
       "      <td>1787</td>\n",
       "      <td>0</td>\n",
       "      <td>79</td>\n",
       "    </tr>\n",
       "    <tr>\n",
       "      <th>DEFENSA</th>\n",
       "      <td>145</td>\n",
       "      <td>0</td>\n",
       "      <td>2305</td>\n",
       "    </tr>\n",
       "  </tbody>\n",
       "</table>\n",
       "</div>"
      ],
      "text/plain": [
       "kmeans                    0    1     2\n",
       "prefered_position_agg                 \n",
       "ARQUERO                   0  440     0\n",
       "ATAQUE                 1787    0    79\n",
       "DEFENSA                 145    0  2305"
      ]
     },
     "execution_count": 173,
     "metadata": {},
     "output_type": "execute_result"
    }
   ],
   "source": [
    "# La primera opcion de las posiciones es la preferida por el jugador\n",
    "df_clusters['prefered_position_agg'] = df_clusters.player_positions.str.split(',').apply(lambda l: l[0])\n",
    "# Las posiciones son muchas, asique las resumo en 4 -> arquero, defensor, mediocampo, delantero\n",
    "df_clusters.prefered_position_agg =  df_clusters.prefered_position_agg.apply(lambda x: 'ARQUERO' if x in ['GK'] else x)\n",
    "df_clusters.prefered_position_agg =  df_clusters.prefered_position_agg.apply(lambda x: 'ATAQUE' if x in ['ST','CF','RW','LW','CAM','LM','RM'] else x)\n",
    "df_clusters.prefered_position_agg =  df_clusters.prefered_position_agg.apply(lambda x: 'DEFENSA' if x in ['RWB','RB','CB','LB','LWB','CDM','CM'] else x)\n",
    "pd.crosstab(df_clusters.prefered_position_agg, df_clusters.kmeans)"
   ]
  },
  {
   "cell_type": "markdown",
   "metadata": {},
   "source": [
    "# 4.-Clustering-Mean-Shift \n",
    "\n",
    "- NO es necesario definirle la cantidad de grupos/clusters\n",
    "- NO es escalable, computacionalmente es muy pesado. Cada dato tienen un proceso iterativo en donde en cada iteración considera los vecinos a menos de un radio de distancia.\n",
    "- Hipeparámetros: radio (de cobertura para cálculo de media)"
   ]
  },
  {
   "cell_type": "code",
   "execution_count": 233,
   "metadata": {},
   "outputs": [
    {
     "name": "stdout",
     "output_type": "stream",
     "text": [
      "Estimated BW: 115.77802661529228\n"
     ]
    },
    {
     "ename": "KeyboardInterrupt",
     "evalue": "",
     "output_type": "error",
     "traceback": [
      "\u001b[0;31m---------------------------------------------------------------------------\u001b[0m",
      "\u001b[0;31mKeyboardInterrupt\u001b[0m                         Traceback (most recent call last)",
      "\u001b[0;32m<ipython-input-233-1895dbefa5fa>\u001b[0m in \u001b[0;36m<module>\u001b[0;34m\u001b[0m\n\u001b[1;32m     10\u001b[0m \u001b[0mms\u001b[0m \u001b[0;34m=\u001b[0m \u001b[0mMeanShift\u001b[0m\u001b[0;34m(\u001b[0m\u001b[0mbandwidth\u001b[0m\u001b[0;34m=\u001b[0m\u001b[0mbw\u001b[0m\u001b[0;34m,\u001b[0m \u001b[0mbin_seeding\u001b[0m\u001b[0;34m=\u001b[0m\u001b[0;32mFalse\u001b[0m\u001b[0;34m)\u001b[0m\u001b[0;34m\u001b[0m\u001b[0;34m\u001b[0m\u001b[0m\n\u001b[1;32m     11\u001b[0m \u001b[0;34m\u001b[0m\u001b[0m\n\u001b[0;32m---> 12\u001b[0;31m \u001b[0mms\u001b[0m\u001b[0;34m.\u001b[0m\u001b[0mfit\u001b[0m\u001b[0;34m(\u001b[0m\u001b[0mdf_scaled\u001b[0m\u001b[0;34m)\u001b[0m\u001b[0;34m\u001b[0m\u001b[0;34m\u001b[0m\u001b[0m\n\u001b[0m\u001b[1;32m     13\u001b[0m \u001b[0;34m\u001b[0m\u001b[0m\n\u001b[1;32m     14\u001b[0m \u001b[0mclusters2\u001b[0m \u001b[0;34m=\u001b[0m \u001b[0mms\u001b[0m\u001b[0;34m.\u001b[0m\u001b[0mlabels_\u001b[0m\u001b[0;34m\u001b[0m\u001b[0;34m\u001b[0m\u001b[0m\n",
      "\u001b[0;32m~/Documentos/DiploDatos/AnalisisyVisualizacion/venv/lib/python3.8/site-packages/sklearn/cluster/_mean_shift.py\u001b[0m in \u001b[0;36mfit\u001b[0;34m(self, X, y)\u001b[0m\n\u001b[1;32m    394\u001b[0m \u001b[0;34m\u001b[0m\u001b[0m\n\u001b[1;32m    395\u001b[0m         \u001b[0;31m# execute iterations on all seeds in parallel\u001b[0m\u001b[0;34m\u001b[0m\u001b[0;34m\u001b[0m\u001b[0;34m\u001b[0m\u001b[0m\n\u001b[0;32m--> 396\u001b[0;31m         all_res = Parallel(n_jobs=self.n_jobs)(\n\u001b[0m\u001b[1;32m    397\u001b[0m             \u001b[0mdelayed\u001b[0m\u001b[0;34m(\u001b[0m\u001b[0m_mean_shift_single_seed\u001b[0m\u001b[0;34m)\u001b[0m\u001b[0;34m\u001b[0m\u001b[0;34m\u001b[0m\u001b[0m\n\u001b[1;32m    398\u001b[0m             (seed, X, nbrs, self.max_iter) for seed in seeds)\n",
      "\u001b[0;32m~/Documentos/DiploDatos/AnalisisyVisualizacion/venv/lib/python3.8/site-packages/joblib/parallel.py\u001b[0m in \u001b[0;36m__call__\u001b[0;34m(self, iterable)\u001b[0m\n\u001b[1;32m   1030\u001b[0m                 \u001b[0mself\u001b[0m\u001b[0;34m.\u001b[0m\u001b[0m_iterating\u001b[0m \u001b[0;34m=\u001b[0m \u001b[0mself\u001b[0m\u001b[0;34m.\u001b[0m\u001b[0m_original_iterator\u001b[0m \u001b[0;32mis\u001b[0m \u001b[0;32mnot\u001b[0m \u001b[0;32mNone\u001b[0m\u001b[0;34m\u001b[0m\u001b[0;34m\u001b[0m\u001b[0m\n\u001b[1;32m   1031\u001b[0m \u001b[0;34m\u001b[0m\u001b[0m\n\u001b[0;32m-> 1032\u001b[0;31m             \u001b[0;32mwhile\u001b[0m \u001b[0mself\u001b[0m\u001b[0;34m.\u001b[0m\u001b[0mdispatch_one_batch\u001b[0m\u001b[0;34m(\u001b[0m\u001b[0miterator\u001b[0m\u001b[0;34m)\u001b[0m\u001b[0;34m:\u001b[0m\u001b[0;34m\u001b[0m\u001b[0;34m\u001b[0m\u001b[0m\n\u001b[0m\u001b[1;32m   1033\u001b[0m                 \u001b[0;32mpass\u001b[0m\u001b[0;34m\u001b[0m\u001b[0;34m\u001b[0m\u001b[0m\n\u001b[1;32m   1034\u001b[0m \u001b[0;34m\u001b[0m\u001b[0m\n",
      "\u001b[0;32m~/Documentos/DiploDatos/AnalisisyVisualizacion/venv/lib/python3.8/site-packages/joblib/parallel.py\u001b[0m in \u001b[0;36mdispatch_one_batch\u001b[0;34m(self, iterator)\u001b[0m\n\u001b[1;32m    845\u001b[0m                 \u001b[0;32mreturn\u001b[0m \u001b[0;32mFalse\u001b[0m\u001b[0;34m\u001b[0m\u001b[0;34m\u001b[0m\u001b[0m\n\u001b[1;32m    846\u001b[0m             \u001b[0;32melse\u001b[0m\u001b[0;34m:\u001b[0m\u001b[0;34m\u001b[0m\u001b[0;34m\u001b[0m\u001b[0m\n\u001b[0;32m--> 847\u001b[0;31m                 \u001b[0mself\u001b[0m\u001b[0;34m.\u001b[0m\u001b[0m_dispatch\u001b[0m\u001b[0;34m(\u001b[0m\u001b[0mtasks\u001b[0m\u001b[0;34m)\u001b[0m\u001b[0;34m\u001b[0m\u001b[0;34m\u001b[0m\u001b[0m\n\u001b[0m\u001b[1;32m    848\u001b[0m                 \u001b[0;32mreturn\u001b[0m \u001b[0;32mTrue\u001b[0m\u001b[0;34m\u001b[0m\u001b[0;34m\u001b[0m\u001b[0m\n\u001b[1;32m    849\u001b[0m \u001b[0;34m\u001b[0m\u001b[0m\n",
      "\u001b[0;32m~/Documentos/DiploDatos/AnalisisyVisualizacion/venv/lib/python3.8/site-packages/joblib/parallel.py\u001b[0m in \u001b[0;36m_dispatch\u001b[0;34m(self, batch)\u001b[0m\n\u001b[1;32m    763\u001b[0m         \u001b[0;32mwith\u001b[0m \u001b[0mself\u001b[0m\u001b[0;34m.\u001b[0m\u001b[0m_lock\u001b[0m\u001b[0;34m:\u001b[0m\u001b[0;34m\u001b[0m\u001b[0;34m\u001b[0m\u001b[0m\n\u001b[1;32m    764\u001b[0m             \u001b[0mjob_idx\u001b[0m \u001b[0;34m=\u001b[0m \u001b[0mlen\u001b[0m\u001b[0;34m(\u001b[0m\u001b[0mself\u001b[0m\u001b[0;34m.\u001b[0m\u001b[0m_jobs\u001b[0m\u001b[0;34m)\u001b[0m\u001b[0;34m\u001b[0m\u001b[0;34m\u001b[0m\u001b[0m\n\u001b[0;32m--> 765\u001b[0;31m             \u001b[0mjob\u001b[0m \u001b[0;34m=\u001b[0m \u001b[0mself\u001b[0m\u001b[0;34m.\u001b[0m\u001b[0m_backend\u001b[0m\u001b[0;34m.\u001b[0m\u001b[0mapply_async\u001b[0m\u001b[0;34m(\u001b[0m\u001b[0mbatch\u001b[0m\u001b[0;34m,\u001b[0m \u001b[0mcallback\u001b[0m\u001b[0;34m=\u001b[0m\u001b[0mcb\u001b[0m\u001b[0;34m)\u001b[0m\u001b[0;34m\u001b[0m\u001b[0;34m\u001b[0m\u001b[0m\n\u001b[0m\u001b[1;32m    766\u001b[0m             \u001b[0;31m# A job can complete so quickly than its callback is\u001b[0m\u001b[0;34m\u001b[0m\u001b[0;34m\u001b[0m\u001b[0;34m\u001b[0m\u001b[0m\n\u001b[1;32m    767\u001b[0m             \u001b[0;31m# called before we get here, causing self._jobs to\u001b[0m\u001b[0;34m\u001b[0m\u001b[0;34m\u001b[0m\u001b[0;34m\u001b[0m\u001b[0m\n",
      "\u001b[0;32m~/Documentos/DiploDatos/AnalisisyVisualizacion/venv/lib/python3.8/site-packages/joblib/_parallel_backends.py\u001b[0m in \u001b[0;36mapply_async\u001b[0;34m(self, func, callback)\u001b[0m\n\u001b[1;32m    206\u001b[0m     \u001b[0;32mdef\u001b[0m \u001b[0mapply_async\u001b[0m\u001b[0;34m(\u001b[0m\u001b[0mself\u001b[0m\u001b[0;34m,\u001b[0m \u001b[0mfunc\u001b[0m\u001b[0;34m,\u001b[0m \u001b[0mcallback\u001b[0m\u001b[0;34m=\u001b[0m\u001b[0;32mNone\u001b[0m\u001b[0;34m)\u001b[0m\u001b[0;34m:\u001b[0m\u001b[0;34m\u001b[0m\u001b[0;34m\u001b[0m\u001b[0m\n\u001b[1;32m    207\u001b[0m         \u001b[0;34m\"\"\"Schedule a func to be run\"\"\"\u001b[0m\u001b[0;34m\u001b[0m\u001b[0;34m\u001b[0m\u001b[0m\n\u001b[0;32m--> 208\u001b[0;31m         \u001b[0mresult\u001b[0m \u001b[0;34m=\u001b[0m \u001b[0mImmediateResult\u001b[0m\u001b[0;34m(\u001b[0m\u001b[0mfunc\u001b[0m\u001b[0;34m)\u001b[0m\u001b[0;34m\u001b[0m\u001b[0;34m\u001b[0m\u001b[0m\n\u001b[0m\u001b[1;32m    209\u001b[0m         \u001b[0;32mif\u001b[0m \u001b[0mcallback\u001b[0m\u001b[0;34m:\u001b[0m\u001b[0;34m\u001b[0m\u001b[0;34m\u001b[0m\u001b[0m\n\u001b[1;32m    210\u001b[0m             \u001b[0mcallback\u001b[0m\u001b[0;34m(\u001b[0m\u001b[0mresult\u001b[0m\u001b[0;34m)\u001b[0m\u001b[0;34m\u001b[0m\u001b[0;34m\u001b[0m\u001b[0m\n",
      "\u001b[0;32m~/Documentos/DiploDatos/AnalisisyVisualizacion/venv/lib/python3.8/site-packages/joblib/_parallel_backends.py\u001b[0m in \u001b[0;36m__init__\u001b[0;34m(self, batch)\u001b[0m\n\u001b[1;32m    570\u001b[0m         \u001b[0;31m# Don't delay the application, to avoid keeping the input\u001b[0m\u001b[0;34m\u001b[0m\u001b[0;34m\u001b[0m\u001b[0;34m\u001b[0m\u001b[0m\n\u001b[1;32m    571\u001b[0m         \u001b[0;31m# arguments in memory\u001b[0m\u001b[0;34m\u001b[0m\u001b[0;34m\u001b[0m\u001b[0;34m\u001b[0m\u001b[0m\n\u001b[0;32m--> 572\u001b[0;31m         \u001b[0mself\u001b[0m\u001b[0;34m.\u001b[0m\u001b[0mresults\u001b[0m \u001b[0;34m=\u001b[0m \u001b[0mbatch\u001b[0m\u001b[0;34m(\u001b[0m\u001b[0;34m)\u001b[0m\u001b[0;34m\u001b[0m\u001b[0;34m\u001b[0m\u001b[0m\n\u001b[0m\u001b[1;32m    573\u001b[0m \u001b[0;34m\u001b[0m\u001b[0m\n\u001b[1;32m    574\u001b[0m     \u001b[0;32mdef\u001b[0m \u001b[0mget\u001b[0m\u001b[0;34m(\u001b[0m\u001b[0mself\u001b[0m\u001b[0;34m)\u001b[0m\u001b[0;34m:\u001b[0m\u001b[0;34m\u001b[0m\u001b[0;34m\u001b[0m\u001b[0m\n",
      "\u001b[0;32m~/Documentos/DiploDatos/AnalisisyVisualizacion/venv/lib/python3.8/site-packages/joblib/parallel.py\u001b[0m in \u001b[0;36m__call__\u001b[0;34m(self)\u001b[0m\n\u001b[1;32m    250\u001b[0m         \u001b[0;31m# change the default number of processes to -1\u001b[0m\u001b[0;34m\u001b[0m\u001b[0;34m\u001b[0m\u001b[0;34m\u001b[0m\u001b[0m\n\u001b[1;32m    251\u001b[0m         \u001b[0;32mwith\u001b[0m \u001b[0mparallel_backend\u001b[0m\u001b[0;34m(\u001b[0m\u001b[0mself\u001b[0m\u001b[0;34m.\u001b[0m\u001b[0m_backend\u001b[0m\u001b[0;34m,\u001b[0m \u001b[0mn_jobs\u001b[0m\u001b[0;34m=\u001b[0m\u001b[0mself\u001b[0m\u001b[0;34m.\u001b[0m\u001b[0m_n_jobs\u001b[0m\u001b[0;34m)\u001b[0m\u001b[0;34m:\u001b[0m\u001b[0;34m\u001b[0m\u001b[0;34m\u001b[0m\u001b[0m\n\u001b[0;32m--> 252\u001b[0;31m             return [func(*args, **kwargs)\n\u001b[0m\u001b[1;32m    253\u001b[0m                     for func, args, kwargs in self.items]\n\u001b[1;32m    254\u001b[0m \u001b[0;34m\u001b[0m\u001b[0m\n",
      "\u001b[0;32m~/Documentos/DiploDatos/AnalisisyVisualizacion/venv/lib/python3.8/site-packages/joblib/parallel.py\u001b[0m in \u001b[0;36m<listcomp>\u001b[0;34m(.0)\u001b[0m\n\u001b[1;32m    250\u001b[0m         \u001b[0;31m# change the default number of processes to -1\u001b[0m\u001b[0;34m\u001b[0m\u001b[0;34m\u001b[0m\u001b[0;34m\u001b[0m\u001b[0m\n\u001b[1;32m    251\u001b[0m         \u001b[0;32mwith\u001b[0m \u001b[0mparallel_backend\u001b[0m\u001b[0;34m(\u001b[0m\u001b[0mself\u001b[0m\u001b[0;34m.\u001b[0m\u001b[0m_backend\u001b[0m\u001b[0;34m,\u001b[0m \u001b[0mn_jobs\u001b[0m\u001b[0;34m=\u001b[0m\u001b[0mself\u001b[0m\u001b[0;34m.\u001b[0m\u001b[0m_n_jobs\u001b[0m\u001b[0;34m)\u001b[0m\u001b[0;34m:\u001b[0m\u001b[0;34m\u001b[0m\u001b[0;34m\u001b[0m\u001b[0m\n\u001b[0;32m--> 252\u001b[0;31m             return [func(*args, **kwargs)\n\u001b[0m\u001b[1;32m    253\u001b[0m                     for func, args, kwargs in self.items]\n\u001b[1;32m    254\u001b[0m \u001b[0;34m\u001b[0m\u001b[0m\n",
      "\u001b[0;32m~/Documentos/DiploDatos/AnalisisyVisualizacion/venv/lib/python3.8/site-packages/sklearn/cluster/_mean_shift.py\u001b[0m in \u001b[0;36m_mean_shift_single_seed\u001b[0;34m(my_mean, X, nbrs, max_iter)\u001b[0m\n\u001b[1;32m     93\u001b[0m     \u001b[0;32mwhile\u001b[0m \u001b[0;32mTrue\u001b[0m\u001b[0;34m:\u001b[0m\u001b[0;34m\u001b[0m\u001b[0;34m\u001b[0m\u001b[0m\n\u001b[1;32m     94\u001b[0m         \u001b[0;31m# Find mean of points within bandwidth\u001b[0m\u001b[0;34m\u001b[0m\u001b[0;34m\u001b[0m\u001b[0;34m\u001b[0m\u001b[0m\n\u001b[0;32m---> 95\u001b[0;31m         i_nbrs = nbrs.radius_neighbors([my_mean], bandwidth,\n\u001b[0m\u001b[1;32m     96\u001b[0m                                        return_distance=False)[0]\n\u001b[1;32m     97\u001b[0m         \u001b[0mpoints_within\u001b[0m \u001b[0;34m=\u001b[0m \u001b[0mX\u001b[0m\u001b[0;34m[\u001b[0m\u001b[0mi_nbrs\u001b[0m\u001b[0;34m]\u001b[0m\u001b[0;34m\u001b[0m\u001b[0;34m\u001b[0m\u001b[0m\n",
      "\u001b[0;32m~/Documentos/DiploDatos/AnalisisyVisualizacion/venv/lib/python3.8/site-packages/sklearn/neighbors/_base.py\u001b[0m in \u001b[0;36mradius_neighbors\u001b[0;34m(self, X, radius, return_distance, sort_results)\u001b[0m\n\u001b[1;32m    910\u001b[0m                 \u001b[0mX\u001b[0m \u001b[0;34m=\u001b[0m \u001b[0m_check_precomputed\u001b[0m\u001b[0;34m(\u001b[0m\u001b[0mX\u001b[0m\u001b[0;34m)\u001b[0m\u001b[0;34m\u001b[0m\u001b[0;34m\u001b[0m\u001b[0m\n\u001b[1;32m    911\u001b[0m             \u001b[0;32melse\u001b[0m\u001b[0;34m:\u001b[0m\u001b[0;34m\u001b[0m\u001b[0;34m\u001b[0m\u001b[0m\n\u001b[0;32m--> 912\u001b[0;31m                 \u001b[0mX\u001b[0m \u001b[0;34m=\u001b[0m \u001b[0mcheck_array\u001b[0m\u001b[0;34m(\u001b[0m\u001b[0mX\u001b[0m\u001b[0;34m,\u001b[0m \u001b[0maccept_sparse\u001b[0m\u001b[0;34m=\u001b[0m\u001b[0;34m'csr'\u001b[0m\u001b[0;34m)\u001b[0m\u001b[0;34m\u001b[0m\u001b[0;34m\u001b[0m\u001b[0m\n\u001b[0m\u001b[1;32m    913\u001b[0m         \u001b[0;32melse\u001b[0m\u001b[0;34m:\u001b[0m\u001b[0;34m\u001b[0m\u001b[0;34m\u001b[0m\u001b[0m\n\u001b[1;32m    914\u001b[0m             \u001b[0mquery_is_train\u001b[0m \u001b[0;34m=\u001b[0m \u001b[0;32mTrue\u001b[0m\u001b[0;34m\u001b[0m\u001b[0;34m\u001b[0m\u001b[0m\n",
      "\u001b[0;32m~/Documentos/DiploDatos/AnalisisyVisualizacion/venv/lib/python3.8/site-packages/sklearn/utils/validation.py\u001b[0m in \u001b[0;36minner_f\u001b[0;34m(*args, **kwargs)\u001b[0m\n\u001b[1;32m     71\u001b[0m                           FutureWarning)\n\u001b[1;32m     72\u001b[0m         \u001b[0mkwargs\u001b[0m\u001b[0;34m.\u001b[0m\u001b[0mupdate\u001b[0m\u001b[0;34m(\u001b[0m\u001b[0;34m{\u001b[0m\u001b[0mk\u001b[0m\u001b[0;34m:\u001b[0m \u001b[0marg\u001b[0m \u001b[0;32mfor\u001b[0m \u001b[0mk\u001b[0m\u001b[0;34m,\u001b[0m \u001b[0marg\u001b[0m \u001b[0;32min\u001b[0m \u001b[0mzip\u001b[0m\u001b[0;34m(\u001b[0m\u001b[0msig\u001b[0m\u001b[0;34m.\u001b[0m\u001b[0mparameters\u001b[0m\u001b[0;34m,\u001b[0m \u001b[0margs\u001b[0m\u001b[0;34m)\u001b[0m\u001b[0;34m}\u001b[0m\u001b[0;34m)\u001b[0m\u001b[0;34m\u001b[0m\u001b[0;34m\u001b[0m\u001b[0m\n\u001b[0;32m---> 73\u001b[0;31m         \u001b[0;32mreturn\u001b[0m \u001b[0mf\u001b[0m\u001b[0;34m(\u001b[0m\u001b[0;34m**\u001b[0m\u001b[0mkwargs\u001b[0m\u001b[0;34m)\u001b[0m\u001b[0;34m\u001b[0m\u001b[0;34m\u001b[0m\u001b[0m\n\u001b[0m\u001b[1;32m     74\u001b[0m     \u001b[0;32mreturn\u001b[0m \u001b[0minner_f\u001b[0m\u001b[0;34m\u001b[0m\u001b[0;34m\u001b[0m\u001b[0m\n\u001b[1;32m     75\u001b[0m \u001b[0;34m\u001b[0m\u001b[0m\n",
      "\u001b[0;32m~/Documentos/DiploDatos/AnalisisyVisualizacion/venv/lib/python3.8/site-packages/sklearn/utils/validation.py\u001b[0m in \u001b[0;36mcheck_array\u001b[0;34m(array, accept_sparse, accept_large_sparse, dtype, order, copy, force_all_finite, ensure_2d, allow_nd, ensure_min_samples, ensure_min_features, estimator)\u001b[0m\n\u001b[1;32m    586\u001b[0m         \u001b[0;32mwith\u001b[0m \u001b[0mwarnings\u001b[0m\u001b[0;34m.\u001b[0m\u001b[0mcatch_warnings\u001b[0m\u001b[0;34m(\u001b[0m\u001b[0;34m)\u001b[0m\u001b[0;34m:\u001b[0m\u001b[0;34m\u001b[0m\u001b[0;34m\u001b[0m\u001b[0m\n\u001b[1;32m    587\u001b[0m             \u001b[0;32mtry\u001b[0m\u001b[0;34m:\u001b[0m\u001b[0;34m\u001b[0m\u001b[0;34m\u001b[0m\u001b[0m\n\u001b[0;32m--> 588\u001b[0;31m                 \u001b[0mwarnings\u001b[0m\u001b[0;34m.\u001b[0m\u001b[0msimplefilter\u001b[0m\u001b[0;34m(\u001b[0m\u001b[0;34m'error'\u001b[0m\u001b[0;34m,\u001b[0m \u001b[0mComplexWarning\u001b[0m\u001b[0;34m)\u001b[0m\u001b[0;34m\u001b[0m\u001b[0;34m\u001b[0m\u001b[0m\n\u001b[0m\u001b[1;32m    589\u001b[0m                 \u001b[0;32mif\u001b[0m \u001b[0mdtype\u001b[0m \u001b[0;32mis\u001b[0m \u001b[0;32mnot\u001b[0m \u001b[0;32mNone\u001b[0m \u001b[0;32mand\u001b[0m \u001b[0mnp\u001b[0m\u001b[0;34m.\u001b[0m\u001b[0mdtype\u001b[0m\u001b[0;34m(\u001b[0m\u001b[0mdtype\u001b[0m\u001b[0;34m)\u001b[0m\u001b[0;34m.\u001b[0m\u001b[0mkind\u001b[0m \u001b[0;32min\u001b[0m \u001b[0;34m'iu'\u001b[0m\u001b[0;34m:\u001b[0m\u001b[0;34m\u001b[0m\u001b[0;34m\u001b[0m\u001b[0m\n\u001b[1;32m    590\u001b[0m                     \u001b[0;31m# Conversion float -> int should not contain NaN or\u001b[0m\u001b[0;34m\u001b[0m\u001b[0;34m\u001b[0m\u001b[0;34m\u001b[0m\u001b[0m\n",
      "\u001b[0;32m/usr/lib/python3.8/warnings.py\u001b[0m in \u001b[0;36msimplefilter\u001b[0;34m(action, category, lineno, append)\u001b[0m\n\u001b[1;32m    177\u001b[0m     \u001b[0;32massert\u001b[0m \u001b[0misinstance\u001b[0m\u001b[0;34m(\u001b[0m\u001b[0mlineno\u001b[0m\u001b[0;34m,\u001b[0m \u001b[0mint\u001b[0m\u001b[0;34m)\u001b[0m \u001b[0;32mand\u001b[0m \u001b[0mlineno\u001b[0m \u001b[0;34m>=\u001b[0m \u001b[0;36m0\u001b[0m\u001b[0;34m,\u001b[0m\u001b[0;31m \u001b[0m\u001b[0;31m\\\u001b[0m\u001b[0;34m\u001b[0m\u001b[0;34m\u001b[0m\u001b[0m\n\u001b[1;32m    178\u001b[0m            \u001b[0;34m\"lineno must be an int >= 0\"\u001b[0m\u001b[0;34m\u001b[0m\u001b[0;34m\u001b[0m\u001b[0m\n\u001b[0;32m--> 179\u001b[0;31m     \u001b[0m_add_filter\u001b[0m\u001b[0;34m(\u001b[0m\u001b[0maction\u001b[0m\u001b[0;34m,\u001b[0m \u001b[0;32mNone\u001b[0m\u001b[0;34m,\u001b[0m \u001b[0mcategory\u001b[0m\u001b[0;34m,\u001b[0m \u001b[0;32mNone\u001b[0m\u001b[0;34m,\u001b[0m \u001b[0mlineno\u001b[0m\u001b[0;34m,\u001b[0m \u001b[0mappend\u001b[0m\u001b[0;34m=\u001b[0m\u001b[0mappend\u001b[0m\u001b[0;34m)\u001b[0m\u001b[0;34m\u001b[0m\u001b[0;34m\u001b[0m\u001b[0m\n\u001b[0m\u001b[1;32m    180\u001b[0m \u001b[0;34m\u001b[0m\u001b[0m\n\u001b[1;32m    181\u001b[0m \u001b[0;32mdef\u001b[0m \u001b[0m_add_filter\u001b[0m\u001b[0;34m(\u001b[0m\u001b[0;34m*\u001b[0m\u001b[0mitem\u001b[0m\u001b[0;34m,\u001b[0m \u001b[0mappend\u001b[0m\u001b[0;34m)\u001b[0m\u001b[0;34m:\u001b[0m\u001b[0;34m\u001b[0m\u001b[0;34m\u001b[0m\u001b[0m\n",
      "\u001b[0;32m/usr/lib/python3.8/warnings.py\u001b[0m in \u001b[0;36m_add_filter\u001b[0;34m(append, *item)\u001b[0m\n\u001b[1;32m    187\u001b[0m         \u001b[0;32mexcept\u001b[0m \u001b[0mValueError\u001b[0m\u001b[0;34m:\u001b[0m\u001b[0;34m\u001b[0m\u001b[0;34m\u001b[0m\u001b[0m\n\u001b[1;32m    188\u001b[0m             \u001b[0;32mpass\u001b[0m\u001b[0;34m\u001b[0m\u001b[0;34m\u001b[0m\u001b[0m\n\u001b[0;32m--> 189\u001b[0;31m         \u001b[0mfilters\u001b[0m\u001b[0;34m.\u001b[0m\u001b[0minsert\u001b[0m\u001b[0;34m(\u001b[0m\u001b[0;36m0\u001b[0m\u001b[0;34m,\u001b[0m \u001b[0mitem\u001b[0m\u001b[0;34m)\u001b[0m\u001b[0;34m\u001b[0m\u001b[0;34m\u001b[0m\u001b[0m\n\u001b[0m\u001b[1;32m    190\u001b[0m     \u001b[0;32melse\u001b[0m\u001b[0;34m:\u001b[0m\u001b[0;34m\u001b[0m\u001b[0;34m\u001b[0m\u001b[0m\n\u001b[1;32m    191\u001b[0m         \u001b[0;32mif\u001b[0m \u001b[0mitem\u001b[0m \u001b[0;32mnot\u001b[0m \u001b[0;32min\u001b[0m \u001b[0mfilters\u001b[0m\u001b[0;34m:\u001b[0m\u001b[0;34m\u001b[0m\u001b[0;34m\u001b[0m\u001b[0m\n",
      "\u001b[0;31mKeyboardInterrupt\u001b[0m: "
     ]
    }
   ],
   "source": [
    "from sklearn.cluster import KMeans,MeanShift,estimate_bandwidth\n",
    "from sklearn import decomposition\n",
    "from sklearn.preprocessing import MinMaxScaler\n",
    "\n",
    "mms = MinMaxScaler(feature_range=(0,100))\n",
    "mms.fit(df_skills)\n",
    "df_scaled = mms.transform(df_skills)\n",
    "bw = estimate_bandwidth(df_scaled)\n",
    "print ('Estimated BW: {}'.format(bw))\n",
    "ms = MeanShift(bandwidth=bw, bin_seeding=False)\n",
    "\n",
    "ms.fit(df_skills)\n",
    "\n",
    "clusters2 = ms.labels_\n",
    "cluster_centers = ms.cluster_centers_\n",
    "\n",
    "labels_unique = np.unique(clusters2)\n",
    "n_clusters_ = len(labels_unique)\n",
    "\n",
    "print(\"Numero estimado de clusters para Mean Shift : %d\" % n_clusters_)\n",
    "\n",
    "# Etquetas de los elementos de los clusters\n"
   ]
  },
  {
   "cell_type": "code",
   "execution_count": null,
   "metadata": {},
   "outputs": [],
   "source": [
    "data=[]\n",
    "bool_crack=df_n[\"overall\"] > 85\n",
    "bool_no_crack=df_n[\"overall\"]<86\n",
    "\n",
    "\n",
    "#Eligo dos números entre 0 y  de n_skills-1\n",
    "skill_1='defending_standing_tackle' #skills_ratings[6]\n",
    "skill_2='attacking_volleys' #skills_ratings[25]\n",
    "\n",
    "\n",
    "\n",
    "MeanShift_clusters = go.Scatter(x=df_skills[skill_1], y=df_skills[skill_2],\n",
    "                           mode='markers',\n",
    "                        text=df_n.loc[:,'short_name'],\n",
    "                           marker=dict(\n",
    "                                size=5,\n",
    "                                color = clusters2.astype(np.float), #set color equal to a variable\n",
    "                                colorscale='Portland',\n",
    "                                showscale=False)\n",
    "                           )\n",
    "\n",
    "crack =go.Scatter(x=df_skills.loc[bool_crack,skill_1], y=df_skills.loc[bool_crack,skill_2],name='Top players',\n",
    "                      text=df_n.loc[bool_crack,'short_name'],\n",
    "                      textfont=dict(family='sans serif',size=10,color='black'),\n",
    "                      opacity=0.9,mode='text')\n",
    "\n",
    "data=[MeanShift_clusters,crack]\n",
    "\n",
    "layout = go.Layout(title=\"Mean Shift\",titlefont=dict(size=20),\n",
    "                xaxis=dict(title=skill_1),\n",
    "                yaxis=dict(title=skill_2),\n",
    "                autosize=False, width=1000,height=1000)\n",
    "\n",
    "fig = go.Figure(data=data, layout=layout)\n",
    "\n",
    "plot(fig)"
   ]
  },
  {
   "cell_type": "code",
   "execution_count": 176,
   "metadata": {
    "scrolled": true
   },
   "outputs": [
    {
     "name": "stdout",
     "output_type": "stream",
     "text": [
      "Kmeans encontró:  3 clusters, nosotros lo forzamos\n",
      "Mean shift encontró  2 clusters, según los hiperparámetros elegidos\n"
     ]
    }
   ],
   "source": [
    "df_clusters['MeanShift'] = ms.labels_ #clusters2\n",
    "print('Kmeans encontró: ', max(km.labels_)+1, 'clusters, nosotros lo forzamos')\n",
    "print('Mean shift encontró ', max(ms.labels_)+1, 'clusters, según los hiperparámetros elegidos')"
   ]
  },
  {
   "cell_type": "markdown",
   "metadata": {},
   "source": [
    "**EVALUACIÓN**\n",
    "\n",
    "**EJERCICIO EN GRUPO: Análisis exploratorio de los clusters, usando las clases asignadas por MeanShift** "
   ]
  },
  {
   "cell_type": "code",
   "execution_count": 177,
   "metadata": {},
   "outputs": [],
   "source": [
    "#Cantidad de observaciones por Cluster\n",
    "#Análisis descriptivo separando por Cluster\n",
    "#Tabla de contingencia alguna categórica vs clusters\n",
    "#Silohuette?\n"
   ]
  },
  {
   "cell_type": "code",
   "execution_count": 178,
   "metadata": {},
   "outputs": [
    {
     "data": {
      "text/html": [
       "<div>\n",
       "<style scoped>\n",
       "    .dataframe tbody tr th:only-of-type {\n",
       "        vertical-align: middle;\n",
       "    }\n",
       "\n",
       "    .dataframe tbody tr th {\n",
       "        vertical-align: top;\n",
       "    }\n",
       "\n",
       "    .dataframe thead th {\n",
       "        text-align: right;\n",
       "    }\n",
       "</style>\n",
       "<table border=\"1\" class=\"dataframe\">\n",
       "  <thead>\n",
       "    <tr style=\"text-align: right;\">\n",
       "      <th></th>\n",
       "      <th>Cantidad de muestras por cluster</th>\n",
       "      <th>Tamaño relativo del cluster (representatividad) [%]</th>\n",
       "    </tr>\n",
       "    <tr>\n",
       "      <th>MeanShift</th>\n",
       "      <th></th>\n",
       "      <th></th>\n",
       "    </tr>\n",
       "  </thead>\n",
       "  <tbody>\n",
       "    <tr>\n",
       "      <th>0</th>\n",
       "      <td>4316</td>\n",
       "      <td>90.748528</td>\n",
       "    </tr>\n",
       "    <tr>\n",
       "      <th>1</th>\n",
       "      <td>440</td>\n",
       "      <td>9.251472</td>\n",
       "    </tr>\n",
       "  </tbody>\n",
       "</table>\n",
       "</div>"
      ],
      "text/plain": [
       "           Cantidad de muestras por cluster  \\\n",
       "MeanShift                                     \n",
       "0                                      4316   \n",
       "1                                       440   \n",
       "\n",
       "           Tamaño relativo del cluster (representatividad) [%]   \n",
       "MeanShift                                                        \n",
       "0                                                  90.748528     \n",
       "1                                                   9.251472     "
      ]
     },
     "execution_count": 178,
     "metadata": {},
     "output_type": "execute_result"
    }
   ],
   "source": [
    "cl_count = df_clusters.groupby(['MeanShift']).sofifa_id.count()\n",
    "cl_rel = 100*cl_count/len(df_clusters)\n",
    "pd.DataFrame({'Cantidad de muestras por cluster': cl_count, 'Tamaño relativo del cluster (representatividad) [%] ':cl_rel})"
   ]
  },
  {
   "cell_type": "code",
   "execution_count": 179,
   "metadata": {},
   "outputs": [],
   "source": [
    "# La primera opcion de las posiciones es la preferida por el jugador\n",
    "df_clusters['prefered_position'] = df_clusters.player_positions.str.split(',').apply(lambda l: l[0])\n",
    "# Las posiciones son muchas, asique las resumo en 4 -> arquero, defensor, mediocampo, delantero\n",
    "df_clusters.prefered_position =  df_clusters.prefered_position.apply(lambda x: 'ARQUERO' if x in ['GK'] else x)\n",
    "df_clusters.prefered_position =  df_clusters.prefered_position.apply(lambda x: 'DELANTERO' if x in ['ST','CF','RW','LW'] else x)\n",
    "df_clusters.prefered_position =  df_clusters.prefered_position.apply(lambda x: 'MEDIOCAMPO' if x in ['CAM','RM','CM','RM','LM','CDM'] else x)\n",
    "df_clusters.prefered_position =  df_clusters.prefered_position.apply(lambda x: 'DEFENSOR' if x in ['RWB','RB','CB','LB','LWB'] else x)"
   ]
  },
  {
   "cell_type": "code",
   "execution_count": 180,
   "metadata": {},
   "outputs": [
    {
     "data": {
      "text/html": [
       "<div>\n",
       "<style scoped>\n",
       "    .dataframe tbody tr th:only-of-type {\n",
       "        vertical-align: middle;\n",
       "    }\n",
       "\n",
       "    .dataframe tbody tr th {\n",
       "        vertical-align: top;\n",
       "    }\n",
       "\n",
       "    .dataframe thead th {\n",
       "        text-align: right;\n",
       "    }\n",
       "</style>\n",
       "<table border=\"1\" class=\"dataframe\">\n",
       "  <thead>\n",
       "    <tr style=\"text-align: right;\">\n",
       "      <th>MeanShift</th>\n",
       "      <th>0</th>\n",
       "      <th>1</th>\n",
       "    </tr>\n",
       "    <tr>\n",
       "      <th>prefered_position</th>\n",
       "      <th></th>\n",
       "      <th></th>\n",
       "    </tr>\n",
       "  </thead>\n",
       "  <tbody>\n",
       "    <tr>\n",
       "      <th>ARQUERO</th>\n",
       "      <td>0</td>\n",
       "      <td>440</td>\n",
       "    </tr>\n",
       "    <tr>\n",
       "      <th>DEFENSOR</th>\n",
       "      <td>1471</td>\n",
       "      <td>0</td>\n",
       "    </tr>\n",
       "    <tr>\n",
       "      <th>DELANTERO</th>\n",
       "      <td>986</td>\n",
       "      <td>0</td>\n",
       "    </tr>\n",
       "    <tr>\n",
       "      <th>MEDIOCAMPO</th>\n",
       "      <td>1859</td>\n",
       "      <td>0</td>\n",
       "    </tr>\n",
       "  </tbody>\n",
       "</table>\n",
       "</div>"
      ],
      "text/plain": [
       "MeanShift             0    1\n",
       "prefered_position           \n",
       "ARQUERO               0  440\n",
       "DEFENSOR           1471    0\n",
       "DELANTERO           986    0\n",
       "MEDIOCAMPO         1859    0"
      ]
     },
     "execution_count": 180,
     "metadata": {},
     "output_type": "execute_result"
    }
   ],
   "source": [
    "pd.crosstab(df_clusters.prefered_position, df_clusters.MeanShift)"
   ]
  },
  {
   "cell_type": "markdown",
   "metadata": {},
   "source": [
    "En su mejor esfuerzo Mean Shift solo puede encontrar dos clusters, Arqueros y el resto de los jugadores, incluso normalizando este resultado no cambia"
   ]
  },
  {
   "cell_type": "markdown",
   "metadata": {},
   "source": [
    "**Pregunta: normalizamos/estandarizamos la base?**"
   ]
  },
  {
   "cell_type": "markdown",
   "metadata": {},
   "source": [
    "No es necesario, todos los skills estan en un rango de 0 a 100"
   ]
  },
  {
   "cell_type": "markdown",
   "metadata": {},
   "source": [
    "**Ahora vemos que agrupamientos podemos hacer excluyendo los arqueros**"
   ]
  },
  {
   "cell_type": "markdown",
   "metadata": {},
   "source": [
    "# 5.-Clustering-con-Kmeans-sin-arqueros"
   ]
  },
  {
   "cell_type": "code",
   "execution_count": 205,
   "metadata": {},
   "outputs": [],
   "source": [
    "df['prefered_position'] = df.player_positions.str.split(',').apply(lambda l: l[0])"
   ]
  },
  {
   "cell_type": "code",
   "execution_count": 234,
   "metadata": {},
   "outputs": [],
   "source": [
    "n=10000\n",
    "\n",
    "df_n=df.loc[:n]\n",
    "df_n=df_n[(df_n[\"prefered_position\"]!='GK')&(df_n['overall']>69)]\n",
    "\n",
    "skills_ratings = skills_ratings = [#'age', 'height_cm', 'weight_kg',\n",
    "       #'potential', #'value_eur', 'wage_eur',\n",
    "       #'weak_foot', 'skill_moves',\n",
    "       #'release_clause_eur',\n",
    "       'pace', 'shooting', 'passing', 'dribbling', 'defending', 'physic',\n",
    "       'gk_diving', 'gk_handling', 'gk_kicking', 'gk_reflexes', 'gk_speed',\n",
    "       'gk_positioning', 'attacking_crossing', 'attacking_finishing',\n",
    "       'attacking_heading_accuracy', 'attacking_short_passing',\n",
    "       'attacking_volleys', 'skill_dribbling', 'skill_curve',\n",
    "       'skill_fk_accuracy', 'skill_long_passing', 'skill_ball_control',\n",
    "       'movement_acceleration', 'movement_sprint_speed', 'movement_agility',\n",
    "       'movement_reactions', 'movement_balance', 'power_shot_power',\n",
    "       'power_jumping', 'power_stamina', 'power_strength', 'power_long_shots',\n",
    "       'mentality_aggression', 'mentality_interceptions',\n",
    "       'mentality_positioning', 'mentality_vision', 'mentality_penalties',\n",
    "       'mentality_composure', 'defending_marking', 'defending_standing_tackle',\n",
    "       'defending_sliding_tackle', 'goalkeeping_diving',\n",
    "       'goalkeeping_handling', 'goalkeeping_kicking',\n",
    "       'goalkeeping_positioning', 'goalkeeping_reflexes',]\n",
    "df_skills=df_n[skills_ratings]\n",
    "df_skills.fillna(0, inplace=True)"
   ]
  },
  {
   "cell_type": "code",
   "execution_count": 213,
   "metadata": {},
   "outputs": [],
   "source": [
    "from sklearn.cluster import KMeans,MeanShift\n",
    "from sklearn import decomposition\n",
    "\n",
    "# Número de clusters buscado\n",
    "n_clust = 3\n",
    "\n",
    "km = KMeans(n_clusters=n_clust)\n",
    "km.fit(df_skills)\n",
    "\n",
    "# Recuperacion de etiquetas\n",
    "clusters = km.labels_\n"
   ]
  },
  {
   "cell_type": "code",
   "execution_count": 214,
   "metadata": {},
   "outputs": [
    {
     "data": {
      "text/plain": [
       "Text(0.5, 1.0, 'Inertia of k-Means versus number of clusters')"
      ]
     },
     "execution_count": 214,
     "metadata": {},
     "output_type": "execute_result"
    },
    {
     "data": {
      "image/png": "[encoded data removed]",
      "text/plain": [
       "<Figure size 432x288 with 1 Axes>"
      ]
     },
     "metadata": {
      "needs_background": "light"
     },
     "output_type": "display_data"
    }
   ],
   "source": [
    "#Prueba: para elegir el hiperparámetro n_clusters, variando de 2 a 11 clusters\n",
    "min_ = 2\n",
    "max_ = 9\n",
    "scores = [KMeans(n_clusters=i).fit(df_skills).inertia_ for i in range(min_,max_)]\n",
    "\n",
    "from matplotlib import pyplot as plt\n",
    "plt.plot(np.arange(min_, max_), scores)\n",
    "plt.xlabel('Number of clusters')\n",
    "plt.ylabel(\"Inertia\")\n",
    "plt.title(\"Inertia of k-Means versus number of clusters\")"
   ]
  },
  {
   "cell_type": "code",
   "execution_count": 217,
   "metadata": {},
   "outputs": [
    {
     "data": {
      "text/plain": [
       "'temp-plot.html'"
      ]
     },
     "execution_count": 217,
     "metadata": {},
     "output_type": "execute_result"
    }
   ],
   "source": [
    "data=[]\n",
    "bool_crack=df_n[\"overall\"] > 85\n",
    "bool_no_crack=df_n[\"overall\"]<86\n",
    "\n",
    "\n",
    "#Eligo dos números entre 0 y  de n_skills-1\n",
    "skill_1='defending_standing_tackle' #skills_ratings[6]\n",
    "skill_2='attacking_volleys' #skills_ratings[25]\n",
    "\n",
    "\n",
    "kmean_clusters = go.Scatter(x=df_skills[skill_1], y=df_skills[skill_2],\n",
    "                           mode='markers',\n",
    "                        text=df_n.loc[:,'short_name'],\n",
    "                           marker=dict(\n",
    "                                size=5,\n",
    "                                color = clusters.astype(np.float), #set color equal to a variable\n",
    "                                colorscale='Portland',\n",
    "                                showscale=False)\n",
    "                           )\n",
    "\n",
    "crack =go.Scatter(x=df_skills.loc[bool_crack,skill_1], y=df_skills.loc[bool_crack,skill_2],name='Top players',\n",
    "                      text=df_n.loc[bool_crack,'short_name'],\n",
    "                      textfont=dict(family='sans serif',size=10,color='black'),\n",
    "                      opacity=0.9,mode='text')\n",
    "\n",
    "data=[kmean_clusters,crack]\n",
    "\n",
    "layout = go.Layout(title=\"Clustering K means \",titlefont=dict(size=20),\n",
    "                xaxis=dict(title=skill_1),\n",
    "                yaxis=dict(title=skill_2),\n",
    "                autosize=False, width=1000,height=1000)\n",
    "\n",
    "fig = go.Figure(data=data, layout=layout)\n",
    "\n",
    "plot(fig)"
   ]
  },
  {
   "cell_type": "code",
   "execution_count": 218,
   "metadata": {},
   "outputs": [],
   "source": [
    "df_clusters = df_n.copy()\n",
    "df_clusters['kmeans'] = km.labels_ #clusters2"
   ]
  },
  {
   "cell_type": "markdown",
   "metadata": {},
   "source": [
    "**Analisis**"
   ]
  },
  {
   "cell_type": "code",
   "execution_count": null,
   "metadata": {},
   "outputs": [],
   "source": []
  },
  {
   "cell_type": "code",
   "execution_count": 219,
   "metadata": {},
   "outputs": [
    {
     "data": {
      "text/html": [
       "<div>\n",
       "<style scoped>\n",
       "    .dataframe tbody tr th:only-of-type {\n",
       "        vertical-align: middle;\n",
       "    }\n",
       "\n",
       "    .dataframe tbody tr th {\n",
       "        vertical-align: top;\n",
       "    }\n",
       "\n",
       "    .dataframe thead th {\n",
       "        text-align: right;\n",
       "    }\n",
       "</style>\n",
       "<table border=\"1\" class=\"dataframe\">\n",
       "  <thead>\n",
       "    <tr style=\"text-align: right;\">\n",
       "      <th></th>\n",
       "      <th>Cantidad de muestras por cluster</th>\n",
       "      <th>Tamaño relativo del cluster (representatividad) [%]</th>\n",
       "    </tr>\n",
       "    <tr>\n",
       "      <th>kmeans</th>\n",
       "      <th></th>\n",
       "      <th></th>\n",
       "    </tr>\n",
       "  </thead>\n",
       "  <tbody>\n",
       "    <tr>\n",
       "      <th>0</th>\n",
       "      <td>1113</td>\n",
       "      <td>21.666342</td>\n",
       "    </tr>\n",
       "    <tr>\n",
       "      <th>1</th>\n",
       "      <td>1942</td>\n",
       "      <td>37.804166</td>\n",
       "    </tr>\n",
       "    <tr>\n",
       "      <th>2</th>\n",
       "      <td>2082</td>\n",
       "      <td>40.529492</td>\n",
       "    </tr>\n",
       "  </tbody>\n",
       "</table>\n",
       "</div>"
      ],
      "text/plain": [
       "        Cantidad de muestras por cluster  \\\n",
       "kmeans                                     \n",
       "0                                   1113   \n",
       "1                                   1942   \n",
       "2                                   2082   \n",
       "\n",
       "        Tamaño relativo del cluster (representatividad) [%]   \n",
       "kmeans                                                        \n",
       "0                                               21.666342     \n",
       "1                                               37.804166     \n",
       "2                                               40.529492     "
      ]
     },
     "execution_count": 219,
     "metadata": {},
     "output_type": "execute_result"
    }
   ],
   "source": [
    "cl_count = df_clusters.groupby(['kmeans']).sofifa_id.count()\n",
    "cl_rel = 100*cl_count/len(df_clusters)\n",
    "pd.DataFrame({'Cantidad de muestras por cluster': cl_count, 'Tamaño relativo del cluster (representatividad) [%] ':cl_rel})"
   ]
  },
  {
   "cell_type": "code",
   "execution_count": 222,
   "metadata": {},
   "outputs": [],
   "source": [
    "# La primera opcion de las posiciones es la preferida por el jugador\n",
    "df_clusters['prefered_position'] = df_clusters.player_positions.str.split(',').apply(lambda l: l[0])\n",
    "# Las posiciones son muchas, asique las resumo en 4 -> arquero, defensor, mediocampo, delantero\n",
    "df_clusters.prefered_position =  df_clusters.prefered_position.apply(lambda x: 'ARQUERO' if x in ['GK'] else x)\n",
    "df_clusters.prefered_position =  df_clusters.prefered_position.apply(lambda x: 'DELANTERO' if x in ['ST','CF','RW','LW'] else x)\n",
    "#df_clusters.prefered_position =  df_clusters.prefered_position.apply(lambda x: 'MEDIOCAMPO' if x in ['CAM','RM','CM','RM','LM','CDM'] else x)\n",
    "df_clusters.prefered_position =  df_clusters.prefered_position.apply(lambda x: 'DEFENSOR' if x in ['RWB','RB','CB','LB','LWB'] else x)"
   ]
  },
  {
   "cell_type": "code",
   "execution_count": 223,
   "metadata": {},
   "outputs": [
    {
     "data": {
      "text/html": [
       "<div>\n",
       "<style scoped>\n",
       "    .dataframe tbody tr th:only-of-type {\n",
       "        vertical-align: middle;\n",
       "    }\n",
       "\n",
       "    .dataframe tbody tr th {\n",
       "        vertical-align: top;\n",
       "    }\n",
       "\n",
       "    .dataframe thead th {\n",
       "        text-align: right;\n",
       "    }\n",
       "</style>\n",
       "<table border=\"1\" class=\"dataframe\">\n",
       "  <thead>\n",
       "    <tr style=\"text-align: right;\">\n",
       "      <th>kmeans</th>\n",
       "      <th>0</th>\n",
       "      <th>1</th>\n",
       "      <th>2</th>\n",
       "    </tr>\n",
       "    <tr>\n",
       "      <th>prefered_position</th>\n",
       "      <th></th>\n",
       "      <th></th>\n",
       "      <th></th>\n",
       "    </tr>\n",
       "  </thead>\n",
       "  <tbody>\n",
       "    <tr>\n",
       "      <th>CAM</th>\n",
       "      <td>0</td>\n",
       "      <td>307</td>\n",
       "      <td>102</td>\n",
       "    </tr>\n",
       "    <tr>\n",
       "      <th>CDM</th>\n",
       "      <td>105</td>\n",
       "      <td>0</td>\n",
       "      <td>414</td>\n",
       "    </tr>\n",
       "    <tr>\n",
       "      <th>CM</th>\n",
       "      <td>2</td>\n",
       "      <td>25</td>\n",
       "      <td>635</td>\n",
       "    </tr>\n",
       "    <tr>\n",
       "      <th>DEFENSOR</th>\n",
       "      <td>1006</td>\n",
       "      <td>0</td>\n",
       "      <td>767</td>\n",
       "    </tr>\n",
       "    <tr>\n",
       "      <th>DELANTERO</th>\n",
       "      <td>0</td>\n",
       "      <td>1114</td>\n",
       "      <td>32</td>\n",
       "    </tr>\n",
       "    <tr>\n",
       "      <th>LM</th>\n",
       "      <td>0</td>\n",
       "      <td>269</td>\n",
       "      <td>61</td>\n",
       "    </tr>\n",
       "    <tr>\n",
       "      <th>RM</th>\n",
       "      <td>0</td>\n",
       "      <td>227</td>\n",
       "      <td>71</td>\n",
       "    </tr>\n",
       "  </tbody>\n",
       "</table>\n",
       "</div>"
      ],
      "text/plain": [
       "kmeans                0     1    2\n",
       "prefered_position                 \n",
       "CAM                   0   307  102\n",
       "CDM                 105     0  414\n",
       "CM                    2    25  635\n",
       "DEFENSOR           1006     0  767\n",
       "DELANTERO             0  1114   32\n",
       "LM                    0   269   61\n",
       "RM                    0   227   71"
      ]
     },
     "execution_count": 223,
     "metadata": {},
     "output_type": "execute_result"
    }
   ],
   "source": [
    "pd.crosstab(df_clusters.prefered_position, df_clusters.kmeans)"
   ]
  },
  {
   "cell_type": "markdown",
   "metadata": {},
   "source": [
    "Sucede lo mismo que en el analisis con arqueros, hacer tres clusters provoca mucho solapamiento, es mejor hacer dos clusters bien definidos\n",
    "- GK -> ARQUERO\n",
    "- ST,CF,RW,LW,CAM,LM,RM -> ATAQUE\n",
    "- RWB,RB,CB,LB,LWB,CDM,CM -> DEFENSA"
   ]
  },
  {
   "cell_type": "code",
   "execution_count": 225,
   "metadata": {},
   "outputs": [],
   "source": [
    "from sklearn.cluster import KMeans,MeanShift\n",
    "from sklearn import decomposition\n",
    "\n",
    "# Número de clusters buscado\n",
    "n_clust = 2\n",
    "\n",
    "km = KMeans(n_clusters=n_clust)\n",
    "km.fit(df_skills)\n",
    "\n",
    "# Recuperacion de etiquetas\n",
    "clusters = km.labels_\n",
    "df_clusters = df_n.copy()\n",
    "df_clusters['kmeans_2'] = km.labels_ #clusters2"
   ]
  },
  {
   "cell_type": "code",
   "execution_count": 226,
   "metadata": {},
   "outputs": [
    {
     "data": {
      "text/html": [
       "<div>\n",
       "<style scoped>\n",
       "    .dataframe tbody tr th:only-of-type {\n",
       "        vertical-align: middle;\n",
       "    }\n",
       "\n",
       "    .dataframe tbody tr th {\n",
       "        vertical-align: top;\n",
       "    }\n",
       "\n",
       "    .dataframe thead th {\n",
       "        text-align: right;\n",
       "    }\n",
       "</style>\n",
       "<table border=\"1\" class=\"dataframe\">\n",
       "  <thead>\n",
       "    <tr style=\"text-align: right;\">\n",
       "      <th>kmeans_2</th>\n",
       "      <th>0</th>\n",
       "      <th>1</th>\n",
       "    </tr>\n",
       "    <tr>\n",
       "      <th>prefered_position_agg</th>\n",
       "      <th></th>\n",
       "      <th></th>\n",
       "    </tr>\n",
       "  </thead>\n",
       "  <tbody>\n",
       "    <tr>\n",
       "      <th>ATAQUE</th>\n",
       "      <td>98</td>\n",
       "      <td>2085</td>\n",
       "    </tr>\n",
       "    <tr>\n",
       "      <th>DEFENSA</th>\n",
       "      <td>2791</td>\n",
       "      <td>163</td>\n",
       "    </tr>\n",
       "  </tbody>\n",
       "</table>\n",
       "</div>"
      ],
      "text/plain": [
       "kmeans_2                  0     1\n",
       "prefered_position_agg            \n",
       "ATAQUE                   98  2085\n",
       "DEFENSA                2791   163"
      ]
     },
     "execution_count": 226,
     "metadata": {},
     "output_type": "execute_result"
    }
   ],
   "source": [
    "# La primera opcion de las posiciones es la preferida por el jugador\n",
    "df_clusters['prefered_position_agg'] = df_clusters.player_positions.str.split(',').apply(lambda l: l[0])\n",
    "# Las posiciones son muchas, asique las resumo en 4 -> arquero, defensor, mediocampo, delantero\n",
    "df_clusters.prefered_position_agg =  df_clusters.prefered_position_agg.apply(lambda x: 'ARQUERO' if x in ['GK'] else x)\n",
    "df_clusters.prefered_position_agg =  df_clusters.prefered_position_agg.apply(lambda x: 'ATAQUE' if x in ['ST','CF','RW','LW','CAM','LM','RM'] else x)\n",
    "df_clusters.prefered_position_agg =  df_clusters.prefered_position_agg.apply(lambda x: 'DEFENSA' if x in ['RWB','RB','CB','LB','LWB','CDM','CM'] else x)\n",
    "pd.crosstab(df_clusters.prefered_position_agg, df_clusters.kmeans_2)\n"
   ]
  },
  {
   "cell_type": "markdown",
   "metadata": {},
   "source": [
    "# 6.-Clustering-Mean-Shift-sin-arqueros "
   ]
  },
  {
   "cell_type": "code",
   "execution_count": 243,
   "metadata": {},
   "outputs": [
    {
     "name": "stdout",
     "output_type": "stream",
     "text": [
      "Estimated BW: 115.84347450189371\n",
      "Numero de clusters encontrado por Mean Shift : 2\n"
     ]
    }
   ],
   "source": [
    "from sklearn.cluster import KMeans,MeanShift,estimate_bandwidth\n",
    "from sklearn import decomposition\n",
    "from sklearn.preprocessing import MinMaxScaler, StandardScaler\n",
    "\n",
    "mms = MinMaxScaler(feature_range=(0,100))\n",
    "#mms = StandardScaler()\n",
    "mms.fit(df_skills)\n",
    "df_scaled = mms.transform(df_skills)\n",
    "bw = estimate_bandwidth(df_scaled)\n",
    "print ('Estimated BW: {}'.format(bw))\n",
    "ms = MeanShift(bandwidth=bw, bin_seeding=False)\n",
    "ms.fit(df_scaled)\n",
    "\n",
    "clusters2 = ms.labels_\n",
    "cluster_centers = ms.cluster_centers_\n",
    "\n",
    "labels_unique = np.unique(clusters2)\n",
    "n_clusters_ = len(labels_unique)\n",
    "\n",
    "print(\"Numero de clusters encontrado por Mean Shift : %d\" % n_clusters_)\n"
   ]
  },
  {
   "cell_type": "code",
   "execution_count": 244,
   "metadata": {},
   "outputs": [
    {
     "data": {
      "text/plain": [
       "'temp-plot.html'"
      ]
     },
     "execution_count": 244,
     "metadata": {},
     "output_type": "execute_result"
    }
   ],
   "source": [
    "data=[]\n",
    "bool_crack=df_n[\"overall\"] > 85\n",
    "bool_no_crack=df_n[\"overall\"]<86\n",
    "\n",
    "\n",
    "#Eligo dos números entre 0 y  de n_skills-1\n",
    "#Eligo dos números entre 0 y  de n_skills-1\n",
    "skill_1='defending_standing_tackle' #skills_ratings[6]\n",
    "skill_2='attacking_volleys' #skills_ratings[25]\n",
    "\n",
    "\n",
    "MeanShift_clusters = go.Scatter(x=df_skills[skill_1], y=df_skills[skill_2],\n",
    "                           mode='markers',\n",
    "                        text=df_n.loc[:,'short_name'],\n",
    "                           marker=dict(\n",
    "                                size=5,\n",
    "                                color = clusters2.astype(np.float), #set color equal to a variable\n",
    "                                colorscale='Portland',\n",
    "                                showscale=False)\n",
    "                           )\n",
    "\n",
    "crack =go.Scatter(x=df_skills.loc[bool_crack,skill_1], y=df_skills.loc[bool_crack,skill_2],name='Top players',\n",
    "                      text=df_n.loc[bool_crack,'short_name'],\n",
    "                      textfont=dict(family='sans serif',size=10,color='black'),\n",
    "                      opacity=0.9,mode='text')\n",
    "\n",
    "data=[MeanShift_clusters,crack]\n",
    "\n",
    "layout = go.Layout(title=\"Mean Shift\",titlefont=dict(size=20),\n",
    "                xaxis=dict(title=skill_1),\n",
    "                yaxis=dict(title=skill_2),\n",
    "                autosize=False, width=1000,height=1000)\n",
    "\n",
    "fig = go.Figure(data=data, layout=layout)\n",
    "\n",
    "plot(fig)"
   ]
  },
  {
   "cell_type": "code",
   "execution_count": 245,
   "metadata": {},
   "outputs": [],
   "source": [
    "df_clusters=df_n.copy()\n",
    "df_clusters['MeanShift'] = ms.labels_ #clusters2"
   ]
  },
  {
   "cell_type": "markdown",
   "metadata": {},
   "source": [
    "**Análisis exploratorio de las clases**"
   ]
  },
  {
   "cell_type": "code",
   "execution_count": null,
   "metadata": {},
   "outputs": [],
   "source": []
  },
  {
   "cell_type": "code",
   "execution_count": 246,
   "metadata": {},
   "outputs": [
    {
     "data": {
      "text/html": [
       "<div>\n",
       "<style scoped>\n",
       "    .dataframe tbody tr th:only-of-type {\n",
       "        vertical-align: middle;\n",
       "    }\n",
       "\n",
       "    .dataframe tbody tr th {\n",
       "        vertical-align: top;\n",
       "    }\n",
       "\n",
       "    .dataframe thead th {\n",
       "        text-align: right;\n",
       "    }\n",
       "</style>\n",
       "<table border=\"1\" class=\"dataframe\">\n",
       "  <thead>\n",
       "    <tr style=\"text-align: right;\">\n",
       "      <th></th>\n",
       "      <th>Cantidad de muestras por cluster</th>\n",
       "      <th>Tamaño relativo del cluster (representatividad) [%]</th>\n",
       "    </tr>\n",
       "    <tr>\n",
       "      <th>MeanShift</th>\n",
       "      <th></th>\n",
       "      <th></th>\n",
       "    </tr>\n",
       "  </thead>\n",
       "  <tbody>\n",
       "    <tr>\n",
       "      <th>0</th>\n",
       "      <td>5133</td>\n",
       "      <td>99.922134</td>\n",
       "    </tr>\n",
       "    <tr>\n",
       "      <th>1</th>\n",
       "      <td>4</td>\n",
       "      <td>0.077866</td>\n",
       "    </tr>\n",
       "  </tbody>\n",
       "</table>\n",
       "</div>"
      ],
      "text/plain": [
       "           Cantidad de muestras por cluster  \\\n",
       "MeanShift                                     \n",
       "0                                      5133   \n",
       "1                                         4   \n",
       "\n",
       "           Tamaño relativo del cluster (representatividad) [%]   \n",
       "MeanShift                                                        \n",
       "0                                                  99.922134     \n",
       "1                                                   0.077866     "
      ]
     },
     "execution_count": 246,
     "metadata": {},
     "output_type": "execute_result"
    }
   ],
   "source": [
    "cl_count = df_clusters.groupby(['MeanShift']).sofifa_id.count()\n",
    "cl_rel = 100*cl_count/len(df_clusters)\n",
    "pd.DataFrame({'Cantidad de muestras por cluster': cl_count, 'Tamaño relativo del cluster (representatividad) [%] ':cl_rel})"
   ]
  },
  {
   "cell_type": "markdown",
   "metadata": {},
   "source": [
    "MeanShift no es capaz de diferenciar mas que un cluster grande, como paso con el item 4, nisiquiera normalizando o estandarizando es capaz de separar ese cluster."
   ]
  }
 ],
 "metadata": {
  "kernelspec": {
   "display_name": "Python 3",
   "language": "python",
   "name": "python3"
  },
  "language_info": {
   "codemirror_mode": {
    "name": "ipython",
    "version": 3
   },
   "file_extension": ".py",
   "mimetype": "text/x-python",
   "name": "python",
   "nbconvert_exporter": "python",
   "pygments_lexer": "ipython3",
   "version": "3.8.5"
  }
 },
 "nbformat": 4,
 "nbformat_minor": 4
}
